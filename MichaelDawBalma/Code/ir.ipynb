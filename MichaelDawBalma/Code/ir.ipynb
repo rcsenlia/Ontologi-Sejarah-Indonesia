{
 "cells": [
  {
   "cell_type": "code",
   "execution_count": 2,
   "outputs": [],
   "source": [
    "import bz2\n",
    "\n",
    "data_path = 'idwiki-latest-pages-articles-multistream.xml.bz2'"
   ],
   "metadata": {
    "collapsed": false,
    "ExecuteTime": {
     "end_time": "2024-02-06T15:32:21.989334500Z",
     "start_time": "2024-02-06T15:32:21.876730200Z"
    }
   },
   "id": "59adceaee1977a30"
  },
  {
   "cell_type": "markdown",
   "source": [
    "## Class Helper"
   ],
   "metadata": {
    "collapsed": false
   },
   "id": "2e3bf2bf4cd139c"
  },
  {
   "cell_type": "code",
   "execution_count": 3,
   "outputs": [],
   "source": [
    "import xml.sax\n",
    "\n",
    "class WikiXmlHandler(xml.sax.handler.ContentHandler):\n",
    "    \"\"\"Content handler for Wiki XML data using SAX\"\"\"\n",
    "    def __init__(self):\n",
    "        xml.sax.handler.ContentHandler.__init__(self)\n",
    "        self._buffer = None\n",
    "        self._values = {}\n",
    "        self._current_tag = None\n",
    "        self._pages = []\n",
    "\n",
    "    def characters(self, content):\n",
    "        \"\"\"Characters between opening and closing tags\"\"\"\n",
    "        if self._current_tag:\n",
    "            self._buffer.append(content)\n",
    "\n",
    "    def startElement(self, name, attrs):\n",
    "        \"\"\"Opening tag of element\"\"\"\n",
    "        if name in ('title', 'text', 'timestamp'):\n",
    "            self._current_tag = name\n",
    "            self._buffer = []\n",
    "\n",
    "    def endElement(self, name):\n",
    "        \"\"\"Closing tag of element\"\"\"\n",
    "        if name == self._current_tag:\n",
    "            self._values[name] = ' '.join(self._buffer)\n",
    "\n",
    "        if name == 'page':\n",
    "            self._pages.append((self._values['title'], self._values['text']))"
   ],
   "metadata": {
    "collapsed": false,
    "ExecuteTime": {
     "end_time": "2024-02-06T15:32:22.135407100Z",
     "start_time": "2024-02-06T15:32:21.898453400Z"
    }
   },
   "id": "3cef6b41b9702c2f"
  },
  {
   "cell_type": "markdown",
   "source": [
    "### Get 5 Judul Artikel"
   ],
   "metadata": {
    "collapsed": false
   },
   "id": "3c91479443c036ab"
  },
  {
   "cell_type": "code",
   "execution_count": 4,
   "outputs": [],
   "source": [
    "# Object for handling xml\n",
    "handler = WikiXmlHandler()\n",
    "\n",
    "# Parsing object\n",
    "parser = xml.sax.make_parser()\n",
    "parser.setContentHandler(handler)\n",
    "\n",
    "for i, line in enumerate(bz2.BZ2File(data_path, 'r')):\n",
    "    if len(handler._pages) == 5:\n",
    "        break\n",
    "        \n",
    "    parser.feed(line)"
   ],
   "metadata": {
    "collapsed": false,
    "ExecuteTime": {
     "end_time": "2024-02-06T15:32:22.208950200Z",
     "start_time": "2024-02-06T15:32:21.913516400Z"
    }
   },
   "id": "af102faee4a60a93"
  },
  {
   "cell_type": "code",
   "execution_count": 5,
   "outputs": [
    {
     "data": {
      "text/plain": "['Asam deoksiribonukleat',\n 'Asam Deoksiribosanukleat',\n 'Anwar Sadat',\n 'Azhar Mansor',\n 'Arkeologi']"
     },
     "execution_count": 5,
     "metadata": {},
     "output_type": "execute_result"
    }
   ],
   "source": [
    "[x[0] for x in handler._pages]"
   ],
   "metadata": {
    "collapsed": false,
    "ExecuteTime": {
     "end_time": "2024-02-06T15:32:22.211937600Z",
     "start_time": "2024-02-06T15:32:21.958773900Z"
    }
   },
   "id": "16d56c83102e7f60"
  },
  {
   "cell_type": "markdown",
   "source": [
    "#### mwparserfromhell"
   ],
   "metadata": {
    "collapsed": false
   },
   "id": "207d6d33410d310e"
  },
  {
   "cell_type": "code",
   "execution_count": 6,
   "outputs": [
    {
     "name": "stdout",
     "output_type": "stream",
     "text": [
      "Anwar Sadat\n"
     ]
    }
   ],
   "source": [
    "import mwparserfromhell\n",
    "\n",
    "print(handler._pages[2][0])\n",
    "\n",
    "# Create the wiki article\n",
    "wiki = mwparserfromhell.parse(handler._pages[2][1])"
   ],
   "metadata": {
    "collapsed": false,
    "ExecuteTime": {
     "end_time": "2024-02-06T15:32:22.222933500Z",
     "start_time": "2024-02-06T15:32:21.972734500Z"
    }
   },
   "id": "ed405d66944ba845"
  },
  {
   "cell_type": "markdown",
   "source": [
    "#### infobox dan data didalamnya"
   ],
   "metadata": {
    "collapsed": false
   },
   "id": "ee40e5ba0a54fe86"
  },
  {
   "cell_type": "code",
   "execution_count": 7,
   "outputs": [
    {
     "name": "stdout",
     "output_type": "stream",
     "text": [
      "There are 33 templates.\n",
      "Infobox officeholder \n",
      " \n",
      "lang\n",
      "List collapsed\n",
      "Plainlist\n",
      "List collapsed\n",
      "Plainlist\n",
      "lang\n",
      "birth date\n",
      "death date and age\n",
      "unbulleted list \n",
      "citation\n",
      "efn\n",
      "IPAc-en\n",
      "IPAc-en\n",
      "IPAc-en\n",
      "cite web\n",
      "Pranala mati\n",
      "Cite Oxford Dictionaries\n",
      "Cite Merriam-Webster\n",
      "lang-ar\n",
      "IPA-arz\n",
      "lahirmati\n",
      "cite news \n",
      "cite web\n",
      "cite news \n",
      "noteslist\n",
      "Reflist\n",
      "kotak mulai\n",
      "kotak suksesi \n",
      "kotak selesai\n",
      "Nobel Perdamaian\n",
      "Authority control\n",
      "DEFAULTSORT:Sadat, Anwar\n"
     ]
    }
   ],
   "source": [
    "templates = wiki.filter_templates()\n",
    "print(f'There are {len(templates)} templates.')\n",
    "for template in templates:\n",
    "    print(template.name)"
   ],
   "metadata": {
    "collapsed": false,
    "ExecuteTime": {
     "end_time": "2024-02-06T15:32:22.223939200Z",
     "start_time": "2024-02-06T15:32:22.026676800Z"
    }
   },
   "id": "24b668e50241cd7"
  },
  {
   "cell_type": "code",
   "execution_count": 8,
   "outputs": [
    {
     "data": {
      "text/plain": "\"{{Infobox officeholder \\n | native_name         = {{lang|ar|أنور السادات}} \\n | image               = Anwar Sadat cropped.jpg \\n | caption             = Anwar Sadat pada 1980 \\n | office              = [[Presiden Mesir]] ke-3 \\n | term_start          = 15 Oktober 1970 \\n | term_end            = 6 Oktober 1981 < br / > Penjabat: 28 September 1970 – 15 Oktober 1970 \\n | vicepresident       = {{List collapsed|title=Lihat daftar|1={{Plainlist| \\n * [[Ali Sabri]] \\n * [[Mahmoud Fawzi]] \\n * [[Hosni Mubarak]] \\n }} \\n }} \\n | primeminister       = {{List collapsed|title=Lihat daftar|1={{Plainlist| \\n * [[Mahmoud Fawzi]] \\n * [[Aziz Sedki]] \\n * ''Diri sendiri'' \\n * [[Abd El Aziz Muhammad Hegazi]] \\n * [[Mamdouh Salem]] \\n * [[Mustafa Khalil]] \\n * ''Diri sendiri'' \\n }} \\n }} \\n | predecessor         = [[Gamal Abdel Nasser]] \\n | successor           = [[Sufi Abu Taleb]] (Acting) \\n | office2             = [[Perdana Menteri Mesir]] \\n | president2          = ''Himself'' \\n | term_start2         = 15 Mei 1980 \\n | term_end2           = 6 Oktober 1981 \\n | predecessor2        = [[Mustafa Khalil]] \\n | successor2          = [[Hosni Mubarak]] \\n | president3          = ''Diri sendiri'' \\n | term_start3         = 26 March 1973 \\n | term_end3           = 25 September 1974 \\n | predecessor3        = [[Aziz Sedki]] \\n | successor3          = [[Abd El Aziz Muhammad Hegazi]] \\n | office4             = [[Wakil Presiden Mesir]] \\n | president4          = [[Gamal Abdel Nasser]] \\n | term_start4         = 19 Desember 1969 \\n | term_end4           = 14 Oktober 1970 \\n | predecessor4        = [[Hussein el-Shafei]] \\n | successor4          = [[Ali Sabri]] \\n | president5          = [[Gamal Abdel Nasser]] \\n | term_start5         = 17 Februari 1964 \\n | term_end5           = 26 Maret 1964 \\n | predecessor5        = [[Hussein el-Shafei]] \\n | successor5          = [[Zakaria Mohieddin]] \\n | office6             = [[Daftar Ketua Majelis Rakyat Mesir|Ketua Majelis Nasional Mesir]] \\n | president6          = [[Gamal Abdel Nasser]] \\n | term_start6         = 21 Juli 1960 \\n | term_end6           = 20 Januari 1969 \\n | predecessor6        = [[Abdel Latif Boghdadi (politikus|Abdel Latif Boghdadi]] \\n | successor6          = Mohamed Labib Skokeir \\n | birth_name          = Muhammad Anwar el-Sadat < br > {{lang|ar|محمد أنور السادات}} \\n | birth_date          = {{birth date|df=yes|1918|12|25}} \\n | birth_place         = [[Kegubernuran Al Minufiyah|Minufiyah]], [[Kesultanan Mesir]] \\n | death_date          = {{death date and age|df=yes|1981|10|6|1918|12|25}} \\n | death_place         = [[Kairo]], [[Mesir]] \\n | death_cause         = [[Pembunuhan Anwar Sadat|Luka tembak]] \\n | resting_place       = [[Memorial Prajurit Tidak Dikenal (Mesir)|Memorial Prajurit Tidak Dikenal]] di Kairo \\n | spouse              = {{unbulleted list |Eqbal Afifi (Madi) < ref > {{citation|last=Finklestone|first=Joseph|year=2013|title=Anwar Sadat: Visionary Who Dared|publisher=[[Routledge]]|isbn=978-1135195656|quote=Significantly, Anwar Sadat did not mention aspects in his early life...It was in Mit Abul-Kum that Eqbal Afifi, the woman who was his wife for ten years and whom he left, was also born. Her family was of higher social standing than Anwar's, being of Turkish origin...|url-access=registration|url=https://archive.org/details/anwarsadatvision0000fink}} < /ref > | [[Jehan Sadat]]}} \\n | children            = 7 \\n | party               = [[Partai Nasional Demokrat (Mesir)|Partai Nasional Demokrat]] \\n | otherparty          = [[Persatuan Sosialis Arab (Mesir)|Persatuan Sosialis Arab]] \\n | alma_mater          = [[Universitas Alexandria]] \\n | allegiance          = Mesir \\n | branch              = [[Angkatan Bersenjata Mesir]] \\n | serviceyears        = 1938–1952 \\n | rank                = [[File:Turco-Egyptian ka'im makam.gif|25px]] [[Kolonel]] \\n | signature           = Anwar El Sadat Signature.svg \\n }}\""
     },
     "execution_count": 8,
     "metadata": {},
     "output_type": "execute_result"
    }
   ],
   "source": [
    "infobox = wiki.filter_templates(matches = 'Infobox')[0]\n",
    "infobox"
   ],
   "metadata": {
    "collapsed": false,
    "ExecuteTime": {
     "end_time": "2024-02-06T15:32:22.224940900Z",
     "start_time": "2024-02-06T15:32:22.036860300Z"
    }
   },
   "id": "f3d207e054148cc8"
  },
  {
   "cell_type": "code",
   "execution_count": 9,
   "outputs": [
    {
     "data": {
      "text/plain": "{'native_name': '',\n 'image': 'Anwar Sadat cropped.jpg',\n 'caption': 'Anwar Sadat pada 1980',\n 'office': 'Presiden Mesir ke-3',\n 'term_start': '15 Oktober 1970',\n 'term_end': '6 Oktober 1981 < br / > Penjabat: 28 September 1970 – 15 Oktober 1970',\n 'vicepresident': '',\n 'primeminister': '',\n 'predecessor': 'Gamal Abdel Nasser',\n 'successor': 'Sufi Abu Taleb (Acting)',\n 'office2': 'Perdana Menteri Mesir',\n 'president2': 'Himself',\n 'term_start2': '15 Mei 1980',\n 'term_end2': '6 Oktober 1981',\n 'predecessor2': 'Mustafa Khalil',\n 'successor2': 'Hosni Mubarak',\n 'president3': 'Diri sendiri',\n 'term_start3': '26 March 1973',\n 'term_end3': '25 September 1974',\n 'predecessor3': 'Aziz Sedki',\n 'successor3': 'Abd El Aziz Muhammad Hegazi',\n 'office4': 'Wakil Presiden Mesir',\n 'president4': 'Gamal Abdel Nasser',\n 'term_start4': '19 Desember 1969',\n 'term_end4': '14 Oktober 1970',\n 'predecessor4': 'Hussein el-Shafei',\n 'successor4': 'Ali Sabri',\n 'president5': 'Gamal Abdel Nasser',\n 'term_start5': '17 Februari 1964',\n 'term_end5': '26 Maret 1964',\n 'predecessor5': 'Hussein el-Shafei',\n 'successor5': 'Zakaria Mohieddin',\n 'office6': 'Ketua Majelis Nasional Mesir',\n 'president6': 'Gamal Abdel Nasser',\n 'term_start6': '21 Juli 1960',\n 'term_end6': '20 Januari 1969',\n 'predecessor6': 'Abdel Latif Boghdadi',\n 'successor6': 'Mohamed Labib Skokeir',\n 'birth_name': 'Muhammad Anwar el-Sadat < br >',\n 'birth_date': '',\n 'birth_place': 'Minufiyah, Kesultanan Mesir',\n 'death_date': '',\n 'death_place': 'Kairo, Mesir',\n 'death_cause': 'Luka tembak',\n 'resting_place': 'Memorial Prajurit Tidak Dikenal di Kairo',\n 'spouse': '',\n 'children': '7',\n 'party': 'Partai Nasional Demokrat',\n 'otherparty': 'Persatuan Sosialis Arab',\n 'alma_mater': 'Universitas Alexandria',\n 'allegiance': 'Mesir',\n 'branch': 'Angkatan Bersenjata Mesir',\n 'serviceyears': '1938–1952',\n 'rank': '25px Kolonel',\n 'signature': 'Anwar El Sadat Signature.svg'}"
     },
     "execution_count": 9,
     "metadata": {},
     "output_type": "execute_result"
    }
   ],
   "source": [
    "information = {param.name.strip_code().strip(): param.value.strip_code().strip() for param in infobox.params}\n",
    "information"
   ],
   "metadata": {
    "collapsed": false,
    "ExecuteTime": {
     "end_time": "2024-02-06T15:32:22.225941300Z",
     "start_time": "2024-02-06T15:32:22.043337400Z"
    }
   },
   "id": "67791deb9649b2ad"
  },
  {
   "cell_type": "markdown",
   "source": [
    "#### what if dia gaada infobox?"
   ],
   "metadata": {
    "collapsed": false
   },
   "id": "f2bca8bd79f3ed74"
  },
  {
   "cell_type": "code",
   "execution_count": 10,
   "outputs": [
    {
     "name": "stdout",
     "output_type": "stream",
     "text": [
      "Asam deoksiribonukleat\n"
     ]
    }
   ],
   "source": [
    "print(handler._pages[0][0])\n",
    "\n",
    "# Create the wiki article\n",
    "wiki_without_infobox = mwparserfromhell.parse(handler._pages[0][1])"
   ],
   "metadata": {
    "collapsed": false,
    "ExecuteTime": {
     "end_time": "2024-02-06T15:32:22.252939800Z",
     "start_time": "2024-02-06T15:32:22.053647500Z"
    }
   },
   "id": "ba4f20390fde7b0a"
  },
  {
   "cell_type": "code",
   "execution_count": 11,
   "outputs": [
    {
     "name": "stdout",
     "output_type": "stream",
     "text": [
      "There are 52 templates.\n",
      "genetika\n",
      "Cite book\n",
      "cite book\n",
      "cite journal \n",
      "cite book\n",
      "cite book\n",
      "cite book\n",
      "en\n",
      "cite web \n",
      " \n",
      "cite journal \n",
      "cite journal \n",
      "cite journal \n",
      "cite journal \n",
      "cite journal \n",
      "cite journal \n",
      "cite journal \n",
      "cite journal \n",
      "DOI\n",
      "cite journal \n",
      "cite journal \n",
      "cite journal \n",
      "cite journal \n",
      "cite journal \n",
      "cite journal \n",
      "cite journal \n",
      "cite journal \n",
      "cite journal \n",
      "cite journal \n",
      "Further2\n",
      "cite journal \n",
      "cite journal \n",
      "cite journal \n",
      "cite journal \n",
      "Further2\n",
      "cite journal \n",
      "cite journal \n",
      "cite journal \n",
      "cite journal \n",
      "cite journal \n",
      "Further2\n",
      "cite journal \n",
      "cite journal \n",
      "cite journal \n",
      "cite journal \n",
      "Cite web\n",
      "Cite web\n",
      "lang-en\n",
      "en\n",
      "cite book \n",
      " \n",
      "reflist\n",
      "Asam nukleat\n",
      "Authority control\n"
     ]
    }
   ],
   "source": [
    "templates_without_infobox = wiki_without_infobox.filter_templates()\n",
    "print(f'There are {len(templates_without_infobox)} templates.')\n",
    "for template in templates_without_infobox:\n",
    "    print(template.name)"
   ],
   "metadata": {
    "collapsed": false,
    "ExecuteTime": {
     "end_time": "2024-02-06T15:32:22.252939800Z",
     "start_time": "2024-02-06T15:32:22.080757600Z"
    }
   },
   "id": "3483d35136fea072"
  },
  {
   "cell_type": "code",
   "execution_count": 34,
   "outputs": [
    {
     "data": {
      "text/plain": "[]"
     },
     "execution_count": 34,
     "metadata": {},
     "output_type": "execute_result"
    }
   ],
   "source": [
    "without_infobox = wiki_without_infobox.filter_templates(matches = 'Infobox')\n",
    "without_infobox"
   ],
   "metadata": {
    "collapsed": false,
    "ExecuteTime": {
     "end_time": "2024-02-07T00:44:54.537773600Z",
     "start_time": "2024-02-07T00:44:54.525981400Z"
    }
   },
   "id": "ce737a1b47f621d4"
  },
  {
   "cell_type": "markdown",
   "source": [
    "### Cari yg contain sejarah indonesia di index.txt nya"
   ],
   "metadata": {
    "collapsed": false,
    "ExecuteTime": {
     "end_time": "2024-02-07T00:45:21.282130800Z",
     "start_time": "2024-02-07T00:45:21.251384200Z"
    }
   },
   "id": "980cbc445a40046d"
  },
  {
   "cell_type": "code",
   "execution_count": 13,
   "outputs": [],
   "source": [
    "index_path = 'idwiki-latest-pages-articles-multistream-index.txt.bz2'"
   ],
   "metadata": {
    "collapsed": false,
    "ExecuteTime": {
     "end_time": "2024-02-06T15:32:22.253939100Z",
     "start_time": "2024-02-06T15:32:22.103145500Z"
    }
   },
   "id": "772a9e20b49ed373"
  },
  {
   "cell_type": "code",
   "execution_count": 14,
   "outputs": [],
   "source": [
    "index_list = []\n",
    "\n",
    "for i, line in enumerate(bz2.BZ2File(index_path, 'r')):\n",
    "    line = line.decode('utf-8')\n",
    "\n",
    "    if ('Sejarah Indonesia' in line):\n",
    "        index_list.append(line)"
   ],
   "metadata": {
    "collapsed": false,
    "ExecuteTime": {
     "end_time": "2024-02-06T15:32:27.829144700Z",
     "start_time": "2024-02-06T15:32:22.110403400Z"
    }
   },
   "id": "1c0b2f05240a565a"
  },
  {
   "cell_type": "code",
   "execution_count": 15,
   "outputs": [
    {
     "data": {
      "text/plain": "['16042049:8552:Kategori:Sejarah Indonesia\\n',\n '26611995:15867:Templat:Sejarah Indonesia\\n',\n '83543263:83411:Sejarah Indonesia (1945–1949)\\n',\n '122821675:196087:Potret Sejarah Indonesia\\n',\n '126008388:203256:Sejarah Indonesia (Era Orde Baru)\\n',\n '143388604:245643:Sejarah Indonesia (1509-1602)\\n',\n '143388604:245645:Sejarah Indonesia (1602-1800)\\n',\n '143388604:245647:Sejarah Indonesia (1800-1940)\\n',\n '206949110:450548:Sejarah Indonesia\\n',\n '209088818:458718:Kategori:Sejarah Indonesia menurut provinsi\\n',\n '222417206:525660:Sejarah Indonesia (1942-1945)\\n',\n '222417206:525664:Sejarah Indonesia (1968-1998)\\n',\n '222417206:525666:Sejarah Indonesia (1959-1968)\\n',\n '225497047:532851:Wikipedia:Artikel pilihan/Usulan/Sejarah Indonesia\\n',\n '253461123:652243:Kategori:Sejarah Indonesia menurut kota\\n',\n '283296905:777199:Sejarah Indonesia (1945-1949)\\n',\n '356317956:1151450:Sejarah Indonesia (1965–1966)\\n',\n '356317956:1151468:Sejarah Indonesia (1959-1966)\\n',\n '384483829:1401781:Templat:Sejarah Indonesia navbox\\n',\n '384534122:1401843:Sejarah Indonesia (1959-1965)\\n',\n '384534122:1401846:Sejarah Indonesia (1950-1959)\\n',\n '421736507:1607791:Sejarah Indonesia (1966-1998)\\n',\n '478230075:1997205:Wikipedia:Buku/Sejarah Indonesia\\n',\n '512275133:2161836:Portal:Sejarah Indonesia\\n',\n '512275133:2161838:Portal:Sejarah Indonesia/box-header\\n',\n '512275133:2161840:Portal:Sejarah Indonesia/Kategori\\n',\n '512275133:2161841:Portal:Sejarah Indonesia/box-footer\\n',\n '512376378:2161853:Portal:Sejarah Indonesia/Tokoh pilihan/1\\n',\n '512376378:2161855:Portal:Sejarah Indonesia/Artikel pilihan/1\\n',\n '551671897:2427321:Wikipedia:Bulan Sejarah Indonesia\\n',\n '551671897:2427365:Sejarah Indonesia (1965-1966)\\n',\n '551671897:2427367:Sejarah Indonesia (1998-sekarang)\\n',\n '556264111:2445691:Wikipedia:Bulan Sejarah Indonesia/Peserta\\n',\n '756620175:3144831:Wikipedia:Bulan Sejarah Indonesia 2.0\\n',\n '756750074:3144984:Templat:Bulan Sejarah Indonesia 2.0\\n',\n '781035256:3223972:Kategori:Sejarah Indonesia menurut periode\\n',\n '916943435:3846576:Sejarah Indonesia (1959–1965)\\n',\n '916943435:3846609:Sejarah Indonesia (1950–1959)\\n',\n '917016662:3846657:Sejarah Indonesia (1998–sekarang)\\n',\n '939002941:3962800:Kategori:Artikel Bulan Sejarah Indonesia 2.0\\n']"
     },
     "execution_count": 15,
     "metadata": {},
     "output_type": "execute_result"
    }
   ],
   "source": [
    "index_list"
   ],
   "metadata": {
    "collapsed": false,
    "ExecuteTime": {
     "end_time": "2024-02-06T15:32:27.843973200Z",
     "start_time": "2024-02-06T15:32:27.832144700Z"
    }
   },
   "id": "149513c3c13ed37c"
  },
  {
   "cell_type": "markdown",
   "source": [
    "##### Index ternyata berisi title"
   ],
   "metadata": {
    "collapsed": false
   },
   "id": "ce931db131d4e88d"
  },
  {
   "cell_type": "markdown",
   "source": [
    "### What to do with the index?"
   ],
   "metadata": {
    "collapsed": false
   },
   "id": "d961446d40ba76e3"
  },
  {
   "cell_type": "code",
   "execution_count": 16,
   "outputs": [],
   "source": [
    "class SejarahIndonesiaHandler(WikiXmlHandler):\n",
    "    def endElement(self, name):\n",
    "        \"\"\"Closing tag of element\"\"\"\n",
    "        if name == self._current_tag:\n",
    "            self._values[name] = ' '.join(self._buffer)\n",
    "\n",
    "        if name == 'page' and ('[[Kategori:Sejarah Indonesia]]' in self._values['text']):\n",
    "            self._pages.append((self._values['title'], self._values['text']))"
   ],
   "metadata": {
    "collapsed": false,
    "ExecuteTime": {
     "end_time": "2024-02-06T15:32:27.902126500Z",
     "start_time": "2024-02-06T15:32:27.851985100Z"
    }
   },
   "id": "f2e923ae8afb3ae5"
  },
  {
   "cell_type": "code",
   "execution_count": 17,
   "outputs": [],
   "source": [
    "# Object for handling xml\n",
    "sejarah_indonesia_handler = SejarahIndonesiaHandler()\n",
    "\n",
    "# Parsing object\n",
    "sejarah_indonesia_parser = xml.sax.make_parser()\n",
    "sejarah_indonesia_parser.setContentHandler(sejarah_indonesia_handler)\n",
    "\n",
    "for i, line in enumerate(bz2.BZ2File(data_path, 'r')):\n",
    "    sejarah_indonesia_parser.feed(line)"
   ],
   "metadata": {
    "collapsed": false,
    "ExecuteTime": {
     "end_time": "2024-02-06T15:39:56.756546400Z",
     "start_time": "2024-02-06T15:32:27.863080600Z"
    }
   },
   "id": "adc0c87f59721a3"
  },
  {
   "cell_type": "code",
   "execution_count": 18,
   "outputs": [
    {
     "data": {
      "text/plain": "539"
     },
     "execution_count": 18,
     "metadata": {},
     "output_type": "execute_result"
    }
   ],
   "source": [
    "len(sejarah_indonesia_handler._pages)"
   ],
   "metadata": {
    "collapsed": false,
    "ExecuteTime": {
     "end_time": "2024-02-06T15:39:56.767371700Z",
     "start_time": "2024-02-06T15:39:56.757541800Z"
    }
   },
   "id": "b15931a7982b5f35"
  },
  {
   "cell_type": "code",
   "execution_count": 19,
   "outputs": [
    {
     "data": {
      "text/plain": "'Dekrit Presiden Republik Indonesia 1959'"
     },
     "execution_count": 19,
     "metadata": {},
     "output_type": "execute_result"
    }
   ],
   "source": [
    "sejarah_indonesia_handler._pages[1][0]"
   ],
   "metadata": {
    "collapsed": false,
    "ExecuteTime": {
     "end_time": "2024-02-06T15:39:56.780536600Z",
     "start_time": "2024-02-06T15:39:56.765364400Z"
    }
   },
   "id": "173649f03310bc14"
  },
  {
   "cell_type": "code",
   "execution_count": 20,
   "outputs": [
    {
     "data": {
      "text/plain": "\"{{short description|Keputusan Presiden Sukarno untuk kembali kepada Undang-Undang Dasar 1945}} \\n {{Infobox legislation \\n |short_title         = Dekrit No. 150 tahun 1959 \\n |legislature         = [[Presiden Indonesia|Presiden Republik Indonesia]] \\n |long_title          = Keputusan Presiden Republik Indonesia Nomor 150 Tahun 1959 Tentang Kembali kepada Undang-Undang Dasar 1945 \\n |image               = Indonesian Presidential Seal gold.svg \\n |imagesize           = 150px \\n |imagealt            =  \\n |citation            =  \\n |territorial_extent  = [[Indonesia]] \\n |enacted_by          = [[Soekarno]] \\n |date_signed         = 5 Juli 1959 \\n |date_assented       =  \\n |date_enacted        = 5 Juli 1959 \\n |date_commenced      = 5 Juli 1959 \\n }} \\n [[Berkas:1959 Decree 1.jpg|300px|jmpl|Dekret Presiden 1959]] \\n {{Sejarah Indonesia}} \\n '''Keputusan Presiden Nomor 150 Tahun 1959 tentang Kembali kepada Undang-Undang Dasar 1945''', atau yang lebih dikenal sebagai '''Dekret Presiden 5 Juli 1959''', adalah [[dekret]] (secara legal [[Keputusan Presiden (Indonesia)|Keputusan Presiden]]) yang dikeluarkan oleh Presiden [[Indonesia]] yang pertama, [[Soekarno]] pada 5 Juli 1959. Isi dekret ini adalah pembubaran [[Badan Konstituante]] hasil [[Pemilu 1955]] dan penggantian undang-undang dasar dari [[Undang-Undang Dasar Sementara Republik Indonesia|UUD Sementara 1950]] ke [[UUD '45]].  \\n \\n {{wikisource|Dekret Presiden Republik Indonesia tentang Kembali kepada Undang-Undang Dasar 1945}} \\n {{wikisource|5 Juli}} \\n \\n == Latar belakang == \\n Dekret Presiden 1959 dilatarbelakangi oleh kegagalan Badan [[Konstituante]] untuk menetapkan [[UUD]] baru sebagai pengganti [[UUDS 1950]]. Anggota [[Konstituante]] mulai bersidang pada 10 November 1956, tetapi pada kenyataannya hingga tahun 1958 belum berhasil merumuskan UUD yang diharapkan. Sementara, di kalangan masyarakat pendapat-pendapat untuk kembali kepada [[UUD '45]] semakin kuat. Dalam menanggapi hal itu, [[Soekarno|Presiden Ir. Soekarno]] lantas menyampaikan amanat di depan sidang [[Konstituante]] pada 22 April 1959 yang isinya menganjurkan untuk kembali ke [[UUD '45]]. \\n \\n Pada 30 Mei 1959 [[Konstituante]] melaksanakan pemungutan suara. Hasilnya 269 suara menyetujui UUD 1945 dan 199 suara tidak setuju. Meskipun yang menyatakan setuju lebih banyak, pemungutan suara ini harus diulang karena jumlah suara tidak memenuhi {{wikt|kuorum}}. Pemungutan suara kembali dilakukan pada tanggal 1 dan 2 Juni 1959. Dari pemungutan suara ini [[Konstituante]] juga gagal mencapai kuorum. Untuk meredam kemacetan, pada tanggal 3 Juni 1959 [[Konstituante]] mengadakan reses (masa perhentian sidang [[parlemen]]; masa istirahat dari kegiatan bersidang) yang kemudian terungkap untuk selamanya. Untuk mencegah terjadinya hal-hal yang tidak diinginkan, maka [[Abdul Haris Nasution|Kepala Staf Angkatan Darat (KSAD) Letnan Jenderal A.H. Nasution]] atas nama Pemerintah/Penguasa Perang Pusat (Peperpu), mengeluarkan peraturan No.Prt/Peperpu/040/1959 yang berisi larangan melakukan kegiatan-kegiatan politik. Pada tanggal 16 Juni 1959, Ketua Umum PNI [[Suwirjo]] mengirimkan surat kepada Presiden agar mendekritkan berlakunya kembali [[Undang-Undang Dasar Negara Republik Indonesia Tahun 1945|UUD 1945]] dan membubarkan [[Konstituante]]. \\n \\n == Referensi == \\n * Riklefs (1982), ''A History of Modern Indonesia'', Macmillan Southeast Asian reprint, {{ISBN|0-333-24380-3}} \\n * Sekretariat Negara Republik Indonesia (1975) ''30 Tahun Indonesia Merdeka: Jilid 2 (1950–1964) (30 Years of Indonesian Independence: Volume 2 (1950–1964))'' \\n \\n == Pranala luar == \\n * [http://www.scribd.com/doc/3977151/Dekret-Presiden-5-Juli-1959-salinan= Dekret Presiden 5 Juli 1959 (salinan)] \\n \\n {{Topik Indonesia}} \\n {{Soekarno}} \\n {{Bencana di Indonesia tahun 1950an}} \\n \\n [[Kategori:Peristiwa 1959]] \\n [[Kategori:Sejarah Indonesia]] \\n [[Kategori:Indonesia dalam tahun 1959]]\""
     },
     "execution_count": 20,
     "metadata": {},
     "output_type": "execute_result"
    }
   ],
   "source": [
    "sejarah_indonesia_handler._pages[1][1]"
   ],
   "metadata": {
    "collapsed": false,
    "ExecuteTime": {
     "end_time": "2024-02-06T15:39:56.841380600Z",
     "start_time": "2024-02-06T15:39:56.774561300Z"
    }
   },
   "id": "c076af4d4e70e360"
  },
  {
   "cell_type": "code",
   "execution_count": 21,
   "outputs": [
    {
     "name": "stdout",
     "output_type": "stream",
     "text": [
      "Daftar presiden Indonesia\n",
      "Dekrit Presiden Republik Indonesia 1959\n",
      "Surat Perintah Sebelas Maret\n",
      "Konstituante Republik Indonesia\n",
      "Volksraad\n",
      "Pendudukan Jepang di Hindia-Belanda\n",
      "Vivere pericoloso\n",
      "Partai Komunis Indonesia\n",
      "Komando Operasi Pemulihan Keamanan dan Ketertiban\n",
      "Peristiwa Kapal Tujuh Provinsi\n",
      "Kategori:Sejarah Nusantara\n",
      "Pancasila\n",
      "Kesultanan Aceh\n",
      "Proklamasi Kemerdekaan Indonesia\n",
      "Perundingan Linggarjati\n",
      "Pemerintahan Darurat Republik Indonesia\n",
      "Gunting Syafruddin\n",
      "Gerakan 30 September\n",
      "Sejarah Nusantara (1602–1800)\n",
      "Orde Baru\n",
      "Reformasi Indonesia (1998–sekarang)\n",
      "Eduard Douwes Dekker\n",
      "Perang Bubat\n",
      "Perusahaan Hindia Timur Belanda\n",
      "Peristiwa Rengasdengklok\n",
      "Ianfu\n",
      "Orde Lama\n",
      "Kategori:Pahlawan nasional Indonesia\n",
      "Perjanjian Roem-Roijen\n",
      "Konferensi Meja Bundar\n",
      "Manifesto Kebudayaan\n",
      "Jalan Raya Pos\n",
      "Pemberontakan PKI 1948\n",
      "Meer Uitgebreid Lager Onderwijs\n",
      "Europeesche Lagere School\n",
      "Henk Sneevliet\n",
      "Babad Suropati\n",
      "Malari\n",
      "Kategori:Gerakan mahasiswa\n",
      "Peristiwa Gejayan\n",
      "Algemeene Middelbare School\n",
      "Ade Irma Suryani Nasution\n",
      "Oeang Republik Indonesia\n",
      "Politik Etis\n",
      "Sejarah Nusantara (1800–1942)\n",
      "Sumpah Pemuda\n",
      "Permesta\n",
      "Sejarah Nusantara (1509–1602)\n",
      "Serangan Umum 1 Maret 1949\n",
      "Agresi Militer Belanda II\n",
      "Dakota RI-001 Seulawah\n",
      "Nyai\n",
      "Petisi Soetardjo\n",
      "Gabungan Politik Indonesia\n",
      "Majelis Permusyawaratan Rakyat Sementara\n",
      "Republik Indonesia Serikat\n",
      "Peristiwa 3 Juli 1946\n",
      "Persatuan Perjuangan\n",
      "Perjanjian Renville\n",
      "Mafia Berkeley\n",
      "Kerajaan Kalingga\n",
      "Penentuan Pendapat Rakyat\n",
      "Aksi Polisionil\n",
      "Gerakan mahasiswa Indonesia 1998\n",
      "Ainaro\n",
      "Liquiçá\n",
      "Suai\n",
      "Badan Permusjawaratan Kewarganegaraan Indonesia\n",
      "De-Soekarnoisasi\n",
      "Tri Tuntutan Rakyat\n",
      "Aji Raja Mahkota Mulia Alam\n",
      "Djawoto\n",
      "Sendang Siwani\n",
      "Rōmusha\n",
      "Negara Islam Indonesia\n",
      "Gerakan mahasiswa di Indonesia\n",
      "Hoogere Burgerschool\n",
      "Hollandsche Chineesche School\n",
      "Radio Rimba Raya\n",
      "Patung Dirgantara\n",
      "Agresi Militer Belanda I\n",
      "Puputan\n",
      "Kategori:Tokoh Indonesia di pengasingan\n",
      "Kategori:Kerusuhan Mei 1998\n",
      "Pembantaian Westerling\n",
      "Kudeta APRA\n",
      "Pembela Tanah Air\n",
      "Angkatan Kelima\n",
      "Heiho\n",
      "Badan Keamanan Rakyat\n",
      "Tentara Keamanan Rakyat\n",
      "Sejarah Indonesia (1945–1949)\n",
      "Demokrasi Terpimpin (1959–1965)\n",
      "Nasakom\n",
      "Legiun Veteran Republik Indonesia\n",
      "Era Demokrasi Liberal (1950–1959)\n",
      "Timor Timur\n",
      "Perjanjian Inggris-Belanda 1824\n",
      "Kategori:Kerajaan di Indonesia\n",
      "Sejarah Pertahanan Indonesia\n",
      "Linggajati, Cilimus, Kuningan\n",
      "Kategori:Peninggalan sejarah di Indonesia\n",
      "Manusia Jawa\n",
      "Algemene Vernielings Corps\n",
      "School tot Opleiding van Inlandsche Artsen\n",
      "Sejarah perkeretaapian di Indonesia\n",
      "Pembantaian Rawagede\n",
      "Hari Ibu\n",
      "Deklarasi Djuanda\n",
      "Daftar kecelakaan dan insiden kapal di Indonesia\n",
      "Kategori:Orde Baru\n",
      "Kesultanan Samudera Pasai\n",
      "Daftar kecelakaan kereta api di Indonesia\n",
      "Tiong Hoa Hwee Koan\n",
      "Maeda Tadashi\n",
      "Barisan Pelopor\n",
      "Rapat Raksasa Lapangan Ikada\n",
      "Pusat Tenaga Rakyat\n",
      "Piagam Jakarta\n",
      "Majelis Islam A'la Indonesia\n",
      "Kategori:BPUPKI\n",
      "Daftar kerajaan yang pernah ada di Nusantara\n",
      "Matahari (surat kabar)\n",
      "Nederlandsch-Indische Artsen School\n",
      "Pemufakatan Perhimpunan-Perhimpunan Politik Kebangsaan Indonesia\n",
      "Kategori:Sejarah Islam di Indonesia\n",
      "Dewan Perwalian Pakualaman\n",
      "Kategori:Republik Indonesia Serikat\n",
      "Perjanjian Politik 17 Maret 1813\n",
      "Hollandsch-Inlandsche School\n",
      "Pemerintahan Revolusioner Republik Indonesia\n",
      "Pendudukan Gedung DPR/MPR\n",
      "Keta\n",
      "Palagan Ambarawa\n",
      "Pertempuran Bojong Kokosan\n",
      "Pelanggaran hak asasi manusia oleh Tentara Nasional Indonesia\n",
      "Daftar gempa bumi di Indonesia\n",
      "Lamri\n",
      "Hidayatullah dari Banjar\n",
      "Wehrkreise\n",
      "Komando Mandala\n",
      "Operasi Jayawijaya\n",
      "Peristiwa Cimanggis\n",
      "Mia Patamiana\n",
      "Masjid Mantingan\n",
      "Lambang negara Indonesia\n",
      "Peraturan terhadap orang Tionghoa di Indonesia\n",
      "Pertempuran Palembang\n",
      "Kepala pemerintahan Indonesia\n",
      "Pertempuran Laut Jawa\n",
      "Panitia Sembilan\n",
      "Pertempuran Selat Badung\n",
      "Terorisme di Indonesia\n",
      "Prajurit Patangpuluhan\n",
      "Tuhfat al-Nafis\n",
      "Kebudayaan Dongson\n",
      "Pertempuran Laut Jawa II\n",
      "Kategori:Kejahatan di Indonesia\n",
      "Guningbhaya\n",
      "Algemeene Vereeniging van Rubberplanters ter Oostkust van Sumatra\n",
      "Peristiwa 17 Oktober\n",
      "CONEFO\n",
      "Perjanjian New York\n",
      "Pertempuran Balikpapan (1942)\n",
      "Berita Tiongkok\n",
      "Pertempuran Balikpapan (1945)\n",
      "Pertempuran Tarakan (1945)\n",
      "Allen Lawrence Pope\n",
      "Cagar budaya Indonesia\n",
      "Peristiwa Tanjung Morawa\n",
      "Kategori:Pendudukan Jepang di Indonesia\n",
      "Perang Takhta Jawa Kedua\n",
      "Kweekschool\n",
      "Tweede Inlandsche School\n",
      "Hollandsch Javaansche School\n",
      "Schakelschool\n",
      "Komite Nasional Indonesia Pusat\n",
      "Hollandsch Inlandsche Kweekschool\n",
      "Rumusan-rumusan Pancasila\n",
      "Operasi militer Indonesia di Aceh 2003–2004\n",
      "Ilyas Karim\n",
      "Pemberontakan di Aceh\n",
      "Palangka\n",
      "Giyugun\n",
      "Pendudukan Indonesia di Provinsi Timor Timur\n",
      "Sumpah Pemuda Keturunan Arab\n",
      "Kategori:Tokoh Petisi 50\n",
      "Petisi 50\n",
      "Mosi Integral Natsir\n",
      "Pasukan Pengamanan Masyarakat Swakarsa\n",
      "Pocut Meuligoe\n",
      "Kategori:Sejarah pers Indonesia\n",
      "Katholieke Kweekschool\n",
      "Wilayah Majapahit\n",
      "Pengging\n",
      "Malikussaleh dari Samudera Pasai\n",
      "Europeesche Kweekschool\n",
      "Garis waktu sejarah Indonesia\n",
      "Gulden Papua Barat\n",
      "Kebudayaan Buni\n",
      "Gereja di Indonesia\n",
      "Repatriasi\n",
      "Wiswarupakumara\n",
      "Hari Ayah\n",
      "Jong Sumatranen Bond\n",
      "Sejarah pemerintahan daerah di Indonesia\n",
      "Kerajaan Tasifeto\n",
      "Aktivitas CIA di Indonesia\n",
      "Konferensi Malino\n",
      "Uang koin rupiah\n",
      "Sejarah provinsi di Indonesia\n",
      "Ekspedisi Tanah Gayo, Alas, dan Batak\n",
      "Serangan Umum Surakarta\n",
      "Penembakan misterius\n",
      "Kebangkitan Nasional Indonesia\n",
      "Avisa Relation oder Zeitung\n",
      "Perang Bone (1859-1860)\n",
      "Kapitan Cina\n",
      "Kempeitai\n",
      "Indo-Europeesch Verbond\n",
      "Hubungan nelayan Makassar dengan Australia\n",
      "Pertempuran Lengkong\n",
      "Jong Java\n",
      "Pemoeda Kaoem Betawi\n",
      "Perhimpoenan Peladjar-Peladjar Indonesia\n",
      "Kesatuan Aksi Mahasiswa Indonesia\n",
      "Jong Bataks Bond\n",
      "Jong Minahasa\n",
      "Konferensi Pangkal Pinang\n",
      "Konferensi Denpasar\n",
      "Sinterklas Hitam\n",
      "Negara Sumatera Selatan\n",
      "Bencana alam di Indonesia sejak tahun 2004\n",
      "Program Benteng\n",
      "Masa Bersiap\n",
      "Revolusi Sosial Sumatra Timur\n",
      "Keresidenan Sumatra Timur\n",
      "Keresidenan Tapanuli\n",
      "Eerste Divisie 7 December\n",
      "Perang Ternate–Portugal\n",
      "100% Cinta Indonesia\n",
      "Penyerbuan ke Batavia\n",
      "Freemasonry di Indonesia\n",
      "Kerusuhan Situbondo\n",
      "Taman Wilhelmina\n",
      "Benteng Frederik Hendrik\n",
      "Mercusuar Sunda Kelapa\n",
      "Menara Syahbandar\n",
      "Pers Biro Indonesia\n",
      "Landbouw Onderwijs\n",
      "Keibodan\n",
      "Lahirnya Pancasila\n",
      "Nasionalisme Indonesia\n",
      "Kategori:Perang Kemerdekaan Indonesia\n",
      "Perang Takhta Jawa Pertama\n",
      "François Tack\n",
      "Kategori:VOC\n",
      "Pangeran Wijayakrama\n",
      "Thomas Dale\n",
      "Perang Takhta Jawa Ketiga\n",
      "Perang Takhta Jawa\n",
      "Geger Pacinan\n",
      "Perjanjian persahabatan Mataram-VOC tahun 1646\n",
      "Perjanjian Mataram-VOC tahun 1705\n",
      "Perjanjian Mataram dan VOC tahun 1743\n",
      "Sulaiman bin Abdullah bin al-Basir\n",
      "Cek Ko-po\n",
      "Resolusi 1246 Dewan Keamanan Perserikatan Bangsa-Bangsa\n",
      "Perusahaan Hindia Timur Belanda di Nusantara\n",
      "Uni Belanda-Indonesia\n",
      "Uang Republik Indonesia Propinsi Sumatera\n",
      "Kategori:PPKI\n",
      "Halo, Halo Bandung\n",
      "Dalem Ketut\n",
      "Daftar kecelakaan dan insiden pesawat penumpang di Indonesia\n",
      "Tentara Republik Indonesia\n",
      "Kategori:Sejarah Sumatra\n",
      "Ludovic de Beauvoir\n",
      "Penyerbuan Kotabaru Yogyakarta\n",
      "Passenstelsel\n",
      "Puputan Margarana\n",
      "Technische Hoogeschool te Bandoeng\n",
      "Bandung Kogyo Daigaku\n",
      "Sekolah Tinggi Teknik Bandung\n",
      "Dewan Rakyat\n",
      "Technische Faculteit, Nood-Universiteit van Nederlandsch-Indië\n",
      "Universiteit van Indonesië te Bandoeng\n",
      "Universitas Indonesia Bandung\n",
      "Pendudukan Jepang di Kalimantan Barat\n",
      "Dewaraja\n",
      "Prajurit Sewaan\n",
      "Dewan Banteng\n",
      "Sekar Rukun\n",
      "Diskriminasi terhadap Tionghoa-Indonesia\n",
      "Prasasti Kinawe\n",
      "Panca Azimat\n",
      "Referendum kemerdekaan Timor Leste 1999\n",
      "Komando Divisi IX Banteng\n",
      "Intervensi Belanda di Bali (1906)\n",
      "Penembakan Cebongan 2013\n",
      "Teuku Markam\n",
      "Operasi militer Indonesia di Aceh 1990-1998\n",
      "Hindia Timur Spanyol\n",
      "Rechtshoogeschool te Batavia\n",
      "Resolusi 86 Dewan Keamanan Perserikatan Bangsa-Bangsa\n",
      "Politik Minangkabau\n",
      "Sejarah Indonesia (1965–1966)\n",
      "Penyebaran Islam di Nusantara\n",
      "Kerajaan Tambayung\n",
      "Koning Willem III School te Batavia\n",
      "Kategori:Pejuang kemerdekaan Indonesia\n",
      "Kategori:Majapahit\n",
      "Sekolah Kartini\n",
      "Pertempuran Batèë Iliëk\n",
      "Pemberontakan DI/TII di Aceh\n",
      "Sulawesi dan Dependensinya\n",
      "Pedoman Penghayatan dan Pengamalan Pancasila\n",
      "Indonesia Moeda\n",
      "Watu Ngelak\n",
      "Daftar raja Banjar\n",
      "Punden berundak\n",
      "Era Reformasi\n",
      "Kategori:Pemberontakan di Indonesia\n",
      "Kategori:Hindia Belanda\n",
      "Kategori:Perguruan tinggi pada masa Hindia Belanda\n",
      "Kategori:Sejarah Hindia Belanda\n",
      "Kategori:Bekas negara dalam sejarah Indonesia\n",
      "Kerajaan Segati\n",
      "Ekonomi Pancasila\n",
      "Partai Rakyat Nasional (Indonesia)\n",
      "Siti Aisyah We Tenriolle\n",
      "Benteng Amsterdam\n",
      "Sejarah Bangka\n",
      "Babad Blambangan\n",
      "Museum Bojong Kokosan\n",
      "Kategori:Tragedi Trisakti\n",
      "Antonio Galvao\n",
      "Museum Kedaton Sultan Ternate\n",
      "Benteng Kalamata\n",
      "Ekspedisi Snellius\n",
      "Benteng Tolukko\n",
      "Prohar Sudharnoto\n",
      "Seinendan\n",
      "Komunisme di Sumatra\n",
      "Sengketa Irian Barat\n",
      "Daftar raja Madura\n",
      "Penangkapan Pangeran Diponegoro\n",
      "Ario Soejono\n",
      "Sejarah perminyakan di Indonesia\n",
      "Long March Siliwangi\n",
      "Yo Kim Tjan\n",
      "Khouw Kim An\n",
      "Nood-Universiteit van Nederlandsch Indie\n",
      "Daftar musibah dan bencana di Surakarta\n",
      "Bapak bangsa Indonesia\n",
      "Pembantaian Pulau Bangka\n",
      "Kusumadinata I\n",
      "Universiteit van Indonesie\n",
      "Dewan Perwakilan Rakyat Republik Indonesia Serikat\n",
      "Kerajaan Nanga Bunut\n",
      "Kerajaan Jongkong\n",
      "Veteran Pejuang Kemerdekaan Republik Indonesia\n",
      "Veteran Pembela Kemerdekaan Republik Indonesia\n",
      "Veteran Perdamaian Republik Indonesia\n",
      "Veteran Anumerta Republik Indonesia\n",
      "Perjanjian Kalijati\n",
      "Ahmad Najamuddin Prabu Anom\n",
      "Kategori:Gerakan 30 September\n",
      "Kategori:Sumpah Pemuda\n",
      "Kampus ITB Ganesha\n",
      "Besi Luwu\n",
      "Kategori:Sejarah ekonomi Indonesia\n",
      "Kategori:Orde Lama\n",
      "Ronggo Prawirodirjo III\n",
      "Kategori:Pahlawan Kemerdekaan Nasional\n",
      "Palangka Sriman Sriwacana\n",
      "Hoogere Burgerschool te Bandoeng\n",
      "Perang Besar Cirebon\n",
      "Geneeskundige Hoogeschool te Batavia\n",
      "Kategori:Sekolah pada masa kolonial Belanda\n",
      "Kategori:Era Reformasi\n",
      "Pembantaian Banjarsari\n",
      "Daftar penerbang TNI AU yang meninggal dalam tugas\n",
      "Kongres Perempuan Indonesia\n",
      "Nekolim\n",
      "Kapitan Kakiali\n",
      "Ki Ageng Mangir\n",
      "Karaeng Galesong\n",
      "Barisan Pemberontakan Rakyat Indonesia\n",
      "Operasi Camar Maleo\n",
      "Sejarah Pulau Tidung\n",
      "Sejarah batik di Indonesia\n",
      "Pao An Tui\n",
      "Avro Anson RI-003\n",
      "Ekspedisi Pertama Belanda ke Hindia Timur\n",
      "Grimm  &  Co.\n",
      "Federasi kongsi\n",
      "Peristiwa Mangkuk Merah 1967\n",
      "Majelis Permusyawaratan Federal\n",
      "Maluka\n",
      "Sejarah Jakarta\n",
      "Operasi Gunung Gede\n",
      "Jalur Sutra Maritim\n",
      "Proyek lahan gambut satu juta hektar\n",
      "Avro Anson RI-004\n",
      "Pemberontakan PETA Blitar\n",
      "Kerukunan Minangkabau\n",
      "Mahkamah Militer Sementara Belanda\n",
      "Liga Anti-Fasis\n",
      "Corps Opleiding Voor Reserve Officieren\n",
      "BOMPA\n",
      "Raden Mas Abikoesno Tjokrosoejoso\n",
      "Minseifu\n",
      "Perwakilan Diplomatik Jepang ke Hindia Belanda\n",
      "Meibkatra\n",
      "Asrama Indonesia Merdeka\n",
      "Asrama Angkatan Baroe Indonesia\n",
      "Janji Koiso\n",
      "Tokkeitai\n",
      "Sendenbu\n",
      "Kerusuhan rasial Jawa Tengah 1980\n",
      "Pembantaian Purwodadi\n",
      "Tonarigumi\n",
      "Tragedi Junyo Maru\n",
      "Tumjati\n",
      "Orang Indonesia di kamp konsentrasi Jerman\n",
      "Sejarah peteng\n",
      "Haur Koneng\n",
      "Demokrasi di Indonesia\n",
      "Kerajaan Selebar\n",
      "Holokaus di Indonesia\n",
      "Pembunuhan Ario Soerjo\n",
      "Pengungsian Rakyat Vietnam di Indonesia\n",
      "Kategori:Kapitan Cina\n",
      "Delapan Jam Pertempuran di Mangkang\n",
      "Pembantaian Bengawan Solo 1825\n",
      "Bhayangkara\n",
      "Pembantaian ulama oleh Amangkurat I\n",
      "Sejarah Palembang\n",
      "Kategori:Pejuang Pemerintahan Darurat Republik Indonesia\n",
      "Kategori:Pembantaian di Indonesia\n",
      "Radin Imba Kusuma\n",
      "Kopi di Indonesia\n",
      "Daftar suporter sepak bola Indonesia yang meninggal\n",
      "Ordonansi Guru\n",
      "Rencana pendudukan kembali Indonesia\n",
      "Kategori:Federasi kongsi\n",
      "Perintah Harian Panglima Tertinggi Angkatan Bersendjata/Presiden/Panglima Besar Revolusi pada tanggal 8 Maret 1966\n",
      "Rumah Pengasingan Bung Hatta\n",
      "Rumah W. R. Soepratman\n",
      "Aksobya\n",
      "Peradaban manusia di Sungai Krayan\n",
      "Arkeologi Indonesia\n",
      "Merapi-Merbabu Complex\n",
      "Pohon Sukun Bung Karno di Ende\n",
      "Serambi Bung Karno Ende\n",
      "Kabinet Negara Indonesia Timur\n",
      "Kesepakatan Helsinki\n",
      "Masyarakat Sejarawan Indonesia\n",
      "Panitia Aksi Pengganyangan Film Imperialis Amerika Serikat\n",
      "Yawadwipa\n",
      "Daftar peristiwa pembakaran buku di Indonesia\n",
      "Pax Nederlandica\n",
      "Maklumat Presiden Republik Indonesia 23 Juli 2001\n",
      "Pengeboman Semarang Salatiga Ambarawa\n",
      "Persatuan Ulama Seluruh Aceh\n",
      "Daftar kepala pemerintahan Belanda di Aceh\n",
      "Kontak Jawa dengan Australia\n",
      "Pertempuran Laut Cirebon\n",
      "Pertempuran Selat Bali\n",
      "Pertempuran Laut Sibolga\n",
      "Peristiwa Merah Putih (Manado)\n",
      "Republik Nias Merdeka\n",
      "Kunjungan Ratu Juliana ke Indonesia 1971\n",
      "Orang kaya\n",
      "Bangga Buatan Indonesia\n",
      "Kategori:Pendirian di Indonesia\n",
      "OLDEFO dan NEFO\n",
      "Hari Patriotik 23 Januari 1942\n",
      "Operasi Tegas\n",
      "Parlemen Indonesia Timur\n",
      "Museum Samparaja\n",
      "Veteran Indonesia\n",
      "Kelompok Empat (Indonesia)\n",
      "Joes Adipermono\n",
      "Museum Perjuangan (Kodam XIII/Merdeka)\n",
      "Bruneigate\n",
      "Buloggate\n",
      "Panitia Urusan Ketatanegaraan dan Hukum Tatanegara\n",
      "Asas tunggal Pancasila\n",
      "Piagam Madinah (Reformasi)\n",
      "Piagam Bandung\n",
      "Peristiwa 2 September 1985\n",
      "Ambtenaar\n",
      "Kabinet Djumhana II\n",
      "Dewan Perwakilan Sementara Negara Sumatera Timur\n",
      "Zaman Normal\n",
      "Kategori:Proklamasi Kemerdekaan Indonesia\n",
      "Perjanjian Lisboa (1859)\n",
      "Kategori:Pemerintahan Revolusioner Republik Indonesia\n",
      "Paruman Agung\n",
      "Barisan Pengawal Negara Sumatera Timur\n",
      "Pertempuran Kumai\n",
      "Wakil Tinggi Mahkota di Negara Pasundan\n",
      "Parti Kebangsaan Melayu Malaya\n",
      "Letusan Gunung Semeru 2021\n",
      "Zaman Gerombolan\n",
      "Nusantara (kota terencana)\n",
      "Kategori:Kewedanaan di Indonesia\n",
      "Jalur Rempah Nusantara\n",
      "Tuntang Tungkek Narmada\n",
      "Kepala Otorita Ibu Kota Nusantara\n",
      "Wakil Kepala Otorita Ibu Kota Nusantara\n",
      "Badan Perwakilan Sementara Indonesia Timur\n",
      "Sri Ketudhara Manimantaprabha Prabhusakti\n",
      "Pemekaran dan penggabungan daerah di Indonesia\n",
      "Deklarasi Marhaenis\n",
      "Gubernur Muda (jabatan)\n",
      "Taktik militer Nusantara abad 16-17\n",
      "Distrik Pambuang\n",
      "Rumah Cililitan Besar\n",
      "Hizbullah (Indonesia)\n",
      "Kategori:Laskar pejuang kemerdekaan\n",
      "Menteng 31\n",
      "Tragedi Stadion Kanjuruhan 2022\n",
      "Kementerian Kesehatan Negara Pasundan\n",
      "Akkarungeng\n",
      "Kementerian Sosial Negara Pasundan\n",
      "Peradaban Gunung Karang\n",
      "Kategori:Sejarah perempuan di Indonesia\n",
      "Lasykar Muslimin Indonesia\n",
      "Kategori:Negara bercorak Hindu-Buddha di Indonesia\n",
      "Gempa bumi Batavia 1699\n",
      "Kamp pengasingan Moncongloe\n",
      "Ekspedisi Kedua Belanda ke Hindia Timur\n",
      "Gempa bumi Jawa 1780\n",
      "Aksi 5 Agustus 1989\n",
      "Hubungan Bali dengan Sunda\n",
      "Normalisasi Kehidupan Kampus/Badan Koordinasi Kemahasiswaan\n"
     ]
    }
   ],
   "source": [
    "for i, n in enumerate(sejarah_indonesia_handler._pages):\n",
    "    print(n[0])"
   ],
   "metadata": {
    "collapsed": false,
    "ExecuteTime": {
     "end_time": "2024-02-06T15:39:56.842380900Z",
     "start_time": "2024-02-06T15:39:56.786808400Z"
    }
   },
   "id": "7c34ff7e98a44ddb"
  },
  {
   "cell_type": "markdown",
   "source": [
    "##### Data yang memiliki kategori Sejarah Indonesia sudah diambil semua. Perlu dilihat bahwa halaman yang diambil berasal langsung dari xml file, bukan dari page 'Kategori Sejarah Indonesia', dikarenakan tidak sinkron.\n",
    "\n",
    "##### Contoh: Perundingan Linggarjati tidak termasuk dalam page 'Kategori Sejarah Indonesia', tetapi pada laman 'Perundingan Linggarjati', laman tersebut memiliki kategori sejarah indonesia\n",
    "\n",
    "##### What about the 'Kategori Sejarah Indonesia' page itself?"
   ],
   "metadata": {
    "collapsed": false
   },
   "id": "6fe8db8a91c94936"
  },
  {
   "cell_type": "code",
   "execution_count": 22,
   "outputs": [],
   "source": [
    "class SejarahIndonesiaPageHandler(WikiXmlHandler):\n",
    "    def endElement(self, name):\n",
    "        \"\"\"Closing tag of element\"\"\"\n",
    "        if name == self._current_tag:\n",
    "            self._values[name] = ' '.join(self._buffer)\n",
    "\n",
    "        if name == 'page' and (self._values['title'] == 'Kategori:Sejarah Indonesia'):\n",
    "            self._pages.append((self._values['title'], self._values['text']))"
   ],
   "metadata": {
    "collapsed": false,
    "ExecuteTime": {
     "end_time": "2024-02-06T15:39:56.842380900Z",
     "start_time": "2024-02-06T15:39:56.797659100Z"
    }
   },
   "id": "18fbfbe3827651cb"
  },
  {
   "cell_type": "code",
   "execution_count": 23,
   "outputs": [],
   "source": [
    "# Object for handling xml\n",
    "sejarah_indonesia_page_handler = SejarahIndonesiaPageHandler()\n",
    "\n",
    "# Parsing object\n",
    "sejarah_indonesia_page_parser = xml.sax.make_parser()\n",
    "sejarah_indonesia_page_parser.setContentHandler(sejarah_indonesia_page_handler)\n",
    "\n",
    "for i, line in enumerate(bz2.BZ2File(data_path, 'r')):\n",
    "    sejarah_indonesia_page_parser.feed(line)"
   ],
   "metadata": {
    "collapsed": false,
    "ExecuteTime": {
     "end_time": "2024-02-06T15:47:07.142120700Z",
     "start_time": "2024-02-06T15:39:56.805383600Z"
    }
   },
   "id": "8efe2a8d7e8c975d"
  },
  {
   "cell_type": "code",
   "execution_count": 24,
   "outputs": [
    {
     "data": {
      "text/plain": "[('Kategori:Sejarah Indonesia',\n  '{{Commonscat|History of Indonesia}} \\n {{cattree|Sejarah Indonesia}} \\n {{Sejarahnegara|negara=Indonesia|benua=Asia Tenggara}} \\n {{Indonesia|navbar=plain|prefix=:Kategori:Sejarah|title=Daftar sejarah di Indonesia menurut provinsi (kategori)|image=}}')]"
     },
     "execution_count": 24,
     "metadata": {},
     "output_type": "execute_result"
    }
   ],
   "source": [
    "sejarah_indonesia_page_handler._pages"
   ],
   "metadata": {
    "collapsed": false,
    "ExecuteTime": {
     "end_time": "2024-02-06T15:47:07.150986800Z",
     "start_time": "2024-02-06T15:47:07.146122300Z"
    }
   },
   "id": "722b948ad9511c63"
  },
  {
   "cell_type": "code",
   "execution_count": 25,
   "outputs": [
    {
     "data": {
      "text/plain": "1"
     },
     "execution_count": 25,
     "metadata": {},
     "output_type": "execute_result"
    }
   ],
   "source": [
    "len(sejarah_indonesia_page_handler._pages)"
   ],
   "metadata": {
    "collapsed": false,
    "ExecuteTime": {
     "end_time": "2024-02-06T15:47:07.160653400Z",
     "start_time": "2024-02-06T15:47:07.152985300Z"
    }
   },
   "id": "20a0a2e8c5faf88d"
  },
  {
   "cell_type": "markdown",
   "source": [
    "##### Tidak terdapat banyak informasi yang bisa digunakan"
   ],
   "metadata": {
    "collapsed": false
   },
   "id": "fff021e7a7223bc2"
  },
  {
   "cell_type": "markdown",
   "source": [
    "### Pemisahan ada infobox dan tidak ada"
   ],
   "metadata": {
    "collapsed": false
   },
   "id": "5c516572f4655879"
  },
  {
   "cell_type": "code",
   "execution_count": 45,
   "outputs": [
    {
     "data": {
      "text/plain": "539"
     },
     "execution_count": 45,
     "metadata": {},
     "output_type": "execute_result"
    }
   ],
   "source": [
    "len(sejarah_indonesia_handler._pages)"
   ],
   "metadata": {
    "collapsed": false,
    "ExecuteTime": {
     "end_time": "2024-02-07T01:01:23.349462700Z",
     "start_time": "2024-02-07T01:01:23.337777500Z"
    }
   },
   "id": "6a1788e57c753b85"
  },
  {
   "cell_type": "code",
   "execution_count": 56,
   "outputs": [],
   "source": [
    "page_with_infobox = []\n",
    "page_without_infobox = []"
   ],
   "metadata": {
    "collapsed": false,
    "ExecuteTime": {
     "end_time": "2024-02-07T01:04:10.030942400Z",
     "start_time": "2024-02-07T01:04:10.026209200Z"
    }
   },
   "id": "3b0cb105ee3c0f63"
  },
  {
   "cell_type": "code",
   "execution_count": 57,
   "outputs": [],
   "source": [
    "def infobox_information(page_list, index):\n",
    "    wiki_infobox_information = mwparserfromhell.parse(page_list[index][1])\n",
    "    try:\n",
    "        wiki_infobox_information.filter_templates(matches = 'Infobox')[0]\n",
    "        page_with_infobox.append((page_list[index][0], page_list[index][1]))\n",
    "    except IndexError :\n",
    "        page_without_infobox.append((page_list[index][0], page_list[index][1]))\n",
    "\n",
    "for i, n in enumerate (sejarah_indonesia_handler._pages):\n",
    "    infobox_information(sejarah_indonesia_handler._pages, i)"
   ],
   "metadata": {
    "collapsed": false,
    "ExecuteTime": {
     "end_time": "2024-02-07T01:04:15.013378800Z",
     "start_time": "2024-02-07T01:04:10.326368400Z"
    }
   },
   "id": "e3d3ba2713a916c"
  },
  {
   "cell_type": "code",
   "execution_count": 58,
   "outputs": [
    {
     "data": {
      "text/plain": "152"
     },
     "execution_count": 58,
     "metadata": {},
     "output_type": "execute_result"
    }
   ],
   "source": [
    "len(page_with_infobox)"
   ],
   "metadata": {
    "collapsed": false,
    "ExecuteTime": {
     "end_time": "2024-02-07T01:04:17.424041500Z",
     "start_time": "2024-02-07T01:04:17.397215100Z"
    }
   },
   "id": "d5a3c08ee5b10f9c"
  },
  {
   "cell_type": "code",
   "execution_count": 59,
   "outputs": [
    {
     "data": {
      "text/plain": "387"
     },
     "execution_count": 59,
     "metadata": {},
     "output_type": "execute_result"
    }
   ],
   "source": [
    "len(page_without_infobox)"
   ],
   "metadata": {
    "collapsed": false,
    "ExecuteTime": {
     "end_time": "2024-02-07T01:04:18.608596500Z",
     "start_time": "2024-02-07T01:04:18.598248600Z"
    }
   },
   "id": "466e096dd2178d96"
  },
  {
   "cell_type": "code",
   "execution_count": 78,
   "outputs": [],
   "source": [
    "import pandas as pd\n",
    "\n",
    "df_with_infobox = pd.DataFrame(page_with_infobox)\n",
    "df_without_infobox = pd.DataFrame(page_without_infobox)\n",
    "\n",
    "writer = pd.ExcelWriter('idwiki-dump-latest.xlsx', engine='xlsxwriter')\n",
    "\n",
    "df_with_infobox.to_excel(writer, sheet_name='Sejarah Indonesia Infobox', index=False, header=['Title', 'Text'])\n",
    "df_without_infobox.to_excel(writer, sheet_name='Sejarah Indonesia', index=False, header=['Title', 'Text'])\n",
    "writer.close()"
   ],
   "metadata": {
    "collapsed": false,
    "ExecuteTime": {
     "end_time": "2024-02-07T01:30:47.616173200Z",
     "start_time": "2024-02-07T01:30:46.682876700Z"
    }
   },
   "id": "3ba27c05c0ab658b"
  },
  {
   "cell_type": "code",
   "execution_count": 80,
   "outputs": [
    {
     "data": {
      "text/plain": "\"{{short description|Keputusan Presiden Sukarno untuk kembali kepada Undang-Undang Dasar 1945}} \\n {{Infobox legislation \\n |short_title         = Dekrit No. 150 tahun 1959 \\n |legislature         = [[Presiden Indonesia|Presiden Republik Indonesia]] \\n |long_title          = Keputusan Presiden Republik Indonesia Nomor 150 Tahun 1959 Tentang Kembali kepada Undang-Undang Dasar 1945 \\n |image               = Indonesian Presidential Seal gold.svg \\n |imagesize           = 150px \\n |imagealt            =  \\n |citation            =  \\n |territorial_extent  = [[Indonesia]] \\n |enacted_by          = [[Soekarno]] \\n |date_signed         = 5 Juli 1959 \\n |date_assented       =  \\n |date_enacted        = 5 Juli 1959 \\n |date_commenced      = 5 Juli 1959 \\n }} \\n [[Berkas:1959 Decree 1.jpg|300px|jmpl|Dekret Presiden 1959]] \\n {{Sejarah Indonesia}} \\n '''Keputusan Presiden Nomor 150 Tahun 1959 tentang Kembali kepada Undang-Undang Dasar 1945''', atau yang lebih dikenal sebagai '''Dekret Presiden 5 Juli 1959''', adalah [[dekret]] (secara legal [[Keputusan Presiden (Indonesia)|Keputusan Presiden]]) yang dikeluarkan oleh Presiden [[Indonesia]] yang pertama, [[Soekarno]] pada 5 Juli 1959. Isi dekret ini adalah pembubaran [[Badan Konstituante]] hasil [[Pemilu 1955]] dan penggantian undang-undang dasar dari [[Undang-Undang Dasar Sementara Republik Indonesia|UUD Sementara 1950]] ke [[UUD '45]].  \\n \\n {{wikisource|Dekret Presiden Republik Indonesia tentang Kembali kepada Undang-Undang Dasar 1945}} \\n {{wikisource|5 Juli}} \\n \\n == Latar belakang == \\n Dekret Presiden 1959 dilatarbelakangi oleh kegagalan Badan [[Konstituante]] untuk menetapkan [[UUD]] baru sebagai pengganti [[UUDS 1950]]. Anggota [[Konstituante]] mulai bersidang pada 10 November 1956, tetapi pada kenyataannya hingga tahun 1958 belum berhasil merumuskan UUD yang diharapkan. Sementara, di kalangan masyarakat pendapat-pendapat untuk kembali kepada [[UUD '45]] semakin kuat. Dalam menanggapi hal itu, [[Soekarno|Presiden Ir. Soekarno]] lantas menyampaikan amanat di depan sidang [[Konstituante]] pada 22 April 1959 yang isinya menganjurkan untuk kembali ke [[UUD '45]]. \\n \\n Pada 30 Mei 1959 [[Konstituante]] melaksanakan pemungutan suara. Hasilnya 269 suara menyetujui UUD 1945 dan 199 suara tidak setuju. Meskipun yang menyatakan setuju lebih banyak, pemungutan suara ini harus diulang karena jumlah suara tidak memenuhi {{wikt|kuorum}}. Pemungutan suara kembali dilakukan pada tanggal 1 dan 2 Juni 1959. Dari pemungutan suara ini [[Konstituante]] juga gagal mencapai kuorum. Untuk meredam kemacetan, pada tanggal 3 Juni 1959 [[Konstituante]] mengadakan reses (masa perhentian sidang [[parlemen]]; masa istirahat dari kegiatan bersidang) yang kemudian terungkap untuk selamanya. Untuk mencegah terjadinya hal-hal yang tidak diinginkan, maka [[Abdul Haris Nasution|Kepala Staf Angkatan Darat (KSAD) Letnan Jenderal A.H. Nasution]] atas nama Pemerintah/Penguasa Perang Pusat (Peperpu), mengeluarkan peraturan No.Prt/Peperpu/040/1959 yang berisi larangan melakukan kegiatan-kegiatan politik. Pada tanggal 16 Juni 1959, Ketua Umum PNI [[Suwirjo]] mengirimkan surat kepada Presiden agar mendekritkan berlakunya kembali [[Undang-Undang Dasar Negara Republik Indonesia Tahun 1945|UUD 1945]] dan membubarkan [[Konstituante]]. \\n \\n == Referensi == \\n * Riklefs (1982), ''A History of Modern Indonesia'', Macmillan Southeast Asian reprint, {{ISBN|0-333-24380-3}} \\n * Sekretariat Negara Republik Indonesia (1975) ''30 Tahun Indonesia Merdeka: Jilid 2 (1950–1964) (30 Years of Indonesian Independence: Volume 2 (1950–1964))'' \\n \\n == Pranala luar == \\n * [http://www.scribd.com/doc/3977151/Dekret-Presiden-5-Juli-1959-salinan= Dekret Presiden 5 Juli 1959 (salinan)] \\n \\n {{Topik Indonesia}} \\n {{Soekarno}} \\n {{Bencana di Indonesia tahun 1950an}} \\n \\n [[Kategori:Peristiwa 1959]] \\n [[Kategori:Sejarah Indonesia]] \\n [[Kategori:Indonesia dalam tahun 1959]]\""
     },
     "execution_count": 80,
     "metadata": {},
     "output_type": "execute_result"
    }
   ],
   "source": [
    "page_with_infobox[0][1]"
   ],
   "metadata": {
    "collapsed": false,
    "ExecuteTime": {
     "end_time": "2024-02-07T01:51:38.080672Z",
     "start_time": "2024-02-07T01:51:38.042344700Z"
    }
   },
   "id": "a1e4ec7974336d26"
  },
  {
   "cell_type": "code",
   "execution_count": null,
   "outputs": [],
   "source": [],
   "metadata": {
    "collapsed": false
   },
   "id": "bf6a8eb8c74dfd21"
  }
 ],
 "metadata": {
  "kernelspec": {
   "display_name": "Python 3",
   "language": "python",
   "name": "python3"
  },
  "language_info": {
   "codemirror_mode": {
    "name": "ipython",
    "version": 2
   },
   "file_extension": ".py",
   "mimetype": "text/x-python",
   "name": "python",
   "nbconvert_exporter": "python",
   "pygments_lexer": "ipython2",
   "version": "2.7.6"
  }
 },
 "nbformat": 4,
 "nbformat_minor": 5
}
