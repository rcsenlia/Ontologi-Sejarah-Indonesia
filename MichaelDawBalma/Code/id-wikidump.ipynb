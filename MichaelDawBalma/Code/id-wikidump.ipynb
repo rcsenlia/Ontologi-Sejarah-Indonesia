{
 "cells": [
  {
   "cell_type": "markdown",
   "source": [
    "### Import Data and Index"
   ],
   "metadata": {
    "collapsed": false
   },
   "id": "c0c861717a960e9"
  },
  {
   "cell_type": "code",
   "execution_count": 174,
   "id": "initial_id",
   "metadata": {
    "collapsed": true,
    "ExecuteTime": {
     "end_time": "2024-02-15T09:15:32.007903300Z",
     "start_time": "2024-02-15T09:15:31.982404600Z"
    }
   },
   "outputs": [],
   "source": [
    "import bz2\n",
    "\n",
    "data_path = 'idwiki-latest-pages-articles-multistream.xml.bz2'\n",
    "index_path = 'idwiki-latest-pages-articles-multistream-index.txt.bz2'"
   ]
  },
  {
   "cell_type": "markdown",
   "source": [
    "### Index file contains the title of each article\n",
    "(https://stackoverflow.com/questions/29020732/how-to-use-information-provided-in-wiki-downloads-index-file)"
   ],
   "metadata": {
    "collapsed": false
   },
   "id": "f01a3088429724c6"
  },
  {
   "cell_type": "code",
   "execution_count": 175,
   "outputs": [
    {
     "data": {
      "text/plain": "1660717"
     },
     "execution_count": 175,
     "metadata": {},
     "output_type": "execute_result"
    }
   ],
   "source": [
    "count_title_from_index = 0\n",
    "\n",
    "for i, line in enumerate(bz2.BZ2File(index_path, 'r')):\n",
    "    count_title_from_index += 1\n",
    "\n",
    "count_title_from_index"
   ],
   "metadata": {
    "collapsed": false,
    "ExecuteTime": {
     "end_time": "2024-02-15T09:15:36.229654300Z",
     "start_time": "2024-02-15T09:15:32.003406600Z"
    }
   },
   "id": "45e54088da81f321"
  },
  {
   "cell_type": "code",
   "execution_count": 176,
   "outputs": [
    {
     "data": {
      "text/plain": "1660717"
     },
     "execution_count": 176,
     "metadata": {},
     "output_type": "execute_result"
    }
   ],
   "source": [
    "count_title_from_data = 0\n",
    "\n",
    "for i, line in enumerate(bz2.BZ2File(data_path, 'r')):\n",
    "    line = line.decode('utf-8')\n",
    "\n",
    "    if '<title>' in line:\n",
    "        count_title_from_data += 1\n",
    "\n",
    "count_title_from_data"
   ],
   "metadata": {
    "collapsed": false,
    "ExecuteTime": {
     "end_time": "2024-02-15T09:20:30.686813600Z",
     "start_time": "2024-02-15T09:15:36.230155400Z"
    }
   },
   "id": "97752a89dd447317"
  },
  {
   "cell_type": "markdown",
   "source": [
    "### Searching for related categories\n",
    "Since many categories that have been listed doesn't have its own 'Wiki page' (e.g. Kategori: Emigran Taiwan di Amerika Serikat), I decided to list categories that have their own page, so we can retrieve the articles that belongs to each category.\n",
    "\n",
    "We have the list of every article's title in index.txt, so we can use it to decide which category (that have been listed or maybe have not listed in the Excel) that have their own page.\n",
    "\n",
    "Why we should only use the categories that have their own page?\n",
    "For the reason that I use 'Category Approach' in this wikidata, and the information about what articles that belong to a category only available in the 'category page', we should only use the categories that have their own page.\n",
    "\n",
    "The categories will be searched on the xml dump file, since we want to retrieve the content either from pywikibot or mwparserfromhell library"
   ],
   "metadata": {
    "collapsed": false
   },
   "id": "1818a3e857cd16bd"
  },
  {
   "cell_type": "code",
   "execution_count": 205,
   "outputs": [
    {
     "data": {
      "text/plain": "['Yahudi',\n 'Indonesia',\n 'Presiden',\n 'Stan',\n 'Kimia',\n 'Buddhisme',\n 'Rumpun bahasa Indo-Eropa',\n 'Presiden Amerika Serikat',\n 'Benua',\n 'Malaysia',\n 'Sastra',\n 'Bahasa Semit',\n 'Agama',\n 'Bahasa',\n 'Sejarah',\n 'Aksara',\n 'Waktu',\n 'Statistika',\n 'Matematika',\n 'Geologi',\n 'Fisika',\n 'Biologi',\n 'Astronomi',\n 'Transportasi',\n 'Teknologi',\n 'Teknik',\n 'Pertanian',\n 'Pendidikan',\n 'Otomotif',\n 'Komunikasi',\n 'Informatika',\n 'Hukum',\n 'Bisnis dan industri',\n 'Arsitektur',\n 'Televisi',\n 'Internet',\n 'Hobi',\n 'Hiburan',\n 'Film',\n 'Dapur',\n 'Budaya',\n 'Berkebun',\n 'Manusia',\n 'Tokoh Indonesia',\n 'Sosiologi',\n 'Sejarah Indonesia',\n 'Sejarah Nusantara',\n 'Psikologi',\n 'Mitologi',\n 'Politik',\n 'Geografi',\n 'Filsafat',\n 'Ekonomi',\n 'Arkeologi',\n 'Antropologi',\n 'Permainan',\n 'Musik',\n 'Olahraga',\n 'Pariwisata',\n 'Rekreasi',\n 'Sandiwara',\n 'Seni',\n 'Kabinet Indonesia',\n 'Bahasa Sino-Tibet',\n 'Peristiwa 2004',\n 'Islam',\n 'Raja Jawa',\n 'Sepak bola',\n 'Perang Dingin',\n 'Uni Soviet',\n 'Perang Dunia II',\n 'Aceh',\n 'Militer',\n 'Polandia',\n 'Jerman',\n 'Lagu kebangsaan',\n 'Radio',\n 'Hindu',\n 'Afrika',\n 'Asia',\n 'Sastra Melayu',\n 'Kepercayaan',\n 'Jepang',\n 'Perdana Menteri Jepang',\n 'Suku bangsa di Indonesia',\n 'Kristen',\n 'Wikipedia',\n 'Komunis',\n 'Daftar pemimpin negara',\n 'Tintin',\n 'Disambiguasi',\n 'Spesies terancam punah',\n 'Badan usaha milik negara di Indonesia',\n 'Bandar udara di Indonesia',\n 'Kalender',\n 'Penghargaan Nobel',\n 'Thailand',\n 'Rumpun bahasa Kra-Dai',\n 'Perguruan tinggi di Indonesia',\n 'Ulama',\n 'Berkas GFDL',\n 'Perang',\n 'Komputer',\n 'Bursa efek',\n 'Rintisan',\n 'Arah',\n 'Tokoh Georgia',\n 'Georgia',\n 'Ekuador',\n 'Penyakit',\n 'Palestina',\n 'Ideologi',\n 'Penulis Inggris',\n 'Tokoh Inggris',\n 'Pemimpin Inggris',\n 'Surat kabar',\n 'Artikel yang layak untuk dihapus',\n 'Organisasi internasional',\n 'Shio',\n 'Bom',\n 'Unsur kimia',\n 'Irak',\n 'Telekomunikasi',\n 'Mesin pencari internet',\n 'Tentara Nasional Indonesia',\n 'Tentara Nasional Indonesia Angkatan Laut',\n 'Konsol permainan',\n 'Filipina',\n 'Milan',\n 'Bahasa Roman',\n 'Italia',\n 'Iran',\n 'Penemu Jerman',\n 'Penemu unsur kimia',\n 'Pemenang Hadiah Nobel dalam bidang fisika',\n 'Fisikawan',\n 'Penemu Italia',\n 'Penemu Skotlandia',\n 'Olimpiade',\n 'Presiden IOC',\n 'ISO',\n 'Kota di Iran',\n 'Penemu Inggris',\n 'Penyakit menular',\n 'Protein',\n 'Toscana',\n 'Kriminalitas',\n 'Mafia',\n 'Perdana Menteri Italia',\n 'Politikus Italia',\n 'Lombardia',\n 'Piemonte',\n 'Radioaktivitas',\n 'Arsitek Italia',\n 'Slowakia',\n 'Uruguay',\n 'Amerika Serikat',\n 'Majalah',\n 'Budaya Jepang',\n 'Manga',\n 'Anime',\n 'Astrofisika',\n 'Kosmologi',\n 'Kesehatan',\n 'Swiss',\n 'Kendaraan',\n 'Eropa Timur',\n 'Bekas negara',\n 'Sampah',\n 'Lagu',\n 'Penulis lagu Indonesia',\n 'Pancasila',\n 'Negara',\n 'Artikel yang perlu dirapikan',\n 'Media massa',\n 'Komik',\n 'Prancis',\n 'Sisilia',\n 'Gunung',\n 'Angkutan',\n 'Transportasi rel',\n 'Transportasi air',\n 'Dirgantara',\n 'Kera',\n 'Primata',\n 'Mamalia',\n 'Hewan',\n 'Pelukis Italia',\n 'Manusia purba',\n 'Klasifikasi ilmiah',\n 'Kepulauan Pitcairn',\n 'Bolivia',\n 'Yesuit',\n 'Bahasa Korea',\n 'Korea Selatan',\n 'Transportasi di Korea Selatan',\n 'Korea Utara',\n 'Korea',\n 'Wilayah yang dipertentangkan',\n 'Chechnya',\n 'Stasiun televisi',\n 'Kaukasus',\n 'IPod',\n 'Penghargaan',\n 'Spanyol',\n 'Terorisme',\n 'Ilmuwan Swedia',\n 'Penemu Swedia',\n 'Swedia',\n 'Bahan bakar',\n 'Mekanika',\n 'Energi',\n 'Ilmuwan Inggris',\n 'Ilmuwan Jerman',\n 'Inggris',\n 'Fisikawan Polandia',\n 'Kimiawan Polandia',\n 'Fisikawan Italia',\n 'Kimiawan',\n 'Fisikawan Inggris',\n 'Fisikawan Jerman',\n 'Seniman Jepang',\n 'Catur',\n 'Permainan otak',\n 'Pecatur',\n 'Jawa Timur',\n 'Pemenang Hadiah Nobel dalam bidang kimia',\n 'Ghana',\n 'Bank',\n 'Presiden Kuba',\n 'Kuba',\n 'Daftar perguruan tinggi',\n 'Perguruan tinggi',\n 'Budaya internet',\n 'Wakil Presiden Indonesia',\n 'Presiden Indonesia',\n 'Kimiawan Swedia',\n 'Kimiawan Inggris',\n 'Organisasi sepak bola nasional',\n 'Organisasi olahraga Indonesia',\n 'Komputer Macintosh',\n 'Logo nonbebas',\n 'Teori grup',\n 'Bahasa Indonesia',\n 'Selat',\n 'Alat musik',\n 'Windows',\n 'Microsoft',\n 'Mac OS',\n 'Jakarta',\n 'Filsuf Austria',\n 'Fisikawan Austria',\n 'Austria',\n 'Kematian 1916',\n 'Kelahiran 1838',\n 'Kelahiran 1643',\n 'Kematian 1727',\n 'Kematian 1882',\n 'Kelahiran 1809',\n 'Mekanika kuantum',\n 'Kelahiran 1956',\n 'Kelahiran 1949',\n 'Kelahiran 1971',\n 'Musim',\n 'Cuaca',\n 'Meteorologi',\n 'Iklim',\n 'Kanada',\n 'Pasar saham',\n 'Keuangan',\n 'Argentina',\n 'Yesus',\n 'Perguruan tinggi di Filipina',\n 'Perguruan tinggi di Thailand',\n 'Singapura',\n 'Perguruan tinggi di Korea Selatan',\n 'Perguruan tinggi di Jepang',\n 'Tokyo',\n 'Namibia',\n 'Kelahiran 1935',\n 'Naskah Nusantara',\n 'Penghargaan film',\n 'Kelahiran 1986',\n 'Kematian 1986',\n 'Jawa Tengah',\n 'Kematian 1910',\n 'Kelahiran 1843',\n 'Festival film',\n 'Festival',\n 'Film tahun 2004',\n '2004',\n 'Film tahun 2001',\n 'Film tahun 1999',\n 'Film tahun 1997',\n 'Film tahun 1980-an',\n '1980-an',\n '1997',\n '1999',\n 'Film Hong Kong',\n 'Film drama',\n '2001',\n 'Hong Kong',\n 'Film fiksi ilmiah',\n 'Film tahun 2002',\n '2002',\n 'Politikus',\n 'Kelahiran 1944',\n 'Musibah',\n 'Kelahiran 1962',\n '1960-an',\n 'Tahun',\n 'Presiden Israel',\n 'Kelahiran 1874',\n 'Kematian 1963',\n '1870-an',\n 'Kematian 1952',\n '1950-an',\n 'Berlin',\n 'Politikus Namibia',\n 'Kelahiran 1929',\n 'Fisikawan Belanda',\n 'Matematikawan Belanda',\n 'Belanda',\n 'Kelahiran 1884',\n 'Venezuela',\n 'Bank Hong Kong',\n 'PlayStation',\n 'Elektromagnetisme',\n 'Kematian 1948',\n '1940-an',\n 'Ekonomi Jepang',\n 'Bank di Jepang',\n 'Bank sentral',\n 'Bank di Australia',\n 'Maskapai penerbangan',\n 'Fitur Wikipedia',\n 'Rintisan bertopik Indonesia',\n 'Kematian abad ke-1',\n 'Kelahiran abad ke-1',\n 'Abad ke-1',\n 'Abad',\n 'Peristiwa 2005',\n 'Gempa bumi',\n 'Peristiwa menurut tahun',\n '2005',\n 'Sunda',\n 'Kanselir Jerman',\n 'Kematian 1970',\n '1970-an',\n 'Kelahiran 1885',\n '1880-an',\n 'Hewan ternak',\n 'Tentara Nasional Indonesia Angkatan Darat',\n 'Bahasa Tionghoa',\n 'Eropa',\n 'Sejarah Jepang',\n 'Film tahun 2003',\n 'Film Jerman',\n 'Film komedi',\n '2003',\n 'Anatomi',\n 'Chordata',\n 'Transportasi di Indonesia',\n 'Kelahiran 1943',\n 'Piala Dunia FIFA',\n 'Jawa Barat',\n 'Minuman',\n 'Film Indonesia',\n 'Produser film',\n 'Sinetron',\n 'Kelahiran 1920',\n 'Paus',\n 'Kelahiran 1762',\n 'Kematian 1843',\n 'Kelahiran 1942',\n 'IBM',\n 'Politikus Singapura',\n 'Enklave dan eksklave',\n 'Kematian 1929',\n 'Kelahiran 1844',\n '1920-an',\n '1840-an',\n 'Kematian 2005',\n '2000-an',\n 'Pemenang Hadiah Nobel Perdamaian',\n 'Kelahiran 1952',\n 'Komputer awal',\n 'Kelahiran 1923',\n 'Arab Saudi',\n 'Kelahiran 1958',\n 'Kelahiran 1933',\n '1930-an',\n 'Politikus Irak',\n 'Permainan komputer',\n 'Kelahiran 1968',\n 'Pemain sepak bola',\n 'Olahragawan',\n 'Kelahiran 1960',\n 'Kelahiran 1940',\n 'Kelahiran 1976',\n 'Artikel yang perlu diterjemahkan',\n 'Kelahiran 1947',\n 'Niger',\n 'Kelahiran 1916',\n 'Kematian 1989',\n '1910-an',\n 'Presiden Niger',\n 'Kelahiran 1950',\n 'Kematian 1999',\n '1990-an',\n 'Paus Yohanes Paulus II',\n 'Kelahiran 1921',\n 'Grup musik',\n 'Makassar',\n 'Sulawesi Selatan',\n 'Kematian 1968',\n 'Partai Amanat Nasional',\n 'Majelis Permusyawaratan Rakyat Republik Indonesia',\n 'Kelahiran 1303',\n 'Kematian 1373',\n '1300-an',\n '1370-an',\n 'Perjanjian Lama',\n 'Bengkulu',\n 'Angka',\n 'Warna',\n 'Film Prancis',\n 'Mahabharata',\n 'Pulau',\n 'Australia',\n 'Kelahiran 1939',\n 'Perdana Menteri Malaysia',\n 'Kimia organik',\n 'Senyawa organik',\n 'Senyawa kimia',\n 'Chili',\n 'Bahrain',\n 'Aljabar',\n 'Aljabar abstrak',\n 'Aljabar linear',\n 'Rumpun bahasa Austronesia',\n 'Bahasa Aram',\n 'Bahasa Indo-Arya',\n 'Danau',\n 'Kelahiran 1974',\n 'Kelahiran 1977',\n 'Kelahiran 1934',\n 'Perdana Menteri Lebanon',\n 'Lebanon',\n 'Banten',\n 'Turki',\n 'Tunisia',\n 'India',\n 'Teorema',\n 'Teori bilangan',\n 'Permainan video',\n 'Perusahaan Korea Selatan',\n 'Stasiun Luar Angkasa Internasional',\n 'Luar angkasa',\n 'Stasiun luar angkasa',\n 'Kelahiran 1972',\n 'Kematian 1435',\n 'Kelahiran 1371',\n '1430-an',\n 'Mangaka',\n 'Toyota',\n 'Perusahaan Jepang',\n 'Produsen pesawat',\n 'Indeks pasar saham',\n 'Valuasi',\n 'Serangan teroris',\n 'Kelahiran 1948',\n 'Kerajaan Britania',\n 'Britania Raya',\n 'Kelahiran 1927',\n 'Kematian 67',\n 'Peristiwa terkini',\n 'Belgia',\n 'Produsen mobil',\n 'Bahasa pemrograman',\n 'Perusahaan',\n 'Penerbit',\n 'Kalimat Latin',\n 'Film tahun 1960-an',\n 'Film musikal',\n 'Seni bela diri',\n 'Istilah komputer',\n 'Jawa',\n 'Hukuman',\n 'Sony',\n 'Sirkuit terpadu',\n 'Elektronika',\n 'Papua',\n 'Zona waktu',\n 'Skala waktu',\n 'Libya',\n 'Nusa Tenggara Barat',\n 'Stasiun televisi Jepang',\n 'Satelit alami',\n 'Bintang',\n 'Planet',\n 'Orang terkaya di dunia menurut Forbes',\n 'Perusahaan yang diperdagangkan di Nasdaq',\n 'Kelahiran 1955',\n 'Satuan waktu',\n 'Hari',\n 'Antariksawan',\n 'Kelahiran 1965',\n 'Laser',\n 'Geometri',\n 'Kematian 1710',\n 'Kelahiran 1644',\n 'Denmark',\n 'Ilmuwan Denmark',\n 'Dragon Ball',\n 'Timor Timur',\n 'Linux',\n 'Kematian 1904',\n 'Kelahiran 1879',\n '1900-an',\n 'Kelahiran 1903',\n 'Kematian 1938',\n 'Kematian 1645',\n 'Kelahiran 1593',\n 'Kematian 1939',\n 'Kelahiran 1856',\n 'Ilmuwan Austria',\n '1850-an',\n 'Filsuf',\n 'Kelahiran 1480',\n 'Kematian 1521',\n 'Afrika Selatan',\n 'Timur Tengah',\n 'Negara komunis',\n 'Rusia',\n 'User en-3',\n 'User en',\n 'User en-1',\n 'User nl',\n 'User nl-3',\n 'User fr-2',\n 'User fr',\n 'User de-1',\n 'User de',\n 'User id',\n 'User jv',\n 'Tanzania',\n 'Mesir',\n 'Laut',\n 'Kota',\n 'Sungai',\n 'User ms',\n 'User ms-2',\n 'User zh-1',\n 'User zh',\n 'Kelahiran 1889',\n 'Kematian 1945',\n 'Sejarah Prancis',\n 'Nazi',\n 'Suara',\n 'Perdana Menteri India',\n 'Kematian 1964',\n 'Kematian 1983',\n 'Kelahiran 1907',\n 'Kelahiran 1924',\n 'Kelahiran 1928',\n 'Perdana Menteri Israel',\n 'Kematian 1973',\n 'Kelahiran 1886',\n 'Kematian 1965',\n 'Kelahiran 1864',\n 'Kelahiran 1915',\n 'Kematian 1995',\n 'Kelahiran 1922',\n 'Kematian 1969',\n 'Kelahiran 1895',\n 'Kelurahan di Daerah Khusus Ibukota Jakarta',\n 'Kecamatan di Daerah Khusus Ibukota Jakarta',\n 'Pemenang Hadiah Nobel dalam bidang fisiologi atau kedokteran',\n 'Kelahiran 1937',\n 'Melayu',\n 'Teluk',\n 'Kematian 1959',\n 'Kelahiran 1899',\n 'Sulawesi Tenggara',\n 'Kelahiran 1966',\n 'Kelahiran 1946',\n 'Film tahun 1930-an',\n 'Kelahiran 1970',\n 'Stadion',\n 'Kematian 1943',\n 'Klub sepak bola Inggris',\n 'Tim sepak bola',\n 'Klub sepak bola Italia',\n 'Komikus',\n 'Kelahiran 1925',\n 'Presiden Argentina',\n 'Kematian 1974',\n 'Perguruan tinggi di Malaysia',\n 'Klub sepak bola Spanyol',\n 'Abruzzo',\n 'Basilicata',\n 'Perusahaan Indonesia',\n 'Miss Malaysia',\n 'Presiden Jerman',\n 'Kelahiran 1953',\n 'Partai politik',\n 'Simfoni',\n 'Senjata pemusnah massal',\n 'Perdana Menteri Britania Raya',\n 'Pemenang Hadiah Nobel dalam bidang sastra',\n 'Vatikan',\n 'Kematian 1954',\n 'Kelahiran 1912',\n 'Seni domain umum',\n 'Kematian 1849',\n 'Kelahiran 1760',\n 'Kematian 1955',\n 'Tokoh Disney',\n 'Tokoh komik',\n 'Disney',\n 'Film tahun 2000',\n 'Sastra Jawa',\n 'Kekaisaran Romawi Timur',\n 'Yang di-Pertuan Agong',\n 'Presiden Singapura',\n 'Kelahiran 1910',\n 'Kematian 1981',\n 'Kematian 2002',\n 'Kelahiran 1936',\n 'Klub sepak bola Indonesia',\n 'Selandia Baru',\n 'Bekas koloni di Britania Raya',\n 'Superkomputer',\n 'Kelahiran 1963',\n 'User de-2',\n 'User sl-N',\n 'User sl',\n 'Bunga',\n 'Brasil',\n 'Transportasi di Jepang',\n 'Transportasi menurut negara',\n 'Transportasi di Eropa',\n 'Museum di Jakarta',\n 'Wilayah dependensi',\n 'Tempat-tempat di Jakarta',\n 'Moskwa',\n '1998',\n 'Kerusuhan',\n '1969',\n 'Klub bola basket',\n 'Penggunaan gambar bersyarat',\n 'Kelahiran 1931',\n 'User de-3',\n 'User fr-1',\n 'User fr-3',\n 'User en-2',\n 'User id-0',\n 'User en-N',\n 'User de-N',\n 'User fr-N',\n 'User id-N',\n 'User id-1',\n 'User id-2',\n 'User id-3',\n 'User jv-N',\n 'User jv-3',\n 'User jv-1',\n 'User ms-N',\n 'User ms-3',\n 'User ms-1',\n 'User nl-N',\n 'User nl-2',\n 'User nl-1',\n 'User sl-3',\n 'User sl-1',\n 'User zh-N',\n 'User zh-3',\n 'User zh-2',\n 'Liga Indonesia',\n 'Finlandia',\n 'User it-N',\n 'User it',\n 'User nan-2',\n 'User zh-min-nan',\n 'User nan-1',\n 'Makanan',\n 'Kelahiran 1980',\n 'Azerbaijan',\n 'Polinesia',\n 'Kematian 1931',\n 'Geografi Jepang',\n 'Perang Vietnam',\n 'Perang Salib',\n 'Sejarah Belanda',\n 'Sejarah menurut negara',\n 'Sejarah Filipina',\n 'Sejarah Islam',\n 'Sejarah industri minyak bumi',\n 'Sejarah telekomunikasi',\n 'Sejarah neurosains',\n 'Sejarah dunia',\n 'Monarki',\n 'Bentuk pemerintahan',\n 'Perang Korea',\n 'Kelahiran 1882',\n 'Kelahiran 1938',\n 'User ja-N',\n 'User ja',\n 'Bahasa Jepang',\n 'Kematian 1960',\n 'Kelahiran 1893',\n 'Kematian 1956',\n 'Kelahiran 1890',\n 'Sejarah Vietnam',\n 'Senegal',\n 'Pasar',\n 'Meksiko',\n 'Rintisan bertopik geografi',\n 'Rintisan bertopik geografi Indonesia',\n 'Sejarah Jerman',\n 'Kendaraan Toyota',\n 'Ford',\n 'Yaman',\n 'Kriptografi',\n 'Bahasa Afro-Asia',\n 'Kematian 1994',\n 'Kelahiran 1913',\n 'Wakil Presiden Amerika Serikat',\n 'Sastrawan Indonesia',\n 'Kelahiran 1777',\n 'Kelahiran 1857',\n 'Kematian 1894',\n 'Kematian 1851',\n 'Kelahiran 1999',\n 'Kematian 2004',\n 'Perusahaan Swedia',\n 'Rintisan bertopik kimia',\n 'Kelahiran 1941',\n 'Kelahiran 1875',\n 'Kematian 1947',\n 'Pusat perbelanjaan di Jakarta',\n 'Rintisan bertopik musik',\n 'Kepulauan Cook',\n 'Sulawesi Tengah',\n 'Rintisan bertopik film',\n 'Star Trek',\n 'Atmosfer',\n 'Kematian 1997',\n 'Kelahiran 1930',\n 'Satuan ukur',\n 'Satuan panjang',\n 'Kelahiran 1919',\n 'Kelahiran 1914',\n 'Kematian 1998',\n 'Kelahiran 1961',\n 'Hotel',\n 'Kepulauan Channel',\n 'Haji',\n 'Film tahun 2005',\n 'Kematian 1987',\n 'Kematian 1922',\n 'Kelahiran 1847',\n 'Somalia',\n 'Semenanjung',\n 'Kematian 397',\n 'Kelahiran 340',\n 'Kematian 1946',\n 'Kelahiran 1917',\n 'Kelahiran 1926',\n 'Politikus Prancis',\n 'Genetika',\n 'Kelahiran 1887',\n 'Kematian 1975',\n 'Nigeria',\n 'Kematian 1790',\n 'Kelahiran 1723',\n 'Partai Keadilan Sejahtera',\n 'Mitologi Yunani',\n 'Kelahiran 1981',\n 'Kematian 1870',\n 'Kelahiran 1812',\n 'Yogyakarta',\n 'Bisbol',\n 'Etiopia',\n 'Geografi Prancis',\n 'Kematian 1875',\n 'Kelahiran 1805',\n 'Penulis',\n 'Surat elektronik',\n 'Perlengkapan menulis',\n 'Situs web',\n 'Film Jepang',\n 'Film tahun 1950-an',\n 'Kematian 1992',\n 'Kematian 1991',\n 'Honda',\n 'Kelahiran 1906',\n 'Kepulauan Riau',\n 'Rumah sakit',\n 'Bahasa Jermanik',\n 'Kematian 1980',\n 'Sutradara',\n 'Gelar',\n 'Stasiun kereta api',\n 'Tokoh Singapura',\n 'Amerika Selatan',\n 'Rwanda',\n 'Kelahiran 1989',\n 'Kelahiran 1881',\n 'Seniman',\n 'Suriah',\n 'Petinju',\n 'Tinju',\n 'Kelahiran 1973',\n 'Penyanyi Indonesia',\n 'Penyanyi',\n 'Kelahiran 1984',\n 'Kelahiran 1982',\n 'Kelahiran 1978',\n 'Armenia',\n 'Kelahiran 1897',\n 'Kaisar Jepang',\n 'Kematian 1926',\n 'Kelahiran 1901',\n 'Pusat perbelanjaan di Medan',\n 'Islandia',\n 'Partai komunis',\n 'User ko-N',\n 'User ko',\n 'User ko-3',\n 'User ko-2',\n 'User ko-1',\n 'User ja-1',\n 'Perguruan tinggi di Israel',\n 'Kelahiran 1987',\n 'Film tahun 1994',\n 'Kamboja',\n 'Kelahiran 1821',\n 'Kematian 1892',\n 'Kelahiran 1892',\n 'Atletik',\n 'Kelahiran 1975',\n 'Friuli-Venezia Giulia',\n 'Novel',\n 'Minyak bumi',\n 'Kenya',\n 'Star Wars',\n 'Banyumasan',\n 'Teh',\n 'Bhutan',\n 'Paris',\n 'Genre sastra',\n 'Kelahiran 1905',\n 'Kematian 1988',\n 'User nan-3',\n 'User nan-N',\n 'User ja-2',\n 'User ja-3',\n 'Kematian 1527',\n 'Kelahiran 1469',\n 'Malaikat',\n 'Perusahaan Jerman',\n 'Kelahiran 1983',\n 'Kelahiran 1990',\n 'Film animasi',\n 'Tenis',\n 'Asteroid',\n 'Kematian 1599',\n 'Kelahiran 1565',\n 'Film Oliver Stone',\n 'Kata serapan dari bahasa Tionghoa dalam bahasa Indonesia',\n 'Kelahiran 1808',\n 'Kematian 1937',\n 'Presiden Iran',\n 'Perdana Menteri Australia',\n 'Kematian 1936',\n 'Kelahiran 1957',\n 'Bahasa Dravida',\n 'Maroko',\n 'Kematian 1950',\n 'Kelahiran 1951',\n 'Rintisan bertopik olahraga',\n 'Dioda optikal',\n 'Aeronautika',\n 'Kelahiran 1871',\n 'Kelahiran 1888',\n 'Kelahiran 1845',\n 'Perusahaan minyak',\n 'Sains Besar',\n 'Yunani',\n 'Kelahiran 1967',\n 'Kelahiran 1834',\n 'Kematian 1914',\n 'Kematian 1918',\n 'Batak',\n 'Tokoh Suriname',\n 'Kelahiran 1898',\n 'Kematian 1976',\n 'Kematian 1662',\n 'Kelahiran 1624',\n 'Kematian 1985',\n 'Kelahiran 1900',\n 'Partai konservatif',\n 'Standar W3C',\n 'Sastra Tionghoa',\n 'Film tahun 1995',\n '1995',\n 'Sejarah Kanada',\n 'Kematian 1231',\n 'Kelahiran 1195',\n 'Kematian 430',\n 'Kelahiran 354',\n 'Film horor',\n 'Kematian 1982',\n 'Artikel pilihan',\n 'Kematian 1827',\n 'Kelahiran 1770',\n 'Pramoedya Ananta Toer',\n 'Perguruan tinggi di Belanda',\n 'Rintisan bertopik komputer',\n 'Geografi menurut negara',\n '2010-an',\n 'Penyanyi Hong Kong',\n 'Film cerita seru',\n 'Rintisan bertopik anatomi',\n 'Perguruan tinggi di Australia',\n 'Komet',\n 'Angkutan cepat',\n 'Perusahaan komputer',\n 'Sudan',\n 'Pemusik',\n 'Kelahiran 1964',\n 'Perdana Menteri Thailand',\n 'Presiden Togo',\n 'Togo',\n 'Sulawesi Utara',\n 'Presiden Filipina',\n 'Kematian 1793',\n 'Kelahiran 1754',\n 'Kelahiran 1785',\n 'Kematian 1795',\n 'Perang Dunia I',\n 'Sejarah Spanyol',\n 'Doraemon',\n 'Firma arsitektur',\n 'Genosida',\n 'Perjanjian Baru',\n 'Nikaragua',\n 'Kematian 1979',\n 'Klub sepak bola Jerman',\n 'Sri Lanka',\n '1230-an',\n 'Acara televisi Indonesia',\n 'Kematian 1791',\n 'Kelahiran 1756',\n 'User sv',\n 'Kematian 1958',\n 'Asia Tenggara',\n 'Sultan',\n 'Artikel yang layak digabungkan',\n 'Kematian 1902',\n 'Kelahiran 1853',\n 'Eritrea',\n 'Kematian 1935',\n 'Bahan',\n 'Pantai Gading',\n 'Kelahiran 1997',\n 'Bersepeda',\n 'Kematian 1967',\n 'Kematian 1888',\n 'Kelahiran 1815',\n 'Perusahaan yang diperdagangkan di Bursa Saham Tokyo',\n 'Laos',\n 'Kematian 1552',\n 'Kelahiran 1506',\n 'Perguruan tinggi di Kanada',\n 'Kematian 1934',\n 'Kematian 1921',\n 'Kematian 1896',\n 'Kelahiran 1861',\n 'Paradigma pemrograman',\n 'Geografi Eropa',\n 'Kematian 1927',\n 'Kelahiran 1860',\n 'Kematian 1879',\n 'Kelahiran 1831',\n 'Kematian 1966',\n 'Museum',\n 'Kelahiran 1945',\n 'Tangkapan layar film',\n 'Perusahaan Prancis',\n 'Pendidikan di Indonesia',\n 'Satelit',\n 'Kematian 1855',\n 'Matematikawan',\n 'Presiden Mauritania',\n 'Mauritania',\n 'Irlandia Utara',\n 'Irlandia',\n ...]"
     },
     "execution_count": 205,
     "metadata": {},
     "output_type": "execute_result"
    }
   ],
   "source": [
    "list_category = []\n",
    "\n",
    "for i, line in enumerate(bz2.BZ2File(data_path, 'r')):\n",
    "    line = line.decode('utf-8')\n",
    "\n",
    "    if '<title>Kategori:' in line:\n",
    "        # remove <title></title> tag\n",
    "        stripped_line = line[20:-9]\n",
    "        list_category.append(stripped_line)\n",
    "\n",
    "list_category"
   ],
   "metadata": {
    "collapsed": false,
    "ExecuteTime": {
     "end_time": "2024-02-15T09:55:42.581520100Z",
     "start_time": "2024-02-15T09:50:54.055034100Z"
    }
   },
   "id": "1b3edfee636db257"
  },
  {
   "cell_type": "markdown",
   "source": [
    "#### DB Connection"
   ],
   "metadata": {
    "collapsed": false
   },
   "id": "e0292e336ef50841"
  },
  {
   "cell_type": "code",
   "execution_count": 179,
   "outputs": [],
   "source": [
    "import MySQLdb\n",
    "import dotenv\n",
    "\n",
    "config = dotenv.dotenv_values('.env')\n",
    "\n",
    "db_credentials = {\n",
    "    'host' : 'localhost',\n",
    "    'user' : config['USERNAME'],\n",
    "    'password' : config['PASSWORD'],\n",
    "    'database' : config['DATABASE_NAME']\n",
    "}\n",
    "\n",
    "conn = MySQLdb.connect(**db_credentials)\n",
    "conn.close()"
   ],
   "metadata": {
    "collapsed": false,
    "ExecuteTime": {
     "end_time": "2024-02-15T09:27:22.814049900Z",
     "start_time": "2024-02-15T09:27:22.797762500Z"
    }
   },
   "id": "55aa58f329c31dbf"
  },
  {
   "cell_type": "markdown",
   "source": [
    "#### Selecting categories and its subcategories that will be used\n",
    "Documentation: \n",
    "- https://www.mediawiki.org/wiki/Manual:Page_table\n",
    "- https://www.mediawiki.org/wiki/Manual:Categorylinks_table"
   ],
   "metadata": {
    "collapsed": false
   },
   "id": "66b4adc6db1c5a79"
  },
  {
   "cell_type": "code",
   "execution_count": 573,
   "outputs": [],
   "source": [
    "category_to_be_used = {}\n",
    "category_without_subcategory = []\n",
    "page_to_be_used = {}"
   ],
   "metadata": {
    "collapsed": false,
    "ExecuteTime": {
     "end_time": "2024-02-16T06:04:24.149303500Z",
     "start_time": "2024-02-16T06:04:24.143797800Z"
    }
   },
   "id": "8917ef661443efc"
  },
  {
   "cell_type": "code",
   "execution_count": 574,
   "outputs": [],
   "source": [
    "def get_subcategories(conn, category):\n",
    "    \"\"\"\n",
    "    Parameters:\n",
    "    - conn: MySQL connection\n",
    "    - category: Subcategories will be searched based on this category (case-sensitive)\n",
    "    \n",
    "    - Get category's subcategories that will be used\n",
    "    - The category itself will not be appended to the dict, cl_to can be used to get the 'super categories'; unless it doesn't have subcategories\n",
    "    \"\"\"\n",
    "    \n",
    "    # eliminates the separation using space between words in category\n",
    "    if len(category.split()) > 1 :\n",
    "        category = category.replace(\" \", \"_\")\n",
    "    \n",
    "    cur = conn.cursor()\n",
    "    cur.execute( f\"select page_id, page_title, page_namespace, cl_to from page p inner join categorylinks c on p.page_id = c.cl_from \"\n",
    "                 f\"where page_namespace = 14 and cl_to = '{category}'\" )\n",
    "    result = cur.fetchall()\n",
    "    \n",
    "    if (len(result)) == 0:\n",
    "        category = category.replace(\"_\", \" \")\n",
    "        if category not in category_without_subcategory:\n",
    "            category_without_subcategory.append(category)\n",
    "            print(f\"Category without subcategory: {category}\")\n",
    "    else : \n",
    "        for i, line in enumerate(result):\n",
    "            page_id = line[0]\n",
    "            page_title = line[1].decode('utf-8').replace(\"_\", \" \")\n",
    "            page_namespace = line[2]\n",
    "            cl_to = line[3].decode('utf-8').replace(\"_\", \" \")\n",
    "            \n",
    "            # check if the key already exists; if so, only append the cl_to\n",
    "            if page_id in category_to_be_used:\n",
    "                # check duplicates in cl_to\n",
    "                if cl_to not in category_to_be_used[page_id]['cl_to']:\n",
    "                    category_to_be_used[page_id]['cl_to'].append(cl_to)\n",
    "            else:\n",
    "                #  add the new category where page_id as the key\n",
    "                category_to_be_used[page_id] = {\n",
    "                    \"page_id\": page_id,\n",
    "                    \"page_title\" : page_title,\n",
    "                    \"page_namespace\" : page_namespace,\n",
    "                    \"cl_to\" : [cl_to]\n",
    "                }"
   ],
   "metadata": {
    "collapsed": false,
    "ExecuteTime": {
     "end_time": "2024-02-16T06:04:26.068010800Z",
     "start_time": "2024-02-16T06:04:26.058928200Z"
    }
   },
   "id": "eaf1378e82050de3"
  },
  {
   "cell_type": "code",
   "execution_count": 575,
   "outputs": [],
   "source": [
    "def get_page_from_category(conn, category):\n",
    "    \"\"\"\n",
    "    Parameters:\n",
    "    - conn: MySQL connection\n",
    "    - category: Pages will be searched based on this category (case-sensitive)\n",
    "  \n",
    "    - Get all pages that belong to a category\n",
    "    \"\"\"\n",
    "\n",
    "    # eliminates the separation using space between words in category\n",
    "    if len(category.split()) > 1 :\n",
    "        category = category.replace(\" \", \"_\")\n",
    "    \n",
    "    cur = conn.cursor()\n",
    "    cur.execute( f\"select page_id, page_title, page_namespace from page p inner join categorylinks c on p.page_id = c.cl_from \"\n",
    "                 f\"where page_namespace = 0 and cl_to = '{category}'\" )\n",
    "    \n",
    "    result = cur.fetchall()\n",
    "    _compose_page_result(result)\n",
    "\n",
    "def get_page_from_page_title(conn, page_title):\n",
    "    \"\"\"\n",
    "    Parameters:\n",
    "    - conn: MySQL connection\n",
    "    - page_title: Page's title that will be searched (case-sensitive)\n",
    "  \n",
    "    - Get page by a title\n",
    "    \"\"\"\n",
    "\n",
    "    # eliminates the separation using space between words in page_title\n",
    "    if len(page_title.split()) > 1 :\n",
    "        page_title = page_title.replace(\" \", \"_\")\n",
    "\n",
    "    cur = conn.cursor()\n",
    "    cur.execute( f\"select page_id, page_title, page_namespace from page p where page_namespace = 0 and page_title = '{page_title}'\")\n",
    "    \n",
    "    result = cur.fetchall()\n",
    "    _compose_page_result(result)\n",
    "            \n",
    "def _compose_page_result(result):\n",
    "    \"\"\"\n",
    "    Parameters:\n",
    "    - result: SQL Fetch result\n",
    "  \n",
    "    - Append page_to_be_used dictionary that will be used by get_page_from_category() and get_page_from_page_title()\n",
    "    \"\"\"\n",
    "    for i, line in enumerate(result):\n",
    "        page_id = line[0]\n",
    "        page_title = line[1].decode('utf-8').replace(\"_\", \" \")\n",
    "        page_namespace = line[2]\n",
    "\n",
    "        # check if the key already exists\n",
    "        if page_id not in page_to_be_used:\n",
    "            page_to_be_used[page_id] = {\n",
    "                \"page_id\": page_id,\n",
    "                \"page_title\" : page_title,\n",
    "                \"page_namespace\" : page_namespace,\n",
    "            }\n",
    "    "
   ],
   "metadata": {
    "collapsed": false,
    "ExecuteTime": {
     "end_time": "2024-02-16T06:04:28.443226500Z",
     "start_time": "2024-02-16T06:04:28.438250Z"
    }
   },
   "id": "d005d42730557334"
  },
  {
   "cell_type": "code",
   "execution_count": 576,
   "outputs": [],
   "source": [
    "conn = MySQLdb.connect(**db_credentials)\n",
    "\n",
    "# get_subcategories(conn, \"Orde Lama\")\n",
    "# get_subcategories(conn, \"Republik Indonesia Serikat\")\n",
    "\n",
    "get_page_from_category(conn, 'Orde Lama')\n",
    "\n",
    "conn.close()\n"
   ],
   "metadata": {
    "collapsed": false,
    "ExecuteTime": {
     "end_time": "2024-02-16T06:04:31.951261900Z",
     "start_time": "2024-02-16T06:04:31.944083200Z"
    }
   },
   "id": "3f977089462fbb77"
  },
  {
   "cell_type": "code",
   "execution_count": 578,
   "outputs": [
    {
     "data": {
      "text/plain": "{85082: {'page_id': 85082,\n  'page_title': 'Demokrasi Terpimpin (1959–1965)',\n  'page_namespace': 0},\n 1061635: {'page_id': 1061635,\n  'page_title': 'Front Nasional (Orde Lama)',\n  'page_namespace': 0},\n 1151450: {'page_id': 1151450,\n  'page_title': 'Sejarah Indonesia (1965–1966)',\n  'page_namespace': 0},\n 1884981: {'page_id': 1884981,\n  'page_title': 'Partai Persatuan Indonesia Raya',\n  'page_namespace': 0},\n 2177254: {'page_id': 2177254,\n  'page_title': 'Hiperinflasi Indonesia 1963-1965',\n  'page_namespace': 0},\n 68557: {'page_id': 68557,\n  'page_title': 'Tri Tuntutan Rakyat',\n  'page_namespace': 0},\n 610391: {'page_id': 610391,\n  'page_title': 'Sinterklas Hitam',\n  'page_namespace': 0},\n 13029: {'page_id': 13029,\n  'page_title': 'Gunting Syafruddin',\n  'page_namespace': 0},\n 1602997: {'page_id': 1602997,\n  'page_title': 'Sengketa Irian Barat',\n  'page_namespace': 0}}"
     },
     "execution_count": 578,
     "metadata": {},
     "output_type": "execute_result"
    }
   ],
   "source": [
    "page_to_be_used"
   ],
   "metadata": {
    "collapsed": false,
    "ExecuteTime": {
     "end_time": "2024-02-16T06:04:54.182858500Z",
     "start_time": "2024-02-16T06:04:54.175159500Z"
    }
   },
   "id": "538b988fe10ea2b5"
  },
  {
   "cell_type": "code",
   "execution_count": null,
   "outputs": [],
   "source": [],
   "metadata": {
    "collapsed": false
   },
   "id": "167d0b992b4a8f87"
  }
 ],
 "metadata": {
  "kernelspec": {
   "display_name": "Python 3",
   "language": "python",
   "name": "python3"
  },
  "language_info": {
   "codemirror_mode": {
    "name": "ipython",
    "version": 2
   },
   "file_extension": ".py",
   "mimetype": "text/x-python",
   "name": "python",
   "nbconvert_exporter": "python",
   "pygments_lexer": "ipython2",
   "version": "2.7.6"
  }
 },
 "nbformat": 4,
 "nbformat_minor": 5
}
