{
 "cells": [
  {
   "cell_type": "code",
   "execution_count": 1,
   "id": "initial_id",
   "metadata": {
    "collapsed": true,
    "ExecuteTime": {
     "end_time": "2024-03-18T17:14:10.759499800Z",
     "start_time": "2024-03-18T17:14:09.431381900Z"
    }
   },
   "outputs": [],
   "source": [
    "# Example: Former Subdivision\n",
    "\n",
    "import pandas as pd\n",
    "\n",
    "# Merging the same infobox\n",
    "excel_path = pd.ExcelFile('D:\\Kuliah\\Skripsi\\Ontologi-Sejarah-Indonesia\\MichaelDawBalma\\Code\\infoboxes\\infobox-orla.xlsx')\n",
    "sheet_name = pd.read_excel(excel_path, 'Former Subdivision')\n",
    "sheet_name2 = pd.read_excel(excel_path, 'former subdivision1')\n",
    "csv_file_path = 'former-subdivision-final.csv'\n",
    "\n",
    "merged_df = pd.concat([sheet_name, sheet_name2])\n",
    "\n",
    "merged_df.to_csv(csv_file_path, index=False)"
   ]
  },
  {
   "cell_type": "code",
   "execution_count": 2,
   "outputs": [],
   "source": [
    "# Clean the merged Former Subdivision data\n",
    "import csv\n",
    "former_subdivision_clean = []\n",
    "\n",
    "with open(csv_file_path, newline='') as csvfile:\n",
    "    reader = csv.DictReader(csvfile)\n",
    "\n",
    "    for row in reader:\n",
    "        former_subdivision_clean.append(dict(row))"
   ],
   "metadata": {
    "collapsed": false,
    "ExecuteTime": {
     "end_time": "2024-03-18T17:14:21.017761600Z",
     "start_time": "2024-03-18T17:14:21.008669Z"
    }
   },
   "id": "b0fe694be564dc2d"
  },
  {
   "cell_type": "code",
   "execution_count": 3,
   "outputs": [],
   "source": [
    "'''\n",
    "Searching for longitude and latitude based on the docs:\n",
    "https://id.wikipedia.org/wiki/Templat:Infobox_former_subdivision (common_name)\n",
    "'''\n",
    "import geopy\n",
    "\n",
    "def get_coordinates(place):\n",
    "    geolocator = geopy.Nominatim(user_agent='place_coordinates_locator')\n",
    "    location = geolocator.geocode(place)\n",
    "    if location:\n",
    "        return location.latitude, location.longitude\n",
    "    return None,None\n",
    "\n",
    "\n",
    "for index, value in enumerate(former_subdivision_clean):\n",
    "    latitude, longitude = get_coordinates(value['common_name'])\n",
    "    if latitude is None:\n",
    "        latitude, longitude = get_coordinates(value['nation'])\n",
    "    # Add latitude and longitude into the dictionary  \n",
    "    value['latitude'] = latitude\n",
    "    value['longitude'] = longitude"
   ],
   "metadata": {
    "collapsed": false,
    "ExecuteTime": {
     "end_time": "2024-03-18T17:14:41.611375600Z",
     "start_time": "2024-03-18T17:14:23.494915600Z"
    }
   },
   "id": "64626215a3a3db51"
  },
  {
   "cell_type": "code",
   "execution_count": 34,
   "outputs": [],
   "source": [
    "'''\n",
    "Merge column date_start-year_start and date_end-year_end into merged_date_start and merged_date_end\n",
    "https://raw.githubusercontent.com/w3c/sdw/gh-pages/time/rdf/time.ttl (time:inXSDDate)\n",
    "'''\n",
    "\n",
    "month_list = {\n",
    "    'Januari' : '01',\n",
    "    'Februari' : '02',\n",
    "    'Maret' : '03',\n",
    "    'April' : '04',\n",
    "    'Mei' : '05',\n",
    "    'Juni' : '06',\n",
    "    'Juli' : '07',\n",
    "    'Agustus' : '08',\n",
    "    'September' : '09',\n",
    "    'Oktober' : '10',\n",
    "    'November' : '11',\n",
    "    'Desember' : '12',\n",
    "}\n",
    "\n",
    "defaultDateStart = '01-01'\n",
    "defaultDateEnd = '12-31'\n",
    "defaultYear = 2000\n",
    "\n",
    "for index, value in enumerate(former_subdivision_clean):\n",
    "    dateStartUsed = ''\n",
    "    yearStartUsed = ''\n",
    "    dateEndUsed = ''\n",
    "    yearEndUsed = ''\n",
    "\n",
    "    '''\n",
    "    Both start and end date will be set to default date if it doesnt have the corresponding data; \n",
    "    else it will be on the mm-dd format\n",
    "    '''\n",
    "    if value['date_start'] == '' :\n",
    "        dateStartUsed = defaultDateStart\n",
    "    else :\n",
    "        date = value['date_start'].split(\" \")\n",
    "        day = date[0]\n",
    "        month = month_list[date[1]]\n",
    "        # change into dd format\n",
    "        if len(day) == 1 :\n",
    "            day = '0' + f'{day}'\n",
    "            # merge day and month into mm-dd format\n",
    "        dateStartUsed = f'{month}-{day}'\n",
    "        \n",
    "    if value['date_end'] == '':\n",
    "        dateEndUsed = defaultDateEnd\n",
    "    else :\n",
    "        date = value['date_end'].split(\" \")\n",
    "        day = date[0]\n",
    "        month = month_list[date[1]]\n",
    "        # change into dd format\n",
    "        if len(day) == 1 :\n",
    "            day = '0' + f'{day}'\n",
    "            # merge day and month into mm-dd format\n",
    "        dateEndUsed = f'{month}-{day}'\n",
    "    \n",
    "    yearStartUsed = defaultYear if not value['year_start'] else value['year_start']\n",
    "    yearEndUsed = defaultYear if not value['year_end'] else value['year_end']\n",
    "        \n",
    "    # Merge to yyyy-mm-dd format \n",
    "    merged_date_start = f\"{yearStartUsed}-{dateStartUsed}\"\n",
    "    merged_date_end = f\"{yearEndUsed}-{dateEndUsed}\"\n",
    "    \n",
    "    value['merged_date_start'] = merged_date_start\n",
    "    value['merged_date_end'] = merged_date_end\n"
   ],
   "metadata": {
    "collapsed": false,
    "ExecuteTime": {
     "end_time": "2024-03-18T18:40:42.602568900Z",
     "start_time": "2024-03-18T18:40:42.594564400Z"
    }
   },
   "id": "5b30115bce34914c"
  },
  {
   "cell_type": "code",
   "execution_count": 35,
   "outputs": [],
   "source": [
    "fieldnames = former_subdivision_clean[0].keys()\n",
    "\n",
    "with open('former-subdivision-final-cleaned.csv', 'w', newline='') as csvfile:\n",
    "    writer = csv.DictWriter(csvfile, fieldnames=fieldnames)\n",
    "\n",
    "    writer.writeheader()\n",
    "\n",
    "    writer.writerows(former_subdivision_clean)"
   ],
   "metadata": {
    "collapsed": false,
    "ExecuteTime": {
     "end_time": "2024-03-18T18:41:47.330364100Z",
     "start_time": "2024-03-18T18:41:47.313532400Z"
    }
   },
   "id": "97f873102c95f63f"
  },
  {
   "cell_type": "code",
   "execution_count": null,
   "outputs": [],
   "source": [],
   "metadata": {
    "collapsed": false
   },
   "id": "a90574fad03cc5a4"
  }
 ],
 "metadata": {
  "kernelspec": {
   "display_name": "Python 3",
   "language": "python",
   "name": "python3"
  },
  "language_info": {
   "codemirror_mode": {
    "name": "ipython",
    "version": 2
   },
   "file_extension": ".py",
   "mimetype": "text/x-python",
   "name": "python",
   "nbconvert_exporter": "python",
   "pygments_lexer": "ipython2",
   "version": "2.7.6"
  }
 },
 "nbformat": 4,
 "nbformat_minor": 5
}
