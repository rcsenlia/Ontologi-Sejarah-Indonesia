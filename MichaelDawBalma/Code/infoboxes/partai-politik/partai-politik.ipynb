{
 "cells": [
  {
   "cell_type": "code",
   "execution_count": 1,
   "id": "initial_id",
   "metadata": {
    "collapsed": true,
    "ExecuteTime": {
     "end_time": "2024-04-16T08:20:20.188153200Z",
     "start_time": "2024-04-16T08:20:18.800522400Z"
    }
   },
   "outputs": [],
   "source": [
    "import pandas as pd\n",
    "\n",
    "# Merging the same infobox\n",
    "excel_path = pd.ExcelFile('D:\\Kuliah\\Skripsi\\Ontologi-Sejarah-Indonesia\\MichaelDawBalma\\Code\\infoboxes\\infobox-orla-fix.xlsx')\n",
    "sheet_name = pd.read_excel(excel_path, 'partai politik')\n",
    "sheet_name2 = pd.read_excel(excel_path, 'partai politik Indonesia')\n",
    "sheet_name3 = pd.read_excel(excel_path, 'Partai Politik1')\n",
    "sheet_name4 = pd.read_excel(excel_path, 'political party')\n",
    "sheet_name5 = pd.read_excel(excel_path, 'Political party1')\n",
    "\n",
    "csv_file_path = 'partai-politik.csv'\n",
    "\n",
    "merged_df = pd.concat([sheet_name, sheet_name2, sheet_name3, sheet_name4, sheet_name5])\n",
    "\n",
    "merged_df.to_csv(csv_file_path, index=False)"
   ]
  },
  {
   "cell_type": "code",
   "execution_count": 224,
   "outputs": [],
   "source": [
    "import csv\n",
    "partai_politik_clean = []\n",
    "\n",
    "with open(csv_file_path, newline='', encoding='utf-8') as csvfile:\n",
    "    reader = csv.DictReader(csvfile)\n",
    "\n",
    "    for row in reader:\n",
    "        partai_politik_clean.append(dict(row))"
   ],
   "metadata": {
    "collapsed": false,
    "ExecuteTime": {
     "end_time": "2024-04-16T15:06:23.944166100Z",
     "start_time": "2024-04-16T15:06:23.935258100Z"
    }
   },
   "id": "55a41ee5912235c2"
  },
  {
   "cell_type": "markdown",
   "source": [
    "### Add more party data"
   ],
   "metadata": {
    "collapsed": false
   },
   "id": "2a7c92eb1ac20ae3"
  },
  {
   "cell_type": "code",
   "execution_count": 17,
   "outputs": [],
   "source": [
    "sheets_dict = pd.read_excel(excel_path, sheet_name=None)\n",
    "\n",
    "party_list = []\n",
    "for sheet_name, df in sheets_dict.items():\n",
    "    if 'party' in df.columns:\n",
    "        party_column = df['party'].dropna()\n",
    "        party_list.append(party_column.tolist())\n",
    "\n",
    "# Write the list to a CSV file, then cleaning it manually\n",
    "with open('additional_party_value.csv', 'w', newline='') as csvfile:\n",
    "    writer = csv.writer(csvfile)\n",
    "    writer.writerow(['party'])\n",
    "    for sublist in party_list:\n",
    "        for item in sublist:\n",
    "            writer.writerow([item])"
   ],
   "metadata": {
    "collapsed": false,
    "ExecuteTime": {
     "end_time": "2024-04-16T09:04:20.231687300Z",
     "start_time": "2024-04-16T09:04:19.347135800Z"
    }
   },
   "id": "8d606616a394ace6"
  },
  {
   "cell_type": "code",
   "execution_count": 46,
   "outputs": [],
   "source": [
    "import csv\n",
    "additional_data_partai = []\n",
    "\n",
    "with open('additional_party_value.csv', newline='', encoding='utf-8') as csvfile:\n",
    "    reader = csv.DictReader(csvfile)\n",
    "\n",
    "    for row in reader:\n",
    "        additional_data_partai.append(dict(row))"
   ],
   "metadata": {
    "collapsed": false,
    "ExecuteTime": {
     "end_time": "2024-04-16T11:26:49.739753500Z",
     "start_time": "2024-04-16T11:26:49.733848800Z"
    }
   },
   "id": "1ebf1cf4111b84"
  },
  {
   "cell_type": "code",
   "execution_count": 220,
   "outputs": [],
   "source": [
    "import pywikibot, mwparserfromhell\n",
    "\n",
    "additional_data_partai_infoboxes = {}\n",
    "def get_infobox(page_title):\n",
    "    \"\"\"\n",
    "    :param page_title: \n",
    "    :return: \n",
    "    \n",
    "    Get infobox based on page title. \n",
    "    \"\"\"\n",
    "    # eliminates the separation using space between words in page_title\n",
    "    global information\n",
    "    \n",
    "    if page_title == 'Persatuan Arab Indonesia':\n",
    "        return \n",
    "\n",
    "    if len(page_title.split()) > 1 :\n",
    "        page_title = page_title.replace(\" \", \"_\")\n",
    "\n",
    "    site = pywikibot.Site('id', 'wikipedia')\n",
    "    page = pywikibot.Page(site, page_title)\n",
    "\n",
    "    try :\n",
    "        text = page.get()\n",
    "        wikitext = mwparserfromhell.parse(text)\n",
    "        infoboxes = wikitext.filter_templates(matches = 'Infobox')\n",
    "        for infobox in infoboxes :\n",
    "            information = {param.name.strip_code(keep_template_params = True).strip(): param.value.strip_code(keep_template_params = True).strip() for param in infobox.params}\n",
    "            # save the infobox's name and its title as the first and second 'index' respectively \n",
    "            information = {'infobox_name' : str(infobox.name).replace('\\n', ''), 'page_title' : page_title.replace(\"_\", \" \"), **information}\n",
    "\n",
    "            # Append to the list of values\n",
    "            if page_title.replace(\"_\", \" \") in additional_data_partai_infoboxes:\n",
    "                print(\"double\", page_title)\n",
    "                additional_data_partai_infoboxes[page_title.replace(\"_\", \" \")].append(information)\n",
    "            # Make the values as list since the page can have multiple infoboxes\n",
    "            else :\n",
    "                additional_data_partai_infoboxes[page_title.replace(\"_\", \" \")] = [information]\n",
    "\n",
    "    except pywikibot.page._basepage.IsRedirectPageError as e :\n",
    "        print(f\"!!! Title {page_title} has {e} Exception !!!\")"
   ],
   "metadata": {
    "collapsed": false,
    "ExecuteTime": {
     "end_time": "2024-04-16T15:06:04.040266300Z",
     "start_time": "2024-04-16T15:06:04.029635500Z"
    }
   },
   "id": "cac48652e517ad4b"
  },
  {
   "cell_type": "code",
   "execution_count": 221,
   "outputs": [
    {
     "name": "stdout",
     "output_type": "stream",
     "text": [
      "double Partai_Golongan_Karya\n",
      "double Partai_Golongan_Karya\n",
      "double Partai_Golongan_Karya\n",
      "double Nahdlatul_Ulama\n",
      "PNI Supeni\n",
      "Partai Gerakan Indonesia Merdeka\n",
      "Partai Komunis Belanda\n",
      "Partai Persatuan Indonesia (Parpindo)\n",
      "Gerakan Rakyat Baru\n",
      "Pemuda Republik Indonesia\n"
     ]
    }
   ],
   "source": [
    "for idx, value in enumerate(additional_data_partai):\n",
    "    if value['page_title'] is not None:\n",
    "        try:\n",
    "            get_infobox(value['page_title'])\n",
    "        except ValueError or TypeError:\n",
    "            print(value['party'])"
   ],
   "metadata": {
    "collapsed": false,
    "ExecuteTime": {
     "end_time": "2024-04-16T15:06:17.687856300Z",
     "start_time": "2024-04-16T15:06:06.166822800Z"
    }
   },
   "id": "8ab45815c0ce15be"
  },
  {
   "cell_type": "code",
   "execution_count": 230,
   "outputs": [],
   "source": [
    "for i, val in enumerate(additional_data_partai_infoboxes):\n",
    "    try :\n",
    "        partai_politik_clean.append(additional_data_partai_infoboxes[val][0])\n",
    "    except KeyError:\n",
    "        partai_politik_clean.append(additional_data_partai_infoboxes[val])"
   ],
   "metadata": {
    "collapsed": false,
    "ExecuteTime": {
     "end_time": "2024-04-16T15:07:28.497391400Z",
     "start_time": "2024-04-16T15:07:28.483388600Z"
    }
   },
   "id": "9b76afc7bd05e84c"
  },
  {
   "cell_type": "markdown",
   "source": [
    "### Add wikiurl, summary"
   ],
   "metadata": {
    "collapsed": false
   },
   "id": "7e81c14b70813c0a"
  },
  {
   "cell_type": "code",
   "execution_count": 231,
   "outputs": [],
   "source": [
    "import wikipedia\n",
    "\n",
    "def retrieve_paragraph(article_title):\n",
    "    wikipedia.set_lang(\"id\")\n",
    "    return wikipedia.summary(article_title, auto_suggest=False)\n",
    "\n",
    "def get_url_wikipedia(article_title):\n",
    "    wikipedia.set_lang(\"id\")\n",
    "    page = wikipedia.page(article_title, auto_suggest=False)\n",
    "    return page.url"
   ],
   "metadata": {
    "collapsed": false,
    "ExecuteTime": {
     "end_time": "2024-04-16T15:07:31.261249900Z",
     "start_time": "2024-04-16T15:07:31.238790700Z"
    }
   },
   "id": "99c240902ab0945"
  },
  {
   "cell_type": "code",
   "execution_count": 232,
   "outputs": [],
   "source": [
    "for index, data in enumerate(partai_politik_clean):\n",
    "    # if the title has more than paragraph summary, get the first summary\n",
    "    summary = retrieve_paragraph(data['page_title']).split(\"\\n\")\n",
    "    data['summary'] = summary[0]\n",
    "\n",
    "    wikiurl = get_url_wikipedia(data['page_title'])\n",
    "    data['wikiurl'] = wikiurl"
   ],
   "metadata": {
    "collapsed": false,
    "ExecuteTime": {
     "end_time": "2024-04-16T15:08:40.481556400Z",
     "start_time": "2024-04-16T15:07:36.330206400Z"
    }
   },
   "id": "6fe63f8ae8a2b152"
  },
  {
   "cell_type": "markdown",
   "source": [
    "### Extract to CSV"
   ],
   "metadata": {
    "collapsed": false
   },
   "id": "f6075d3a74f155fd"
  },
  {
   "cell_type": "code",
   "execution_count": 233,
   "outputs": [],
   "source": [
    "all_keys = set()\n",
    "for data in partai_politik_clean:\n",
    "    all_keys.update(data.keys())\n",
    "\n",
    "fieldnames = sorted(list(all_keys))\n",
    "\n",
    "with open('partai-politik-cleaned.csv', 'w', newline='', encoding='utf-8') as csvfile:\n",
    "    writer = csv.DictWriter(csvfile, fieldnames=fieldnames)\n",
    "    writer.writeheader()\n",
    "    writer.writerows(partai_politik_clean)"
   ],
   "metadata": {
    "collapsed": false,
    "ExecuteTime": {
     "end_time": "2024-04-16T15:09:58.177913400Z",
     "start_time": "2024-04-16T15:09:58.174394Z"
    }
   },
   "id": "b3ab6c8386b53301"
  },
  {
   "cell_type": "markdown",
   "source": [
    "### Multivalue"
   ],
   "metadata": {
    "collapsed": false
   },
   "id": "8471a92df452710d"
  },
  {
   "cell_type": "code",
   "execution_count": 267,
   "outputs": [],
   "source": [
    "partai_politik_clean_all = []\n",
    "\n",
    "partai_politik_multivalue_clean = []\n",
    "partai_politik_non_multivalue_clean = []\n",
    "\n",
    "with open('partai-politik-cleaned.csv', newline='', encoding='utf-8') as csvfile:\n",
    "    reader = csv.DictReader(csvfile)\n",
    "\n",
    "    for row in reader:\n",
    "        partai_politik_clean_all.append(dict(row))\n",
    "\n",
    "partai_politik_multivalue_clean_keys = ['chairman', 'founder', 'ideology', 'merged', 'position', 'predecessor', 'successor', 'think_tank', 'national', 'regional', 'continental', 'international', 'european', 'student_wing', 'vice_chairperson', 'youth_wing', 'women_wing', 'page_title']\n",
    "partai_politik_non_multivalue_clean_keys = [key for key in partai_politik_clean_all[0] if key not in partai_politik_multivalue_clean_keys]\n",
    "partai_politik_non_multivalue_clean_keys.append('page_title')\n",
    "\n",
    "for item in partai_politik_clean_all:\n",
    "    dict_A = {key: item[key] for key in partai_politik_multivalue_clean_keys}\n",
    "    partai_politik_multivalue_clean.append(dict_A)\n",
    "\n",
    "    dict_B = {key: item[key] for key in partai_politik_non_multivalue_clean_keys}\n",
    "    partai_politik_non_multivalue_clean.append(dict_B)"
   ],
   "metadata": {
    "collapsed": false,
    "ExecuteTime": {
     "end_time": "2024-04-16T23:32:00.659282700Z",
     "start_time": "2024-04-16T23:32:00.637439200Z"
    }
   },
   "id": "2222940f108b337c"
  },
  {
   "cell_type": "code",
   "execution_count": 269,
   "outputs": [],
   "source": [
    "fieldnames = partai_politik_non_multivalue_clean[0].keys()\n",
    "with open('partai-politik-non-multivalue-cleaned.csv', 'w', newline='', encoding='utf-8') as csvfile:\n",
    "    writer = csv.DictWriter(csvfile, fieldnames=fieldnames)\n",
    "    writer.writeheader()\n",
    "    writer.writerows(partai_politik_non_multivalue_clean)\n",
    "\n",
    "fieldnames = partai_politik_multivalue_clean[0].keys()\n",
    "with open('partai-politik-multivalue-cleaned.csv', 'w', newline='', encoding='utf-8') as csvfile:\n",
    "    writer = csv.DictWriter(csvfile, fieldnames=fieldnames)\n",
    "    writer.writeheader()\n",
    "    writer.writerows(partai_politik_multivalue_clean)\n"
   ],
   "metadata": {
    "collapsed": false,
    "ExecuteTime": {
     "end_time": "2024-04-16T23:32:17.174481300Z",
     "start_time": "2024-04-16T23:32:17.159456500Z"
    }
   },
   "id": "5e61b3352d7b4357"
  }
 ],
 "metadata": {
  "kernelspec": {
   "display_name": "Python 3",
   "language": "python",
   "name": "python3"
  },
  "language_info": {
   "codemirror_mode": {
    "name": "ipython",
    "version": 2
   },
   "file_extension": ".py",
   "mimetype": "text/x-python",
   "name": "python",
   "nbconvert_exporter": "python",
   "pygments_lexer": "ipython2",
   "version": "2.7.6"
  }
 },
 "nbformat": 4,
 "nbformat_minor": 5
}
