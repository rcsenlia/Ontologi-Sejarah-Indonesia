{
 "cells": [
  {
   "cell_type": "markdown",
   "source": [
    "### Retrieving all infoboxes from an article page"
   ],
   "metadata": {
    "collapsed": false
   },
   "id": "9e5ca3d64d4edca"
  },
  {
   "cell_type": "code",
   "execution_count": 31,
   "id": "initial_id",
   "metadata": {
    "collapsed": true,
    "ExecuteTime": {
     "end_time": "2024-04-16T13:38:15.972050600Z",
     "start_time": "2024-04-16T13:38:15.954479200Z"
    }
   },
   "outputs": [],
   "source": [
    "import pywikibot, mwparserfromhell\n",
    "\n",
    "def get_infobox(page_title):\n",
    "    global information\n",
    "\n",
    "    if len(page_title.split()) > 1 :\n",
    "        page_title = page_title.replace(\" \", \"_\")\n",
    "\n",
    "    site = pywikibot.Site('id', 'wikipedia')\n",
    "    page = pywikibot.Page(site, page_title)\n",
    "\n",
    "    try :\n",
    "        text = page.get()\n",
    "        wikitext = mwparserfromhell.parse(text)\n",
    "        infoboxes = wikitext.filter_templates(matches='Infobox')\n",
    "        if not infoboxes :\n",
    "            print(\"No infobox found\")\n",
    "        else:\n",
    "            for i, ibx in enumerate(infoboxes):\n",
    "                print(i+1 , \": \" ,  ibx)\n",
    "        \n",
    "    except pywikibot.page._basepage.IsRedirectPageError as e :\n",
    "        print(f\"!!! Title {page_title} has {e} Exception !!!\")"
   ]
  },
  {
   "cell_type": "code",
   "execution_count": 35,
   "outputs": [
    {
     "name": "stdout",
     "output_type": "stream",
     "text": [
      "1 :  {{Infobox organization\n",
      "| image               =Pai meeting in palembang 1939.jpg \n",
      "| alt                 =Rapat cabang eksponen PAI di Palembang dan Bandung, 1939 \n",
      "| caption             =Rapat cabang eksponen PAI di Palembang dan Bandung, 1939 \n",
      "| logo                =\n",
      "| logo_alt            = \n",
      "| logo_caption        = \n",
      "| map                 = \n",
      "| map_size            = \n",
      "| map_alt             = \n",
      "| map2_size           = \n",
      "| map2_alt            = \n",
      "| motto               = \n",
      "| predecessor         = \n",
      "| merged              = \n",
      "| successor           = \n",
      "| formation           = {{start date and age|1934|10|4}} <!-- use {{start date and age|YYYY|MM|DD}} -->\n",
      "| extinction          = [[1945]] <!-- use {{end date and age|YYYY|MM|DD}} -->\n",
      "| type                = \n",
      "| status              = \n",
      "| purpose             = \n",
      "| headquarters        = \n",
      "| coords              = <!-- {{coord|LAT|LON|display=inline, title}} -->\n",
      "| services            = \n",
      "| language            = \n",
      "| leader_title        = Ketua pertama\n",
      "| leader_name         = [[Abdurrahman Baswedan]]\n",
      "| leader_title2       = \n",
      "| leader_name2        = \n",
      "| leader_name3        = \n",
      "| leader_title3       = \n",
      "| leader_title4       = \n",
      "| leader_name4        = \n",
      "| board_of_directors  = \n",
      "| key_people          = \n",
      "| main_organ          = \n",
      "| parent_organization = \n",
      "| subsidiaries        = \n",
      "| affiliations        = \n",
      "| budget              = \n",
      "| volunteers          = \n",
      "| slogan              = \n",
      "| remarks             = \n",
      "| formerly            = \n",
      "| footnotes           = \n",
      "| name                = Persatuan Arab Indonesia\n",
      "| native_name         = Persatoean Arab Indonesia\n",
      "| native_name_lang    = id\n",
      "| named_after         = \n",
      "| image_size          = \n",
      "| logo_size           = \n",
      "| map_caption         = \n",
      "| map2                = \n",
      "| map2_caption        = \n",
      "| abbreviation        = PAI\n",
      "| founder             = [[Abdurrahman Baswedan]]\n",
      "| founding_location   = \n",
      "| merger              = \n",
      "| tax_id              = <!-- or | vat_id = (for European organizations) -->\n",
      "| registration_id     = <!-- for non-profit org -->\n",
      "| location            = [[Semarang]]\n",
      "| region              = \n",
      "| products            = \n",
      "| methods             = \n",
      "| fields              = \n",
      "| membership          = \n",
      "| membership_year     = \n",
      "| owner               = <!-- or | owners = -->\n",
      "| sec_gen             = \n",
      "| secessions          = \n",
      "| budget_year         = \n",
      "| revenue             = \n",
      "| revenue_year        = \n",
      "| disbursements       = \n",
      "| expenses            = \n",
      "| expenses_year       = \n",
      "| endowment           = \n",
      "| staff               = \n",
      "| staff_year          = \n",
      "| volunteers_year     = \n",
      "| mission             = \n",
      "| website             = <!-- {{URL|example.com}} -->\n",
      "}}\n"
     ]
    }
   ],
   "source": [
    "get_infobox(\"Persatuan Arab Indonesia\")"
   ],
   "metadata": {
    "collapsed": false,
    "ExecuteTime": {
     "end_time": "2024-04-16T14:37:36.552119600Z",
     "start_time": "2024-04-16T14:37:36.163337700Z"
    }
   },
   "id": "9d41eab551579b69"
  },
  {
   "cell_type": "code",
   "execution_count": null,
   "outputs": [],
   "source": [],
   "metadata": {
    "collapsed": false
   },
   "id": "595d6b5e443c7327"
  }
 ],
 "metadata": {
  "kernelspec": {
   "display_name": "Python 3",
   "language": "python",
   "name": "python3"
  },
  "language_info": {
   "codemirror_mode": {
    "name": "ipython",
    "version": 2
   },
   "file_extension": ".py",
   "mimetype": "text/x-python",
   "name": "python",
   "nbconvert_exporter": "python",
   "pygments_lexer": "ipython2",
   "version": "2.7.6"
  }
 },
 "nbformat": 4,
 "nbformat_minor": 5
}
