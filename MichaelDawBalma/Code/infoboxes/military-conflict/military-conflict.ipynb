{
 "cells": [
  {
   "cell_type": "code",
   "execution_count": 1,
   "id": "initial_id",
   "metadata": {
    "collapsed": true,
    "ExecuteTime": {
     "end_time": "2024-04-02T03:38:12.754663700Z",
     "start_time": "2024-04-02T03:38:11.336211800Z"
    }
   },
   "outputs": [],
   "source": [
    "import pandas as pd\n",
    "\n",
    "# Merging the same infobox\n",
    "excel_path = pd.ExcelFile('D:\\Kuliah\\Skripsi\\Ontologi-Sejarah-Indonesia\\MichaelDawBalma\\Code\\infoboxes\\infobox-orla.xlsx')\n",
    "sheet_name = pd.read_excel(excel_path, 'military conflict1')\n",
    "sheet_name2 = pd.read_excel(excel_path, 'Military Conflict2')\n",
    "sheet_name3 = pd.read_excel(excel_path, 'military conflict')\n",
    "csv_file_path = 'military-conflict-final.csv'\n",
    "\n",
    "merged_df = pd.concat([sheet_name, sheet_name2, sheet_name3])\n",
    "\n",
    "merged_df.to_csv(csv_file_path, index=False)"
   ]
  },
  {
   "cell_type": "code",
   "execution_count": 4,
   "outputs": [
    {
     "data": {
      "text/plain": "131072"
     },
     "execution_count": 4,
     "metadata": {},
     "output_type": "execute_result"
    }
   ],
   "source": [
    "# csv.field_size_limit(100000000)"
   ],
   "metadata": {
    "collapsed": false,
    "ExecuteTime": {
     "end_time": "2024-06-27T03:08:26.915083Z",
     "start_time": "2024-06-27T03:08:26.894359900Z"
    }
   },
   "id": "b91fa72eeb4ae182"
  },
  {
   "cell_type": "code",
   "execution_count": 3,
   "outputs": [],
   "source": [
    "import csv\n",
    "military_conflict_clean = []\n",
    "\n",
    "with open(csv_file_path, newline='', encoding='utf-8') as csvfile:\n",
    "    reader = csv.DictReader(csvfile)\n",
    "\n",
    "    for row in reader:\n",
    "        military_conflict_clean.append(dict(row))"
   ],
   "metadata": {
    "collapsed": false,
    "ExecuteTime": {
     "end_time": "2024-04-02T09:03:54.054446900Z",
     "start_time": "2024-04-02T09:03:53.966695900Z"
    }
   },
   "id": "b0fe694be564dc2d"
  },
  {
   "cell_type": "code",
   "execution_count": 36,
   "outputs": [],
   "source": [
    "import geopy\n",
    "\n",
    "def get_coordinates(place):\n",
    "    geolocator = geopy.Nominatim(user_agent='indonesian-history-ontology')\n",
    "    lct = geolocator.geocode(place, geometry='wkt')\n",
    "    if lct:\n",
    "        return lct.latitude, lct.longitude, lct.raw['geotext']\n",
    "    else:\n",
    "        return -0.789275, 113.921327, ''\n",
    "\n",
    "\n",
    "for index, value in enumerate(military_conflict_clean):\n",
    "    latitude, longitude, location = get_coordinates(value['place'])\n",
    "\n",
    "    # Add latitude and longitude into the dictionary  \n",
    "    value['latitude'] = latitude\n",
    "    value['longitude'] = longitude\n",
    "    value['location'] = location"
   ],
   "metadata": {
    "collapsed": false,
    "ExecuteTime": {
     "end_time": "2024-03-26T18:30:51.406260900Z",
     "start_time": "2024-03-26T18:30:26.312438400Z"
    }
   },
   "id": "64626215a3a3db51"
  },
  {
   "cell_type": "code",
   "execution_count": 65,
   "outputs": [],
   "source": [
    "'''\n",
    "Merge column date_start-year_start and date_end-year_end into merged_date_start and merged_date_end\n",
    "https://raw.githubusercontent.com/w3c/sdw/gh-pages/time/rdf/time.ttl (time:inXSDDate)\n",
    "'''\n",
    "\n",
    "month_list = {\n",
    "    'Januari' : '01',\n",
    "    'Februari' : '02',\n",
    "    'Maret' : '03',\n",
    "    'April' : '04',\n",
    "    'Mei' : '05',\n",
    "    'Juni' : '06',\n",
    "    'Juli' : '07',\n",
    "    'Agustus' : '08',\n",
    "    'September' : '09',\n",
    "    'Oktober' : '10',\n",
    "    'November' : '11',\n",
    "    'Desember' : '12',\n",
    "}\n",
    "\n",
    "defaultDateStart = '01-01'\n",
    "defaultDateEnd = '12-31'\n",
    "\n",
    "def check_date_format(date):\n",
    "    # returns to dd format\n",
    "    if len(date) == 1:\n",
    "        return '0' + f'{date}'\n",
    "    return date\n",
    "\n",
    "for index, value in enumerate(military_conflict_clean):\n",
    "    \n",
    "    day = ''\n",
    "    month = ''\n",
    "    year = ''\n",
    "    dateStartUsed = ''\n",
    "    dateEndUsed = ''\n",
    "    dt = ''\n",
    "    dtSt = ''\n",
    "    dtEnd = ''\n",
    "\n",
    "    split_date = value['date'].split(\"-\")\n",
    "    \n",
    "    # if it does not have end date\n",
    "    if len(split_date) == 1 :\n",
    "        dt = split_date[0].strip().split(\" \")\n",
    "        # if the dt is only the year\n",
    "        if len(dt) == 1 :\n",
    "            dateStartUsed = f\"{dt[0]}-{defaultDateStart}\"\n",
    "            dateEndUsed = f\"{dt[0]}-{defaultDateEnd}\"\n",
    "        else:\n",
    "            day = dt[0]\n",
    "            month = month_list[dt[1]]\n",
    "            year = dt[2]\n",
    "            \n",
    "            day = check_date_format(day)\n",
    "            dateStartUsed = f'{year}-{month}-{day}'\n",
    "            dateEndUsed = dateStartUsed\n",
    "            \n",
    "    # if it does have end date\n",
    "    else :\n",
    "        dtSt = split_date[0].strip().split(\" \")\n",
    "        dtEnd = split_date[1].strip().split(\" \")\n",
    "        \n",
    "        # end date were in good format\n",
    "        day = dtEnd[0]\n",
    "        month = month_list[dtEnd[1]]\n",
    "        year = dtEnd[2]\n",
    "        # change into dd format\n",
    "        day = check_date_format(day)\n",
    "        dateEndUsed = f\"{year}-{month}-{day}\"\n",
    "        \n",
    "        # start date and it is year only\n",
    "        if len(dtSt) == 1:\n",
    "            dateStartUsed = f\"{dtSt[0]}-{defaultDateStart}\"\n",
    "        # start date without year; get end-date's year\n",
    "        elif len(dtSt) == 2:\n",
    "            day = check_date_format(dtSt[0])\n",
    "            month = month_list[dtSt[1]]\n",
    "            dateStartUsed = f\"{dtEnd[2]}-{month}-{day}\"\n",
    "        else :\n",
    "            day = check_date_format(dtSt[0])\n",
    "            month = month_list[dtSt[1]]\n",
    "            dateStartUsed = f\"{dtSt[2]}-{month}-{day}\"\n",
    "    \n",
    "    value['start-date'] = dateStartUsed\n",
    "    value['end-date'] = dateEndUsed\n"
   ],
   "metadata": {
    "collapsed": false,
    "ExecuteTime": {
     "end_time": "2024-03-26T19:15:44.064126200Z",
     "start_time": "2024-03-26T19:15:44.042054300Z"
    }
   },
   "id": "5b30115bce34914c"
  },
  {
   "cell_type": "code",
   "execution_count": 72,
   "outputs": [],
   "source": [
    "import wikipedia\n",
    "\n",
    "def retrieve_paragraph(article_title):\n",
    "    wikipedia.set_lang(\"id\")\n",
    "    return wikipedia.summary(article_title, auto_suggest=False)\n",
    "\n",
    "def get_url_wikipedia(article_title):\n",
    "    wikipedia.set_lang(\"id\")\n",
    "    page = wikipedia.page(article_title, auto_suggest=False)\n",
    "    return page.url\n"
   ],
   "metadata": {
    "collapsed": false,
    "ExecuteTime": {
     "end_time": "2024-04-02T04:52:38.833738Z",
     "start_time": "2024-04-02T04:52:38.826738800Z"
    }
   },
   "id": "97f873102c95f63f"
  },
  {
   "cell_type": "code",
   "execution_count": 75,
   "outputs": [],
   "source": [
    "for index, data in enumerate(military_conflict_clean[:10]):\n",
    "    # if the title has more than paragraph summary, get the first summary\n",
    "    summary = retrieve_paragraph(data['page_title']).split(\"\\n\")\n",
    "    data['summary'] = summary[0]\n",
    "    \n",
    "    wikiurl = get_url_wikipedia(data['page_title'])\n",
    "    data['wikiurl'] = wikiurl"
   ],
   "metadata": {
    "collapsed": false,
    "ExecuteTime": {
     "end_time": "2024-04-02T05:17:56.980997500Z",
     "start_time": "2024-04-02T05:17:35.552990300Z"
    }
   },
   "id": "a90574fad03cc5a4"
  },
  {
   "cell_type": "code",
   "execution_count": 76,
   "outputs": [],
   "source": [
    "for index, data in enumerate(military_conflict_clean[10:]):\n",
    "    # if the title has more than paragraph summary, get the first summary\n",
    "    summary = retrieve_paragraph(data['page_title']).split(\"\\n\")\n",
    "    data['summary'] = summary[0]\n",
    "\n",
    "    wikiurl = get_url_wikipedia(data['page_title'])\n",
    "    data['wikiurl'] = wikiurl"
   ],
   "metadata": {
    "collapsed": false,
    "ExecuteTime": {
     "end_time": "2024-04-02T05:18:31.134599100Z",
     "start_time": "2024-04-02T05:18:03.621196700Z"
    }
   },
   "id": "1fb73d75b8889f44"
  },
  {
   "cell_type": "code",
   "execution_count": 84,
   "outputs": [],
   "source": [
    "fieldnames = military_conflict_clean[0].keys()\n",
    "\n",
    "with open('military-conflict-final-cleaned.csv', 'w', newline='', encoding='utf-8') as csvfile:\n",
    "    writer = csv.DictWriter(csvfile, fieldnames=fieldnames)\n",
    "\n",
    "    writer.writeheader()\n",
    "\n",
    "    writer.writerows(military_conflict_clean)"
   ],
   "metadata": {
    "collapsed": false,
    "ExecuteTime": {
     "end_time": "2024-04-02T05:22:50.788391600Z",
     "start_time": "2024-04-02T05:22:50.637013600Z"
    }
   },
   "id": "402e554095e16c5b"
  },
  {
   "cell_type": "markdown",
   "source": [
    "### Handling Actor on Multivalue Commander "
   ],
   "metadata": {
    "collapsed": false
   },
   "id": "89d879cb96e6e53a"
  },
  {
   "cell_type": "code",
   "execution_count": 52,
   "outputs": [],
   "source": [
    "# Handling page_title, wikiurl, and summary (if any) for commanders from a 'Military Conflict' Event. (For Person mapping in timeline)\n",
    "# Birth-Death Date and image will be handled manually.\n",
    "\n",
    "import csv\n",
    "commander1 = []\n",
    "commander2 = []\n",
    "\n",
    "with open('commander1.csv', newline='', encoding='utf-8') as csvfile:\n",
    "    reader = csv.DictReader(csvfile)\n",
    "    for row in reader:\n",
    "        commander1.append(dict(row))\n",
    "\n",
    "with open('commander2.csv', newline='', encoding='utf-8') as csvfile:\n",
    "    reader = csv.DictReader(csvfile)\n",
    "    for row in reader:\n",
    "        commander2.append(dict(row))\n",
    "\n"
   ],
   "metadata": {
    "collapsed": false,
    "ExecuteTime": {
     "end_time": "2024-04-02T12:51:08.328759700Z",
     "start_time": "2024-04-02T12:51:08.319598300Z"
    }
   },
   "id": "f2126af212ec830f"
  },
  {
   "cell_type": "code",
   "execution_count": 53,
   "outputs": [],
   "source": [
    "import wikipedia\n",
    "\n",
    "for value in commander1:\n",
    "    if value['commander1'] != '' :\n",
    "        wikipedia.set_lang(\"id\")\n",
    "        try:\n",
    "            page = wikipedia.page(value['commander1'], auto_suggest=False)\n",
    "            value['page_title'] = page.title\n",
    "            value['summary'] = page.summary.split(\"\\n\")[0]\n",
    "            value['wikiurl'] = page.url\n",
    "        except wikipedia.PageError :\n",
    "            value['page_title'] = ''\n",
    "            value['summary'] = ''\n",
    "            value['wikiurl'] = ''\n",
    "\n",
    "for value in commander2:\n",
    "    if value['commander2'] != '' :\n",
    "        wikipedia.set_lang(\"id\")\n",
    "        try:\n",
    "            page = wikipedia.page(value['commander2'], auto_suggest=False)\n",
    "            value['page_title'] = page.title\n",
    "            value['summary'] = page.summary.split(\"\\n\")[0]\n",
    "            value['wikiurl'] = page.url\n",
    "        except wikipedia.PageError :\n",
    "            value['page_title'] = ''\n",
    "            value['summary'] = ''\n",
    "            value['wikiurl'] = ''"
   ],
   "metadata": {
    "collapsed": false,
    "ExecuteTime": {
     "end_time": "2024-04-02T12:58:42.883194400Z",
     "start_time": "2024-04-02T12:51:10.422548Z"
    }
   },
   "id": "8be1b2ac9071403b"
  },
  {
   "cell_type": "code",
   "execution_count": 54,
   "outputs": [],
   "source": [
    "fieldnames = commander1[0].keys()\n",
    "with open('commander1-cleaned.csv', 'w', newline='', encoding='utf-8') as csvfile:\n",
    "    writer = csv.DictWriter(csvfile, fieldnames=fieldnames)\n",
    "    writer.writeheader()\n",
    "    writer.writerows(commander1)"
   ],
   "metadata": {
    "collapsed": false,
    "ExecuteTime": {
     "end_time": "2024-04-02T13:20:05.213781900Z",
     "start_time": "2024-04-02T13:20:05.193954800Z"
    }
   },
   "id": "8db2c3badb8378c7"
  },
  {
   "cell_type": "code",
   "execution_count": 55,
   "outputs": [],
   "source": [
    "fieldnames2 = commander2[0].keys()\n",
    "with open('commander2-cleaned.csv', 'w', newline='', encoding='utf-8') as csvfile:\n",
    "    writer = csv.DictWriter(csvfile, fieldnames=fieldnames2)\n",
    "    writer.writeheader()\n",
    "    writer.writerows(commander2)"
   ],
   "metadata": {
    "collapsed": false,
    "ExecuteTime": {
     "end_time": "2024-04-02T13:20:06.747092Z",
     "start_time": "2024-04-02T13:20:06.737052200Z"
    }
   },
   "id": "c20f21200c2302ed"
  },
  {
   "cell_type": "markdown",
   "source": [
    "### Handle Vocab Changes and Merging Vocab"
   ],
   "metadata": {
    "collapsed": false
   },
   "id": "805bdd73c44737d7"
  },
  {
   "cell_type": "code",
   "execution_count": 14,
   "outputs": [],
   "source": [
    "import csv\n",
    "csv.field_size_limit(100000000)\n",
    "military_conflict_clean = []\n",
    "\n",
    "with open('military-conflict-final-cleaned.csv', newline='', encoding='utf-8') as csvfile:\n",
    "    reader = csv.DictReader(csvfile)\n",
    "\n",
    "    for row in reader:\n",
    "        military_conflict_clean.append(dict(row))"
   ],
   "metadata": {
    "collapsed": false,
    "ExecuteTime": {
     "end_time": "2024-04-17T01:32:43.738442900Z",
     "start_time": "2024-04-17T01:32:43.618101400Z"
    }
   },
   "id": "368426209b0ce914"
  },
  {
   "cell_type": "code",
   "execution_count": 15,
   "outputs": [],
   "source": [
    "for military_conflict in military_conflict_clean :\n",
    "    casualties = []\n",
    "    if military_conflict['casualties1']:\n",
    "        casualties.append(military_conflict['casualties1'])\n",
    "    if military_conflict['casualties2']:\n",
    "        casualties.append(military_conflict['casualties2'])\n",
    "    if military_conflict['casualties3']:\n",
    "        casualties.append(military_conflict['casualties3'])\n",
    "    military_conflict['casualties'] = ', '.join(casualties)\n",
    "    \n",
    "    del military_conflict['casualties1']\n",
    "    del military_conflict['casualties2']\n",
    "    del military_conflict['casualties3']\n"
   ],
   "metadata": {
    "collapsed": false,
    "ExecuteTime": {
     "end_time": "2024-04-17T01:32:49.630596900Z",
     "start_time": "2024-04-17T01:32:49.624373200Z"
    }
   },
   "id": "5140f431465b0610"
  },
  {
   "cell_type": "code",
   "execution_count": 16,
   "outputs": [],
   "source": [
    "fieldnames = military_conflict_clean[0].keys()\n",
    "\n",
    "with open('military-conflict-final-cleaned.csv', 'w', newline='', encoding='utf-8') as csvfile:\n",
    "    writer = csv.DictWriter(csvfile, fieldnames=fieldnames)\n",
    "\n",
    "    writer.writeheader()\n",
    "\n",
    "    writer.writerows(military_conflict_clean)"
   ],
   "metadata": {
    "collapsed": false,
    "ExecuteTime": {
     "end_time": "2024-04-17T01:32:51.665969900Z",
     "start_time": "2024-04-17T01:32:51.532001200Z"
    }
   },
   "id": "d9fd8a222eb7082f"
  },
  {
   "cell_type": "code",
   "execution_count": 17,
   "outputs": [],
   "source": [
    "# Combatant\n",
    "combatant1 = []\n",
    "combatant2 = []\n",
    "with open('combatant1.csv', newline='', encoding='utf-8') as csvfile:\n",
    "    reader = csv.DictReader(csvfile)\n",
    "    for row in reader:\n",
    "        combatant1.append(dict(row))\n",
    "with open('combatant2.csv', newline='', encoding='utf-8') as csvfile:\n",
    "    reader = csv.DictReader(csvfile)\n",
    "    for row in reader:\n",
    "        combatant2.append(dict(row))"
   ],
   "metadata": {
    "collapsed": false
   },
   "id": "f1778785fa22d344"
  },
  {
   "cell_type": "code",
   "execution_count": 30,
   "outputs": [],
   "source": [
    "merged_list = []\n",
    "\n",
    "for f_entry, s_entry in zip(combatant1, combatant2):\n",
    "    key = f_entry['key']\n",
    "    side = ', '.join(filter(None, [f_entry['combatant1'], s_entry['combatant2']]))\n",
    "    merged_list.append({'key': key, 'side': side})"
   ],
   "metadata": {
    "collapsed": false,
    "ExecuteTime": {
     "end_time": "2024-04-17T01:48:50.010892200Z",
     "start_time": "2024-04-17T01:48:50.002878500Z"
    }
   },
   "id": "876b1e483b81b8b9"
  },
  {
   "cell_type": "code",
   "execution_count": 32,
   "outputs": [],
   "source": [
    "fieldnames = ['key', 'side']\n",
    "\n",
    "with open('combatant-final.csv', mode='w', newline='', encoding='utf-8') as file:\n",
    "    writer = csv.DictWriter(file, fieldnames=fieldnames)\n",
    "    writer.writeheader()\n",
    "    for entry in merged_list:\n",
    "        writer.writerow(entry)"
   ],
   "metadata": {
    "collapsed": false,
    "ExecuteTime": {
     "end_time": "2024-04-17T01:50:34.356321400Z",
     "start_time": "2024-04-17T01:50:34.344514100Z"
    }
   },
   "id": "efb71fc6cbcf1cb6"
  },
  {
   "cell_type": "markdown",
   "source": [
    "### Redo Place"
   ],
   "metadata": {
    "collapsed": false
   },
   "id": "27c22baa8a602695"
  },
  {
   "cell_type": "code",
   "execution_count": 5,
   "outputs": [
    {
     "name": "stderr",
     "output_type": "stream",
     "text": [
      "IOPub data rate exceeded.\n",
      "The Jupyter server will temporarily stop sending output\n",
      "to the client in order to avoid crashing it.\n",
      "To change this limit, set the config variable\n",
      "`--ServerApp.iopub_data_rate_limit`.\n",
      "\n",
      "Current values:\n",
      "ServerApp.iopub_data_rate_limit=1000000.0 (bytes/sec)\n",
      "ServerApp.rate_limit_window=3.0 (secs)\n",
      "\n"
     ]
    }
   ],
   "source": [
    "import csv\n",
    "\n",
    "file_path = 'military-conflict-final-cleaned.csv'\n",
    "final_data = []\n",
    "\n",
    "with open(file_path, mode='r', encoding='utf-8', newline='') as file:\n",
    "    csv_reader = csv.reader(file)\n",
    "    for row in csv_reader:\n",
    "        final_data.append(row)"
   ],
   "metadata": {
    "collapsed": false,
    "ExecuteTime": {
     "end_time": "2024-06-27T03:08:37.645530700Z",
     "start_time": "2024-06-27T03:08:37.400025100Z"
    }
   },
   "id": "5361dd921aeefd7c"
  },
  {
   "cell_type": "code",
   "execution_count": 28,
   "outputs": [
    {
     "name": "stdout",
     "output_type": "stream",
     "text": [
      "['page_title', 'Pemberontakan DI/TII di Aceh', 'Pertempuran Lima Hari', 'Pertempuran Bojong Kokosan', 'Pertempuran Lengkong', 'Bandung Lautan Api', 'Perang Cumbok', 'Delapan Jam Pertempuran di Mangkang', 'Puputan Margarana', 'Perang Dayak Desa', 'Gerakan 30 September', 'Kampanye Kalimantan (1945)', 'Pertempuran Medan Area', 'Serangan Umum Surakarta', 'Serangan Umum 1 Maret 1949', 'Penyerbuan Kotabaru Yogyakarta', 'Pertempuran Surabaya', 'Peristiwa 19 November', 'Peristiwa Tiga Maret', 'Pertempuran Kumai', 'Revolusi Nasional Indonesia', 'Kampanye Hindia Belanda', 'Operasi 17 Agustus', 'Konflik Papua']\n",
      "=======\n",
      "['place', 'Aceh', 'Semarang, Jawa Tengah, Indonesia', 'Sukabumi', 'Desa Lengkong, Serpong, Tangerang Selatan', 'Bandung, Jawa Barat, Indonesia', 'Kabupaten Pidie, Aceh', 'Mangkang, Semarang Indonesia', 'Desa Marga, Kecamatan Marga, Tabanan, Bali, Indonesia', 'Sanggau, Kalimantan Barat', 'Kelurahan Lubang Buaya, Cipayung, Jakarta Timur', 'Kalimantan', 'Medan, Sumatera Utara, Indonesia', 'Surakarta', 'Yogyakarta, Indonesia', 'Kotabaru, Yogyakarta', 'Surabaya, Indonesia', 'Kabupaten Kolaka, Sulawesi Tenggara', 'Bukittinggi dan beberapa kota di Sumatera Barat', 'Kumai, Kalimantan Tengah', 'Indonesia', 'Hindia Belanda', 'Padang, Indonesia', 'Papua (wilayah Indonesia); Papua Nugini (sepanjang perbatasan)']\n"
     ]
    }
   ],
   "source": [
    "title_place = []\n",
    "place = []\n",
    "\n",
    "for index, value in enumerate(final_data):\n",
    "    title_place.append(value[8])\n",
    "    place.append(value[2])\n",
    "         "
   ],
   "metadata": {
    "collapsed": false,
    "ExecuteTime": {
     "end_time": "2024-06-27T03:21:26.771435300Z",
     "start_time": "2024-06-27T03:21:26.760426Z"
    }
   },
   "id": "5eeba762304aaf6"
  },
  {
   "cell_type": "code",
   "execution_count": 30,
   "outputs": [
    {
     "name": "stdout",
     "output_type": "stream",
     "text": [
      "Data has been written to final-place-military-conflict.csv\n"
     ]
    }
   ],
   "source": [
    "# Combine title_place and place into a list of rows\n",
    "rows = zip(title_place, place)\n",
    "\n",
    "# Specify the column names\n",
    "fieldnames = ['key', 'place']\n",
    "\n",
    "# Specify the output file path\n",
    "output_file = 'final-place-military-conflict.csv'\n",
    "\n",
    "# Write the data to a new CSV file\n",
    "with open(output_file, mode='w', newline='', encoding='utf-8') as file:\n",
    "    writer = csv.writer(file)\n",
    "    # Write the header\n",
    "    writer.writerow(fieldnames)\n",
    "    # Write the rows\n",
    "    writer.writerows(rows)\n",
    "\n",
    "print(f\"Data has been written to {output_file}\")"
   ],
   "metadata": {
    "collapsed": false,
    "ExecuteTime": {
     "end_time": "2024-06-27T03:37:39.278037400Z",
     "start_time": "2024-06-27T03:37:39.266856Z"
    }
   },
   "id": "f30bc544c0d75b64"
  },
  {
   "cell_type": "markdown",
   "source": [
    "### Redo Date"
   ],
   "metadata": {
    "collapsed": false
   },
   "id": "7464e8258e3f57a3"
  },
  {
   "cell_type": "code",
   "execution_count": 31,
   "outputs": [],
   "source": [
    "import csv\n",
    "\n",
    "file_path = 'military-conflict-final.csv'\n",
    "final_data = []\n",
    "\n",
    "with open(file_path, mode='r', encoding='utf-8', newline='') as file:\n",
    "    csv_reader = csv.reader(file)\n",
    "    for row in csv_reader:\n",
    "        final_data.append(row)"
   ],
   "metadata": {
    "collapsed": false,
    "ExecuteTime": {
     "end_time": "2024-06-27T05:29:16.440250800Z",
     "start_time": "2024-06-27T05:29:16.431228100Z"
    }
   },
   "id": "98376ca70513aa74"
  },
  {
   "cell_type": "code",
   "execution_count": 64,
   "outputs": [],
   "source": [
    "title_date = []\n",
    "date = []\n",
    "\n",
    "for index, value in enumerate(final_data):\n",
    "    title_date.append(value[8])\n",
    "    date.append(value[3])"
   ],
   "metadata": {
    "collapsed": false,
    "ExecuteTime": {
     "end_time": "2024-06-27T06:26:43.515604600Z",
     "start_time": "2024-06-27T06:26:43.492603600Z"
    }
   },
   "id": "a59aa72aaa622cef"
  },
  {
   "cell_type": "code",
   "execution_count": 65,
   "outputs": [
    {
     "name": "stdout",
     "output_type": "stream",
     "text": [
      "Data has been written to final-date-military-conflict.csv\n"
     ]
    }
   ],
   "source": [
    "# Combine title_place and place into a list of rows\n",
    "rows = zip(title_date, date)\n",
    "\n",
    "# Specify the column names\n",
    "fieldnames = ['key', 'start_date']\n",
    "\n",
    "# Specify the output file path\n",
    "output_file = 'final-date-military-conflict.csv'\n",
    "\n",
    "# Write the data to a new CSV file\n",
    "with open(output_file, mode='w', newline='', encoding='utf-8') as file:\n",
    "    writer = csv.writer(file)\n",
    "    # Write the header\n",
    "    writer.writerow(fieldnames)\n",
    "    # Write the rows\n",
    "    writer.writerows(rows)\n",
    "\n",
    "print(f\"Data has been written to {output_file}\")"
   ],
   "metadata": {
    "collapsed": false,
    "ExecuteTime": {
     "end_time": "2024-06-27T06:26:44.183591400Z",
     "start_time": "2024-06-27T06:26:44.167258400Z"
    }
   },
   "id": "bca67f68d51094f4"
  },
  {
   "cell_type": "markdown",
   "source": [
    "### Redo Date Commander"
   ],
   "metadata": {
    "collapsed": false
   },
   "id": "2fad13607e010937"
  },
  {
   "cell_type": "code",
   "execution_count": 66,
   "outputs": [],
   "source": [
    "import csv\n",
    "\n",
    "file_path = 'commander-final.csv'\n",
    "final_data = []\n",
    "\n",
    "with open(file_path, mode='r', encoding='utf-8', newline='') as file:\n",
    "    csv_reader = csv.reader(file)\n",
    "    for row in csv_reader:\n",
    "        final_data.append(row)"
   ],
   "metadata": {
    "collapsed": false,
    "ExecuteTime": {
     "end_time": "2024-06-27T06:43:22.745211400Z",
     "start_time": "2024-06-27T06:43:22.702330100Z"
    }
   },
   "id": "788b3e0e24a000a6"
  },
  {
   "cell_type": "code",
   "execution_count": 92,
   "outputs": [],
   "source": [
    "title_date = []\n",
    "alt = []\n",
    "start_date = []\n",
    "end_date = []\n",
    "\n",
    "for index, value in enumerate(final_data):\n",
    "    title_date.append(value[2])\n",
    "    alt.append(value[1])\n",
    "    start_date.append(value[5])\n",
    "    end_date.append(value[6])"
   ],
   "metadata": {
    "collapsed": false,
    "ExecuteTime": {
     "end_time": "2024-06-27T06:58:18.249049600Z",
     "start_time": "2024-06-27T06:58:18.235677500Z"
    }
   },
   "id": "bf28fe0af3917b4a"
  },
  {
   "cell_type": "code",
   "execution_count": 93,
   "outputs": [
    {
     "name": "stdout",
     "output_type": "stream",
     "text": [
      "Data has been written to final-date-military-conflict-commander.csv\n"
     ]
    }
   ],
   "source": [
    "# Combine title_place and place into a list of rows\n",
    "rows = zip(title_date, alt, start_date, end_date)\n",
    "\n",
    "# Specify the column names\n",
    "fieldnames = ['mainkey', 'key', 'start_date', 'end_date']\n",
    "\n",
    "# Specify the output file path\n",
    "output_file = 'final-date-military-conflict-commander.csv'\n",
    "\n",
    "# Write the data to a new CSV file\n",
    "with open(output_file, mode='w', newline='', encoding='utf-8') as file:\n",
    "    writer = csv.writer(file)\n",
    "    # Write the header\n",
    "    writer.writerow(fieldnames)\n",
    "    # Write the rows\n",
    "    writer.writerows(rows)\n",
    "\n",
    "print(f\"Data has been written to {output_file}\")"
   ],
   "metadata": {
    "collapsed": false,
    "ExecuteTime": {
     "end_time": "2024-06-27T06:58:18.977634300Z",
     "start_time": "2024-06-27T06:58:18.955788200Z"
    }
   },
   "id": "34615bfba2c4d40e"
  },
  {
   "cell_type": "code",
   "execution_count": 89,
   "outputs": [
    {
     "data": {
      "text/plain": "'leadfigure'"
     },
     "execution_count": 89,
     "metadata": {},
     "output_type": "execute_result"
    }
   ],
   "source": [
    "final_data[0][1]"
   ],
   "metadata": {
    "collapsed": false,
    "ExecuteTime": {
     "end_time": "2024-06-27T06:54:55.845720700Z",
     "start_time": "2024-06-27T06:54:55.825090800Z"
    }
   },
   "id": "51aaa838496d9cb6"
  },
  {
   "cell_type": "markdown",
   "source": [
    "### Date - Commander Mapping"
   ],
   "metadata": {
    "collapsed": false
   },
   "id": "782a95169b0f45fb"
  },
  {
   "cell_type": "code",
   "execution_count": 6,
   "outputs": [],
   "source": [
    "import csv\n",
    "\n",
    "file_path = 'revised_commander_final.csv'\n",
    "final_data = []\n",
    "\n",
    "with open(file_path, mode='r', encoding='utf-8', newline='') as file:\n",
    "    csv_reader = csv.reader(file)\n",
    "    for row in csv_reader:\n",
    "        final_data.append(row)"
   ],
   "metadata": {
    "collapsed": false,
    "ExecuteTime": {
     "end_time": "2024-06-28T18:10:41.284183700Z",
     "start_time": "2024-06-28T18:10:41.263096100Z"
    }
   },
   "id": "dbcea07b134d4c28"
  },
  {
   "cell_type": "code",
   "execution_count": 7,
   "outputs": [],
   "source": [
    "page_title = []\n",
    "birth_date = []\n",
    "death_date = []\n",
    "\n",
    "start_year = []\n",
    "start_month = []\n",
    "start_day = []\n",
    "\n",
    "end_year = []\n",
    "end_month = []\n",
    "end_day = []\n",
    "\n",
    "for index, value in enumerate(final_data):\n",
    "    page_title.append(value[4])\n",
    "    birth_date.append(value[1])\n",
    "    death_date.append(value[2])\n",
    "    \n",
    "    if index == 0 :\n",
    "        start_year.append('start_year')\n",
    "        start_month.append('start_month')\n",
    "        start_day.append('start_day')\n",
    "        end_year.append('end_year')\n",
    "        end_month.append('end_month')\n",
    "        end_day.append('end_day')\n",
    "    else :\n",
    "        if len(value[1]) != 0:\n",
    "            start = value[1].split(\"-\")\n",
    "            start_year.append(start[0] if start[0] != '00' else '')\n",
    "            start_month.append(start[1] if start[1] != '00' else '')\n",
    "            start_day.append(start[2] if start[2] != '00' else '')\n",
    "        else:\n",
    "            start_year.append('')\n",
    "            start_month.append('')\n",
    "            start_day.append('')\n",
    "\n",
    "        if len(value[2]) != 0:\n",
    "            end = value[2].split(\"-\")\n",
    "            end_year.append(end[0] if end[0] != '00' else '')\n",
    "            end_month.append(end[1] if end[1] != '00' else '')\n",
    "            end_day.append(end[2] if end[2] != '00' else '')\n",
    "        else :\n",
    "            end_year.append('')\n",
    "            end_month.append('')\n",
    "            end_day.append('')"
   ],
   "metadata": {
    "collapsed": false,
    "ExecuteTime": {
     "end_time": "2024-06-28T18:10:43.188714200Z",
     "start_time": "2024-06-28T18:10:43.169898100Z"
    }
   },
   "id": "41bf6d64a4166dcb"
  },
  {
   "cell_type": "code",
   "execution_count": 8,
   "outputs": [
    {
     "name": "stdout",
     "output_type": "stream",
     "text": [
      "Data has been written to final-date-military-conflict-commander-revised-with-date.csv\n"
     ]
    }
   ],
   "source": [
    "# Combine title_place and place into a list of rows\n",
    "rows = zip(page_title, birth_date, death_date, start_year, start_month, start_day, end_year, end_month, end_day)\n",
    "\n",
    "# Specify the column names\n",
    "fieldnames = ['page_title', 'birth-date', 'death-date', 'start-year', 'start-month', 'start-day', 'end-year', 'end-month', 'end-day']\n",
    "\n",
    "# Specify the output file path\n",
    "output_file = 'revised_commander_final_date.csv'\n",
    "\n",
    "# Write the data to a new CSV file\n",
    "with open(output_file, mode='w', newline='', encoding='utf-8') as file:\n",
    "    writer = csv.writer(file)\n",
    "    # Write the header\n",
    "    writer.writerow(fieldnames)\n",
    "    # Write the rows\n",
    "    writer.writerows(rows)\n",
    "\n",
    "print(f\"Data has been written to {output_file}\")"
   ],
   "metadata": {
    "collapsed": false,
    "ExecuteTime": {
     "end_time": "2024-06-28T18:10:45.320340800Z",
     "start_time": "2024-06-28T18:10:45.312547600Z"
    }
   },
   "id": "8003e380bc76b45b"
  },
  {
   "cell_type": "code",
   "execution_count": null,
   "outputs": [],
   "source": [],
   "metadata": {
    "collapsed": false
   },
   "id": "1f69dc9794bc9f06"
  }
 ],
 "metadata": {
  "kernelspec": {
   "display_name": "Python 3",
   "language": "python",
   "name": "python3"
  },
  "language_info": {
   "codemirror_mode": {
    "name": "ipython",
    "version": 2
   },
   "file_extension": ".py",
   "mimetype": "text/x-python",
   "name": "python",
   "nbconvert_exporter": "python",
   "pygments_lexer": "ipython2",
   "version": "2.7.6"
  }
 },
 "nbformat": 4,
 "nbformat_minor": 5
}
