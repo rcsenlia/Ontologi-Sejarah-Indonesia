{
 "cells": [
  {
   "cell_type": "code",
   "execution_count": 34,
   "id": "initial_id",
   "metadata": {
    "collapsed": true,
    "ExecuteTime": {
     "end_time": "2024-03-26T18:30:15.782208400Z",
     "start_time": "2024-03-26T18:30:15.393533700Z"
    }
   },
   "outputs": [],
   "source": [
    "# Example: Former Subdivision\n",
    "\n",
    "import pandas as pd\n",
    "\n",
    "# Merging the same infobox\n",
    "excel_path = pd.ExcelFile('D:\\Kuliah\\Skripsi\\Ontologi-Sejarah-Indonesia\\MichaelDawBalma\\Code\\infoboxes\\infobox-orla.xlsx')\n",
    "sheet_name = pd.read_excel(excel_path, 'military conflict1')\n",
    "sheet_name2 = pd.read_excel(excel_path, 'Military Conflict2')\n",
    "sheet_name3 = pd.read_excel(excel_path, 'military conflict')\n",
    "csv_file_path = 'military-conflict-final.csv'\n",
    "\n",
    "merged_df = pd.concat([sheet_name, sheet_name2, sheet_name3])\n",
    "\n",
    "merged_df.to_csv(csv_file_path, index=False)"
   ]
  },
  {
   "cell_type": "code",
   "execution_count": 35,
   "outputs": [],
   "source": [
    "# Clean the merged Former Subdivision data///\n",
    "import csv\n",
    "military_conflict_clean = []\n",
    "\n",
    "with open(csv_file_path, newline='', encoding='utf-8') as csvfile:\n",
    "    reader = csv.DictReader(csvfile)\n",
    "\n",
    "    for row in reader:\n",
    "        military_conflict_clean.append(dict(row))"
   ],
   "metadata": {
    "collapsed": false,
    "ExecuteTime": {
     "end_time": "2024-03-26T18:30:17.414817Z",
     "start_time": "2024-03-26T18:30:17.392324100Z"
    }
   },
   "id": "b0fe694be564dc2d"
  },
  {
   "cell_type": "code",
   "execution_count": 36,
   "outputs": [],
   "source": [
    "import geopy\n",
    "\n",
    "def get_coordinates(place):\n",
    "    geolocator = geopy.Nominatim(user_agent='indonesian-history-ontology')\n",
    "    lct = geolocator.geocode(place, geometry='wkt')\n",
    "    if lct:\n",
    "        return lct.latitude, lct.longitude, lct.raw['geotext']\n",
    "    else:\n",
    "        return -0.789275, 113.921327, ''\n",
    "\n",
    "\n",
    "for index, value in enumerate(military_conflict_clean):\n",
    "    latitude, longitude, location = get_coordinates(value['place'])\n",
    "\n",
    "    # Add latitude and longitude into the dictionary  \n",
    "    value['latitude'] = latitude\n",
    "    value['longitude'] = longitude\n",
    "    value['location'] = location"
   ],
   "metadata": {
    "collapsed": false,
    "ExecuteTime": {
     "end_time": "2024-03-26T18:30:51.406260900Z",
     "start_time": "2024-03-26T18:30:26.312438400Z"
    }
   },
   "id": "64626215a3a3db51"
  },
  {
   "cell_type": "code",
   "execution_count": 65,
   "outputs": [],
   "source": [
    "'''\n",
    "Merge column date_start-year_start and date_end-year_end into merged_date_start and merged_date_end\n",
    "https://raw.githubusercontent.com/w3c/sdw/gh-pages/time/rdf/time.ttl (time:inXSDDate)\n",
    "'''\n",
    "\n",
    "month_list = {\n",
    "    'Januari' : '01',\n",
    "    'Februari' : '02',\n",
    "    'Maret' : '03',\n",
    "    'April' : '04',\n",
    "    'Mei' : '05',\n",
    "    'Juni' : '06',\n",
    "    'Juli' : '07',\n",
    "    'Agustus' : '08',\n",
    "    'September' : '09',\n",
    "    'Oktober' : '10',\n",
    "    'November' : '11',\n",
    "    'Desember' : '12',\n",
    "}\n",
    "\n",
    "defaultDateStart = '01-01'\n",
    "defaultDateEnd = '12-31'\n",
    "\n",
    "def check_date_format(date):\n",
    "    # returns to dd format\n",
    "    if len(date) == 1:\n",
    "        return '0' + f'{date}'\n",
    "    return date\n",
    "\n",
    "for index, value in enumerate(military_conflict_clean):\n",
    "    \n",
    "    day = ''\n",
    "    month = ''\n",
    "    year = ''\n",
    "    dateStartUsed = ''\n",
    "    dateEndUsed = ''\n",
    "    dt = ''\n",
    "    dtSt = ''\n",
    "    dtEnd = ''\n",
    "\n",
    "    split_date = value['date'].split(\"-\")\n",
    "    \n",
    "    # if it does not have end date\n",
    "    if len(split_date) == 1 :\n",
    "        dt = split_date[0].strip().split(\" \")\n",
    "        # if the dt is only the year\n",
    "        if len(dt) == 1 :\n",
    "            dateStartUsed = f\"{dt[0]}-{defaultDateStart}\"\n",
    "            dateEndUsed = f\"{dt[0]}-{defaultDateEnd}\"\n",
    "        else:\n",
    "            day = dt[0]\n",
    "            month = month_list[dt[1]]\n",
    "            year = dt[2]\n",
    "            \n",
    "            day = check_date_format(day)\n",
    "            dateStartUsed = f'{year}-{month}-{day}'\n",
    "            dateEndUsed = dateStartUsed\n",
    "            \n",
    "    # if it does have end date\n",
    "    else :\n",
    "        dtSt = split_date[0].strip().split(\" \")\n",
    "        dtEnd = split_date[1].strip().split(\" \")\n",
    "        \n",
    "        # end date were in good format\n",
    "        day = dtEnd[0]\n",
    "        month = month_list[dtEnd[1]]\n",
    "        year = dtEnd[2]\n",
    "        # change into dd format\n",
    "        day = check_date_format(day)\n",
    "        dateEndUsed = f\"{year}-{month}-{day}\"\n",
    "        \n",
    "        # start date and it is year only\n",
    "        if len(dtSt) == 1:\n",
    "            dateStartUsed = f\"{dtSt[0]}-{defaultDateStart}\"\n",
    "        # start date without year; get end-date's year\n",
    "        elif len(dtSt) == 2:\n",
    "            day = check_date_format(dtSt[0])\n",
    "            month = month_list[dtSt[1]]\n",
    "            dateStartUsed = f\"{dtEnd[2]}-{month}-{day}\"\n",
    "        else :\n",
    "            day = check_date_format(dtSt[0])\n",
    "            month = month_list[dtSt[1]]\n",
    "            dateStartUsed = f\"{dtSt[2]}-{month}-{day}\"\n",
    "    \n",
    "    value['start-date'] = dateStartUsed\n",
    "    value['end-date'] = dateEndUsed\n"
   ],
   "metadata": {
    "collapsed": false,
    "ExecuteTime": {
     "end_time": "2024-03-26T19:15:44.064126200Z",
     "start_time": "2024-03-26T19:15:44.042054300Z"
    }
   },
   "id": "5b30115bce34914c"
  },
  {
   "cell_type": "code",
   "execution_count": 59,
   "outputs": [],
   "source": [
    "import wikipedia\n",
    "\n",
    "def retrieve_paragraph(article_title):\n",
    "    wikipedia.set_lang(\"id\")\n",
    "    return wikipedia.summary(article_title, sentences=5, auto_suggest=False)\n",
    "\n",
    "def get_url_wikipedia(article_title):\n",
    "    wikipedia.set_lang(\"id\")\n",
    "    page = wikipedia.page(article_title, auto_suggest=False)\n",
    "    return page.url\n"
   ],
   "metadata": {
    "collapsed": false,
    "ExecuteTime": {
     "end_time": "2024-03-26T19:00:11.352118900Z",
     "start_time": "2024-03-26T19:00:11.241190500Z"
    }
   },
   "id": "97f873102c95f63f"
  },
  {
   "cell_type": "code",
   "execution_count": 62,
   "outputs": [],
   "source": [
    "for index, data in enumerate(military_conflict_clean[:10]):\n",
    "    summary = retrieve_paragraph(data['page_title'])\n",
    "    wikiurl = get_url_wikipedia(data['page_title'])\n",
    "    data['summary'] = summary\n",
    "    data['wikiurl'] = wikiurl"
   ],
   "metadata": {
    "collapsed": false,
    "ExecuteTime": {
     "end_time": "2024-03-26T19:05:55.777687700Z",
     "start_time": "2024-03-26T19:05:35.246570800Z"
    }
   },
   "id": "a90574fad03cc5a4"
  },
  {
   "cell_type": "code",
   "execution_count": 63,
   "outputs": [],
   "source": [
    "for index, data in enumerate(military_conflict_clean[10:]):\n",
    "    summary = retrieve_paragraph(data['page_title'])\n",
    "    wikiurl = get_url_wikipedia(data['page_title'])\n",
    "    data['summary'] = summary\n",
    "    data['wikiurl'] = wikiurl"
   ],
   "metadata": {
    "collapsed": false,
    "ExecuteTime": {
     "end_time": "2024-03-26T19:06:57.895028500Z",
     "start_time": "2024-03-26T19:06:30.693071200Z"
    }
   },
   "id": "1fb73d75b8889f44"
  },
  {
   "cell_type": "code",
   "execution_count": 66,
   "outputs": [],
   "source": [
    "fieldnames = military_conflict_clean[0].keys()\n",
    "\n",
    "with open('military-conflict-final-cleaned.csv', 'w', newline='', encoding='utf-8') as csvfile:\n",
    "    writer = csv.DictWriter(csvfile, fieldnames=fieldnames)\n",
    "\n",
    "    writer.writeheader()\n",
    "\n",
    "    writer.writerows(military_conflict_clean)"
   ],
   "metadata": {
    "collapsed": false,
    "ExecuteTime": {
     "end_time": "2024-03-26T19:15:49.025643900Z",
     "start_time": "2024-03-26T19:15:48.881072800Z"
    }
   },
   "id": "402e554095e16c5b"
  }
 ],
 "metadata": {
  "kernelspec": {
   "display_name": "Python 3",
   "language": "python",
   "name": "python3"
  },
  "language_info": {
   "codemirror_mode": {
    "name": "ipython",
    "version": 2
   },
   "file_extension": ".py",
   "mimetype": "text/x-python",
   "name": "python",
   "nbconvert_exporter": "python",
   "pygments_lexer": "ipython2",
   "version": "2.7.6"
  }
 },
 "nbformat": 4,
 "nbformat_minor": 5
}
