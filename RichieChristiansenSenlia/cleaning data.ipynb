{
 "cells": [
  {
   "cell_type": "code",
   "execution_count": 1,
   "id": "ffedac36",
   "metadata": {},
   "outputs": [],
   "source": [
    "import time\n",
    "import pywikibot\n",
    "import mwparserfromhell\n",
    "import csv\n",
    "import json\n",
    "import re\n",
    "import xml.sax\n",
    "from bs4 import BeautifulSoup\n",
    "import requests"
   ]
  },
  {
   "cell_type": "code",
   "execution_count": 3,
   "id": "ff918da7",
   "metadata": {},
   "outputs": [
    {
     "name": "stdout",
     "output_type": "stream",
     "text": [
      "{'conflict': 'Perang Diponegoro \\n', 'image': '[[Berkas:Raden Saleh - Diponegoro arrest.jpg|300px]]\\n', 'caption': 'Lukisan Peristiwa Penangkapan Pangeran Diponegoro oleh Raden Saleh \\n', 'place': '[[Yogyakarta]], [[Surakarta]], [[Jawa Tengah]], dan [[Jawa Timur]]\\n', 'date': '21 Juli [[1825]] - 9 Februari [[1830 1840]]\\n', 'casus': 'Jalan yang dibangun Belanda melintasi makam leluhur Pangeran Diponegoro 6\\n', 'result': 'Kemenangan Belanda\\n*Penangkapan dan pengasingan Pangeran [[Diponegoro]] ke [[Makassar]]<ref name=\"sulawesi\">Toby Alice Volkman: \\'\\'Sulawesi: island crossroads of Indonesia\\'\\', Passport Books, 1990, ISBN 0844299065,  [http://books.google.com/books?ei=ACmtT6-3C5LN4QST_72dDA&hl=de&id=ZNdwAAAAMAAJ&dq=java+war+Diponegoro+deported+makassar&q=%22deported+to+manado+and+then+to+makassar%22 page 73].</ref>\\n', 'combatant1': '{{ubl|[[Imperium Belanda|Belanda]]|[[Kesultanan Yogyakarta]]|[[Pasukan Tulungan]]}}\\n', 'combatant2': '{{ubl|Pasukan Jawa/Diponegoro}}\\n', 'commander1': '{{ubl|[[Hendrik Merkus de Kock|Hendrik M. de Kock]]|[[Hermanus W. Dotulong]]}}\\n', 'commander2': '{{ubl|[[Diponegoro]]|[[Sentot Prawirodirdjo]]|[[Kiai Madja]]|[[Nyi Ageng Serang]]|[[Pakubuwana VI]]|[[Tumenggung Prawirodigdoyo]]}}\\n', 'strength1': '50.000\\n', 'strength2': '100.000\\n', 'casualties1': '15.000\\n', 'casualties2': \"'''Serdadu Jawa''':<br>20,000 tewas dalam perang<ref>Clodfelter, Michael, Warfare and Armed Conflict: A Statistical Reference to Casualty and Other Figures, 1618-1991</ref>\\n\", 'casualties3': '\\'\\'\\'Milisi dan sipil\\'\\'\\':<br />200.000 korban jiwa <ref name=\"Djamhari, S. A. (2004). Strategi menjinakkan Diponegoro: stelsel benteng, 1827-1830. Komunitas Bambu.\"/><ref>Eric Oey: \\'\\'Java\\'\\', Volume 3, Tuttle Publishing, 2000, ISBN 9625932445, [http://books.google.com/books?ei=8CCtT5moPIbb4QShvLHIDA&hl=de&id=YA3TNeNUfkAC&dq=Java+War+1825+200000&q=%22the+rebellion+resulted+in+about%22#v=snippet&q=%22the%20rebellion%20resulted%20in%20about%22&f=false page 146]</ref><ref>Renate Loose, Stefan Loose, Werner Mlyneck: \\'\\'Travel Handbuch Bali& Lombok\\'\\', CQ Press, 2010, ISBN 0872894347, [http://books.google.com/books?ei=fxytT-x0jM_hBIn5icoM&hl=de&id=Sus8pi0Uei8C&dq=Java+War+1825+000&q=%22javaner+w%C3%A4hrend+des+kriegs+umkamen%22#v=snippet&q=%22javaner%20w%C3%A4hrend%20des%20kriegs%20umkamen%22&f=false page 61].</ref><ref>Dan La Botz: \\'\\'Made in Indonesia: Indonesian Workers Since Suharto\\'\\', South End Press, 2001, ISBN 0896086429, [http://books.google.com/books?ei=5COtT7HLCoTl4QS_1uzyCw&hl=de&id=bUPirRox6VsC&dq=Java+War+1825+200000+massacre&q=%22dutch+must+also+have+killed+tens+of+thousands%22#v=snippet&q=%22dutch%20must%20also%20have%20killed%20tens%20of%20thousands%22&f=false page 69].</ref>\\n', '1': ''}\n"
     ]
    }
   ],
   "source": [
    "site = pywikibot.Site(\"id\", \"wikipedia\")\n",
    "art = pywikibot.Page(site, 'Perang Diponegoro')\n",
    "\n",
    "\n",
    "wikicode = mwparserfromhell.parse(art.get())\n",
    "matches = wikicode.filter_templates(matches = \"Infobox\")\n",
    "properties = {param.name.strip(): param.value\n",
    "                                for param in matches[0].params}\n",
    "print(properties)"
   ]
  },
  {
   "cell_type": "code",
   "execution_count": 5,
   "id": "9e764f40",
   "metadata": {},
   "outputs": [
    {
     "name": "stdout",
     "output_type": "stream",
     "text": [
      "conflict : Perang Diponegoro \n",
      "\n",
      "===========\n",
      "image : [[Berkas:Raden Saleh - Diponegoro arrest.jpg|300px]]\n",
      "\n",
      "===========\n",
      "caption : Lukisan Peristiwa Penangkapan Pangeran Diponegoro oleh Raden Saleh \n",
      "\n",
      "===========\n",
      "place : [[Yogyakarta]], [[Surakarta]], [[Jawa Tengah]], dan [[Jawa Timur]]\n",
      "\n",
      "===========\n",
      "date : 21 Juli [[1825]] - 9 Februari [[1830 1840]]\n",
      "\n",
      "===========\n",
      "casus : Jalan yang dibangun Belanda melintasi makam leluhur Pangeran Diponegoro 6\n",
      "\n",
      "===========\n",
      "result : Kemenangan Belanda\n",
      "*Penangkapan dan pengasingan Pangeran [[Diponegoro]] ke [[Makassar]]<ref name=\"sulawesi\">Toby Alice Volkman: ''Sulawesi: island crossroads of Indonesia'', Passport Books, 1990, ISBN 0844299065,  [http://books.google.com/books?ei=ACmtT6-3C5LN4QST_72dDA&hl=de&id=ZNdwAAAAMAAJ&dq=java+war+Diponegoro+deported+makassar&q=%22deported+to+manado+and+then+to+makassar%22 page 73].</ref>\n",
      "\n",
      "===========\n",
      "combatant1 : {{ubl|[[Imperium Belanda|Belanda]]|[[Kesultanan Yogyakarta]]|[[Pasukan Tulungan]]}}\n",
      "\n",
      "===========\n",
      "combatant2 : {{ubl|Pasukan Jawa/Diponegoro}}\n",
      "\n",
      "===========\n",
      "commander1 : {{ubl|[[Hendrik Merkus de Kock|Hendrik M. de Kock]]|[[Hermanus W. Dotulong]]}}\n",
      "\n",
      "===========\n",
      "commander2 : {{ubl|[[Diponegoro]]|[[Sentot Prawirodirdjo]]|[[Kiai Madja]]|[[Nyi Ageng Serang]]|[[Pakubuwana VI]]|[[Tumenggung Prawirodigdoyo]]}}\n",
      "\n",
      "===========\n",
      "strength1 : 50.000\n",
      "\n",
      "===========\n",
      "strength2 : 100.000\n",
      "\n",
      "===========\n",
      "casualties1 : 15.000\n",
      "\n",
      "===========\n",
      "casualties2 : '''Serdadu Jawa''':<br>20,000 tewas dalam perang<ref>Clodfelter, Michael, Warfare and Armed Conflict: A Statistical Reference to Casualty and Other Figures, 1618-1991</ref>\n",
      "\n",
      "===========\n",
      "casualties3 : '''Milisi dan sipil''':<br />200.000 korban jiwa <ref name=\"Djamhari, S. A. (2004). Strategi menjinakkan Diponegoro: stelsel benteng, 1827-1830. Komunitas Bambu.\"/><ref>Eric Oey: ''Java'', Volume 3, Tuttle Publishing, 2000, ISBN 9625932445, [http://books.google.com/books?ei=8CCtT5moPIbb4QShvLHIDA&hl=de&id=YA3TNeNUfkAC&dq=Java+War+1825+200000&q=%22the+rebellion+resulted+in+about%22#v=snippet&q=%22the%20rebellion%20resulted%20in%20about%22&f=false page 146]</ref><ref>Renate Loose, Stefan Loose, Werner Mlyneck: ''Travel Handbuch Bali& Lombok'', CQ Press, 2010, ISBN 0872894347, [http://books.google.com/books?ei=fxytT-x0jM_hBIn5icoM&hl=de&id=Sus8pi0Uei8C&dq=Java+War+1825+000&q=%22javaner+w%C3%A4hrend+des+kriegs+umkamen%22#v=snippet&q=%22javaner%20w%C3%A4hrend%20des%20kriegs%20umkamen%22&f=false page 61].</ref><ref>Dan La Botz: ''Made in Indonesia: Indonesian Workers Since Suharto'', South End Press, 2001, ISBN 0896086429, [http://books.google.com/books?ei=5COtT7HLCoTl4QS_1uzyCw&hl=de&id=bUPirRox6VsC&dq=Java+War+1825+200000+massacre&q=%22dutch+must+also+have+killed+tens+of+thousands%22#v=snippet&q=%22dutch%20must%20also%20have%20killed%20tens%20of%20thousands%22&f=false page 69].</ref>\n",
      "\n",
      "===========\n",
      "1 : \n",
      "===========\n"
     ]
    }
   ],
   "source": [
    "for key,value in properties.items():\n",
    "    print(key,\":\",value)\n",
    "    print(\"===========\")"
   ]
  },
  {
   "cell_type": "markdown",
   "id": "6c32dd04",
   "metadata": {},
   "source": [
    "# military conflict"
   ]
  },
  {
   "cell_type": "code",
   "execution_count": 40,
   "id": "3277350f",
   "metadata": {},
   "outputs": [],
   "source": [
    "class Infobox():\n",
    "    def __init__(self,title):\n",
    "        self.title = title\n",
    "        site = pywikibot.Site(\"id\", \"wikipedia\")\n",
    "        art = pywikibot.Page(site, self.title)\n",
    "    \n",
    "\n",
    "        wikicode = mwparserfromhell.parse(art.get())\n",
    "        matches = wikicode.filter_templates(matches = \"Infobox\")\n",
    "        self.infobox = {param.name.strip(): param.value\n",
    "                            for param in matches[0].params}\n",
    "        print(self.infobox)\n",
    "        self.clean_infobox = self.clean_data()\n",
    "    def clean_link(self,key):\n",
    "        return \",\".join(self.filter_wikilinks(self.infobox.get(key,\"\")))\n",
    "    def clean_text(self,key):\n",
    "        return self.text(self.infobox.get(key,\"\"))\n",
    "    def clean_list(self,key):\n",
    "        return \",\".join(self.list(self.infobox.get(key,\"\")))\n",
    "    def filter_wikilinks(self,wikitext):\n",
    "        wikicode = mwparserfromhell.parse(wikitext)\n",
    "        link = wikicode.filter_wikilinks()\n",
    "        temp = []\n",
    "        for i in link:\n",
    "            wiki = mwparserfromhell.parse(i)\n",
    "            temp.append(wiki.title())\n",
    "        return temp\n",
    "    def text(self,wikitext):\n",
    "        wikicode = mwparserfromhell.parse(wikitext)\n",
    "        return re.sub(\"\\n\",\"\",wikicode.strip_code().strip())\n",
    "    def list(self,wikitext):\n",
    "        wikicode = mwparserfromhell.parse(wikitext)\n",
    "        template = wikicode.filter_templates(matches=\"ubl\")\n",
    "        temp = []\n",
    "        for i in template[0].params :\n",
    "            temp.append(self.text(i))\n",
    "        return temp"
   ]
  },
  {
   "cell_type": "code",
   "execution_count": 41,
   "id": "773b2422",
   "metadata": {},
   "outputs": [],
   "source": [
    "class Infobox_military_conflict(Infobox):\n",
    "    def __init__(self,title):\n",
    "        Infobox.__init__(self,title)\n",
    "    def clean_data(self):\n",
    "        temp = {}\n",
    "        temp['conflict'] = self.clean_text('conflict')\n",
    "        temp['image'] = self.clean_text('image')\n",
    "        temp['caption'] = self.clean_text('caption')\n",
    "        temp['date'] = self.clean_text('date')\n",
    "        temp['place'] = self.clean_link('place')\n",
    "        temp['casus'] = self.clean_text('casus')\n",
    "        temp['teritory'] = self.clean_text('teritory')\n",
    "        temp['result'] = self.clean_text('result')\n",
    "        temp['combatant1'] = self.clean_list(\"combatant1\")\n",
    "        temp['combatant2'] = self.clean_list(\"combatant2\")\n",
    "        temp['commander1'] = self.clean_list(\"commander1\")\n",
    "        temp['commander2'] = self.clean_list(\"commander2\")\n",
    "        temp['strength1'] = self.clean_text('strength1')\n",
    "        temp['strength2'] = self.clean_text('strength1')\n",
    "        temp['casualties1'] = self.clean_text('casualties1')\n",
    "        temp['casualties2'] = self.clean_text('casualties2')\n",
    "        temp['notes'] = self.clean_text('notes')\n",
    "        return temp\n",
    "    "
   ]
  },
  {
   "cell_type": "code",
   "execution_count": 42,
   "id": "8988a917",
   "metadata": {},
   "outputs": [
    {
     "name": "stdout",
     "output_type": "stream",
     "text": [
      "{'conflict': 'Perang Diponegoro \\n', 'image': '[[Berkas:Raden Saleh - Diponegoro arrest.jpg|300px]]\\n', 'caption': 'Lukisan Peristiwa Penangkapan Pangeran Diponegoro oleh Raden Saleh \\n', 'place': '[[Yogyakarta]], [[Surakarta]], [[Jawa Tengah]], dan [[Jawa Timur]]\\n', 'date': '21 Juli [[1825]] - 9 Februari [[1830 1840]]\\n', 'casus': 'Jalan yang dibangun Belanda melintasi makam leluhur Pangeran Diponegoro 6\\n', 'result': 'Kemenangan Belanda\\n*Penangkapan dan pengasingan Pangeran [[Diponegoro]] ke [[Makassar]]<ref name=\"sulawesi\">Toby Alice Volkman: \\'\\'Sulawesi: island crossroads of Indonesia\\'\\', Passport Books, 1990, ISBN 0844299065,  [http://books.google.com/books?ei=ACmtT6-3C5LN4QST_72dDA&hl=de&id=ZNdwAAAAMAAJ&dq=java+war+Diponegoro+deported+makassar&q=%22deported+to+manado+and+then+to+makassar%22 page 73].</ref>\\n', 'combatant1': '{{ubl|[[Imperium Belanda|Belanda]]|[[Kesultanan Yogyakarta]]|[[Pasukan Tulungan]]}}\\n', 'combatant2': '{{ubl|Pasukan Jawa/Diponegoro}}\\n', 'commander1': '{{ubl|[[Hendrik Merkus de Kock|Hendrik M. de Kock]]|[[Hermanus W. Dotulong]]}}\\n', 'commander2': '{{ubl|[[Diponegoro]]|[[Sentot Prawirodirdjo]]|[[Kiai Madja]]|[[Nyi Ageng Serang]]|[[Pakubuwana VI]]|[[Tumenggung Prawirodigdoyo]]}}\\n', 'strength1': '50.000\\n', 'strength2': '100.000\\n', 'casualties1': '15.000\\n', 'casualties2': \"'''Serdadu Jawa''':<br>20,000 tewas dalam perang<ref>Clodfelter, Michael, Warfare and Armed Conflict: A Statistical Reference to Casualty and Other Figures, 1618-1991</ref>\\n\", 'casualties3': '\\'\\'\\'Milisi dan sipil\\'\\'\\':<br />200.000 korban jiwa <ref name=\"Djamhari, S. A. (2004). Strategi menjinakkan Diponegoro: stelsel benteng, 1827-1830. Komunitas Bambu.\"/><ref>Eric Oey: \\'\\'Java\\'\\', Volume 3, Tuttle Publishing, 2000, ISBN 9625932445, [http://books.google.com/books?ei=8CCtT5moPIbb4QShvLHIDA&hl=de&id=YA3TNeNUfkAC&dq=Java+War+1825+200000&q=%22the+rebellion+resulted+in+about%22#v=snippet&q=%22the%20rebellion%20resulted%20in%20about%22&f=false page 146]</ref><ref>Renate Loose, Stefan Loose, Werner Mlyneck: \\'\\'Travel Handbuch Bali& Lombok\\'\\', CQ Press, 2010, ISBN 0872894347, [http://books.google.com/books?ei=fxytT-x0jM_hBIn5icoM&hl=de&id=Sus8pi0Uei8C&dq=Java+War+1825+000&q=%22javaner+w%C3%A4hrend+des+kriegs+umkamen%22#v=snippet&q=%22javaner%20w%C3%A4hrend%20des%20kriegs%20umkamen%22&f=false page 61].</ref><ref>Dan La Botz: \\'\\'Made in Indonesia: Indonesian Workers Since Suharto\\'\\', South End Press, 2001, ISBN 0896086429, [http://books.google.com/books?ei=5COtT7HLCoTl4QS_1uzyCw&hl=de&id=bUPirRox6VsC&dq=Java+War+1825+200000+massacre&q=%22dutch+must+also+have+killed+tens+of+thousands%22#v=snippet&q=%22dutch%20must%20also%20have%20killed%20tens%20of%20thousands%22&f=false page 69].</ref>\\n', '1': ''}\n",
      "{'conflict': 'Perang Diponegoro', 'image': '300px', 'caption': 'Lukisan Peristiwa Penangkapan Pangeran Diponegoro oleh Raden Saleh', 'date': '21 Juli 1825 - 9 Februari 1830 1840', 'place': '[[Yogyakarta]],[[Surakarta]],[[Jawa Tengah]],[[Jawa Timur]]', 'casus': 'Jalan yang dibangun Belanda melintasi makam leluhur Pangeran Diponegoro 6', 'teritory': '', 'result': 'Kemenangan BelandaPenangkapan dan pengasingan Pangeran Diponegoro ke MakassarToby Alice Volkman: Sulawesi: island crossroads of Indonesia, Passport Books, 1990, ISBN 0844299065,  page 73.', 'combatant1': '[[Imperium Belanda|Belanda]],[[Kesultanan Yogyakarta]],[[Pasukan Tulungan]]', 'combatant2': 'Pasukan Jawa/Diponegoro', 'commander1': '[[Hendrik Merkus de Kock|Hendrik M. de Kock]],[[Hermanus W. Dotulong]]', 'commander2': '[[Diponegoro]],[[Sentot Prawirodirdjo]],[[Kiai Madja]],[[Nyi Ageng Serang]],[[Pakubuwana VI]],[[Tumenggung Prawirodigdoyo]]', 'strength1': '50.000', 'strength2': '50.000', 'casualties1': '15.000', 'casualties2': 'Serdadu Jawa:20,000 tewas dalam perangClodfelter, Michael, Warfare and Armed Conflict: A Statistical Reference to Casualty and Other Figures, 1618-1991', 'notes': ''}\n"
     ]
    }
   ],
   "source": [
    "diponegoro = Infobox_military_conflict(\"Perang Diponegoro\")\n",
    "print(diponegoro.clean_infobox)"
   ]
  },
  {
   "cell_type": "code",
   "execution_count": null,
   "id": "392a5e6c",
   "metadata": {},
   "outputs": [],
   "source": []
  },
  {
   "cell_type": "code",
   "execution_count": null,
   "id": "965abf38",
   "metadata": {},
   "outputs": [],
   "source": []
  },
  {
   "cell_type": "code",
   "execution_count": null,
   "id": "d8b98ce8",
   "metadata": {},
   "outputs": [],
   "source": []
  }
 ],
 "metadata": {
  "kernelspec": {
   "display_name": "Python 3 (ipykernel)",
   "language": "python",
   "name": "python3"
  },
  "language_info": {
   "codemirror_mode": {
    "name": "ipython",
    "version": 3
   },
   "file_extension": ".py",
   "mimetype": "text/x-python",
   "name": "python",
   "nbconvert_exporter": "python",
   "pygments_lexer": "ipython3",
   "version": "3.10.9"
  }
 },
 "nbformat": 4,
 "nbformat_minor": 5
}
