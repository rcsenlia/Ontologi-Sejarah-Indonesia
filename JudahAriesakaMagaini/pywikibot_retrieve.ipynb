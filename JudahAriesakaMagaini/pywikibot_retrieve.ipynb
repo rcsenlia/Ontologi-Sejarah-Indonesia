{
 "cells": [
  {
   "cell_type": "markdown",
   "metadata": {},
   "source": [
    "# Meretrieve halaman Wikipedia dengan `pywikibot`"
   ]
  },
  {
   "cell_type": "code",
   "execution_count": 1,
   "metadata": {},
   "outputs": [],
   "source": [
    "import pywikibot\n",
    "import mwparserfromhell\n",
    "import csv"
   ]
  },
  {
   "cell_type": "markdown",
   "metadata": {},
   "source": [
    "## Meretrieve halaman berdasarkan kategori"
   ]
  },
  {
   "cell_type": "code",
   "execution_count": 2,
   "metadata": {},
   "outputs": [
    {
     "name": "stdout",
     "output_type": "stream",
     "text": [
      "Orde Baru\n",
      "Aspri\n",
      "Badan Pembinaan Pendidikan Pelaksanaan Pedoman Penghayatan dan Pengamalan Pancasila\n",
      "Badan Penyangga dan Pemasaran Cengkeh\n",
      "Bakorperagon\n",
      "Bapakisme\n",
      "Budi pekerti\n",
      "De-Soekarnoisasi\n",
      "Genosida Timor Timur\n",
      "Gerakan 30 September\n",
      "Ibuisme negara\n",
      "Tahun Kunjungan Indonesia\n",
      "Invasi Indonesia ke Timor Timur\n",
      "Jonggol sebagai Kandidat Ibukota Indonesia\n",
      "Kamp pengasingan Moncongloe\n",
      "Kasus biskuit beracun\n",
      "Kasus dugaan korupsi Soeharto\n",
      "Kebijakan 15 November 1978\n",
      "Kejatuhan Soeharto\n",
      "Kelompencapir\n",
      "Kepresidenan Sementara Soeharto\n",
      "Kerusuhan Banjarmasin\n",
      "Kerusuhan Mei 1998\n",
      "Kerusuhan Situbondo\n",
      "Klobotisme\n",
      "Komando Operasi Pemulihan Keamanan dan Ketertiban\n",
      "Mafia Berkeley\n",
      "Malari\n",
      "Amir Murtono\n",
      "Normalisasi Kehidupan Kampus/Badan Koordinasi Kemahasiswaan\n",
      "Operasi militer Indonesia di Aceh 1990-1998\n",
      "Paket Kebijaksanaan Oktober 1988\n",
      "Partai Golongan Karya\n",
      "Pembantaian Beutong Ateueh\n",
      "Pembantaian Purwodadi\n",
      "Pembantaian Santa Cruz\n",
      "Pemberdayaan Kesejahteraan Keluarga\n",
      "Pendidikan Moral Pancasila\n",
      "Pendudukan Gedung DPR/MPR\n",
      "Pendudukan Indonesia di Provinsi Timor Timur\n",
      "Penembakan misterius\n",
      "Penentuan Pendapat Rakyat\n",
      "Penumpasan Pengkhianatan G 30 S PKI\n",
      "Peristiwa 27 Juli\n",
      "Peristiwa Talangsari 1989\n",
      "Petisi 50\n",
      "Proyek lahan gambut satu juta hektar\n",
      "Rencana Pembangunan Lima Tahun\n",
      "Sejarah Indonesia (1965–1966)\n",
      "Siswadji\n",
      "Tebu Rakyat Intensifikasi\n",
      "Tefaat\n",
      "Tragedi Gedung KNPI Aceh Utara\n",
      "Tragedi Idi Cut\n",
      "Tragedi Jambo Keupok\n",
      "Tragedi Peudada\n",
      "Tragedi Relawan LSM RATA\n",
      "Tragedi Simpang KKA\n",
      "Tragedi Trisakti\n",
      "Transmigrasi\n",
      "Trilogi Pembangunan\n"
     ]
    }
   ],
   "source": [
    "site = pywikibot.Site(\"id\", \"wikipedia\")\n",
    "cat = pywikibot.Category(site, 'Orde Baru')  # Ganti 'Tokoh Orde Baru' dengan nama kategori\n",
    "\n",
    "for article in cat.articles():\n",
    "    print(article.title())"
   ]
  },
  {
   "cell_type": "markdown",
   "metadata": {},
   "source": [
    "## Meretrieve infobox dari suatu halaman"
   ]
  },
  {
   "cell_type": "code",
   "execution_count": 30,
   "metadata": {},
   "outputs": [],
   "source": [
    "def get_infobox(page):\n",
    "    if page.isRedirectPage():\n",
    "        return\n",
    "    \n",
    "    wikitext = page.get()\n",
    "    wikicode = mwparserfromhell.parse(wikitext)\n",
    "\n",
    "    templates = wikicode.filter_templates()\n",
    "\n",
    "    for template in templates:\n",
    "        if template.name.strip().lower().startswith(\"infobox\") or template.name.strip().lower().startswith(\"kotak info\"):\n",
    "            return template\n",
    "        \n",
    "    return None"
   ]
  },
  {
   "cell_type": "code",
   "execution_count": 20,
   "metadata": {},
   "outputs": [
    {
     "name": "stdout",
     "output_type": "stream",
     "text": [
      "{{Infobox civil conflict\n",
      "| title = Kerusuhan Mei 1998\n",
      "| partof = [[Kejatuhan Soeharto]], [[Krisis finansial Asia 1997]] dan [[Diskriminasi terhadap Tionghoa-Indonesia|Sentimen anti-Tionghoa di Indonesia]]\n",
      "| image = [[File:Jakarta riot 14 May 1998.jpg|300px|alt=A man wearing a buttoned shirt, pants, and flip-flops throws an office chair into a burning pile of other chairs in the middle of a city street. Behind him, several dozen people gather in front of a building with broken windows.]]\n",
      "| caption = Para perusuh membakar perabot kantor di jalanan Jakarta pada 14 Mei 1998\n",
      "| date = 4–8 dan 12–15 Mei 1998\n",
      "| place = Kerusuhan besar terjadi di [[Medan]], [[Jakarta]], dan [[Surakarta]] dengan sejumlah insiden terpisah di tempat lain\n",
      "| coordinates = \n",
      "| causes = * Ketidakpuasan atas pemerintahan [[Orde Baru (Indonesia)|Orde Baru]]\n",
      "* Dugaan [[Kecurangan pemilihan umum|kecurangan suara]] dalam [[Pemilihan umum legislatif Indonesia 1997|pemilu legislatif 1997]]\n",
      "* Keruntuhan ekonomi sebagai akibat dari [[Krisis finansial Asia 1997|krisis keuangan Asia]]\n",
      "* [[Otoritarianisme]]\n",
      "| result = * [[Kejatuhan Soeharto|Pengunduran diri]] Presiden [[Soeharto]] dan pembentukan [[Kabinet Reformasi Pembangunan]] baru di bawah [[B.J. Habibie]]\n",
      "* Kemerdekaan [[Timor-Leste]]\n",
      "* Awal [[Reformasi (Indonesia)|Era Reformasi]]\n",
      "| methods =  * [[Kerusuhan]]\n",
      "* [[Pembangkangan sipil]]\n",
      "* [[Penjarahan]]\n",
      "* [[Pembakaran disengaja]]\n",
      "| side1 = {{flagicon|Indonesia}} [[Pemerintah Indonesia]]\n",
      "*[[Tentara Nasional Indonesia]]\n",
      "**[[Kodam Jayakarta]]\n",
      "*[[Kepolisian Negara Republik Indonesia]]\n",
      "**[[Korps Brigade Mobil]]\n",
      "*[[Badan Intelijen Negara|Badan Intelijen Negara Indonesia]]\n",
      "* Warga lokal\n",
      "| side2 = [[Pribumi|warga sipil Indonesia]] yang terdiri dari [[Megawati Soekarnoputri]] pendukung dan pengunjuk rasa anti-pemerintah\n",
      "| side3 = [[Orang Tionghoa Indonesia|Tionghoa]] warga sipil termasuk beberapa pendukung anti-Megawati dan anti-Soeharto\n",
      "| casualties3 = <!-- Temporarily left blank until article is complete -->\n",
      "| casualties_label =\n",
      "}}\n"
     ]
    }
   ],
   "source": [
    "site = pywikibot.Site(\"id\", \"wikipedia\")\n",
    "page = pywikibot.Page(site, 'Kerusuhan Mei 1998')\n",
    "    \n",
    "print(get_infobox(page))"
   ]
  },
  {
   "cell_type": "markdown",
   "metadata": {},
   "source": [
    "## Mendapatkan subkategori dari suatu kategori"
   ]
  },
  {
   "cell_type": "code",
   "execution_count": 21,
   "metadata": {},
   "outputs": [
    {
     "name": "stdout",
     "output_type": "stream",
     "text": [
      "Kategori:Donatur Orde Baru\n",
      "Kategori:Kamp konsentrasi Moncongloe\n",
      "Kategori:Panglima Komando Keamanan dan Ketertiban\n",
      "Kategori:Paramiliter Orde Baru\n",
      "Kategori:Penandatangan Petisi 50\n",
      "Kategori:Pendudukan Indonesia di Timor Timur\n",
      "Kategori:Perserikatan Orde Baru\n",
      "Kategori:Propaganda Orde Baru\n",
      "Kategori:Tokoh Orde Baru\n",
      "Kategori:Tokoh Orde Lama\n"
     ]
    }
   ],
   "source": [
    "site = pywikibot.Site(\"id\", \"wikipedia\")\n",
    "cat = pywikibot.Category(site, 'Orde Baru')\n",
    "\n",
    "for subcat in cat.subcategories(recurse=1):\n",
    "    print(subcat.title())"
   ]
  },
  {
   "cell_type": "markdown",
   "metadata": {},
   "source": [
    "## Mendapatkan infobox yang berhubungan dengan Orde Baru\n",
    "\n",
    "Pertama-tama, kumpulkan seluruh kategori dan subkategori yang berhubungan dengan Orde Baru"
   ]
  },
  {
   "cell_type": "code",
   "execution_count": 22,
   "metadata": {},
   "outputs": [
    {
     "data": {
      "text/plain": [
       "[Category('Kategori:Orde Baru'),\n",
       " Category('Kategori:Donatur Orde Baru'),\n",
       " Category('Kategori:Kamp konsentrasi Moncongloe'),\n",
       " Category('Kategori:Panglima Komando Keamanan dan Ketertiban'),\n",
       " Category('Kategori:Paramiliter Orde Baru'),\n",
       " Category('Kategori:Penandatangan Petisi 50'),\n",
       " Category('Kategori:Pendudukan Indonesia di Timor Timur'),\n",
       " Category('Kategori:Perserikatan Orde Baru'),\n",
       " Category('Kategori:Propaganda Orde Baru'),\n",
       " Category('Kategori:Tokoh Orde Baru'),\n",
       " Category('Kategori:Tokoh Orde Lama')]"
      ]
     },
     "execution_count": 22,
     "metadata": {},
     "output_type": "execute_result"
    }
   ],
   "source": [
    "site = pywikibot.Site(\"id\", \"wikipedia\")\n",
    "cat = pywikibot.Category(site, 'Orde Baru')\n",
    "\n",
    "cats = [cat] + list(cat.subcategories(recurse=1))\n",
    "cats"
   ]
  },
  {
   "cell_type": "markdown",
   "metadata": {},
   "source": [
    "Untuk setiap kategori, ambil article dan *parse* judul dan infoboxnya. Hasilnya kemudian ditulis ke dalam file csv"
   ]
  },
  {
   "cell_type": "code",
   "execution_count": 26,
   "metadata": {},
   "outputs": [],
   "source": [
    "orde_baru_articles = {article for cat in cats for article in cat.articles()}\n",
    "\n",
    "with open('data_orde_baru_pages.csv', 'w', newline='', encoding='UTF-8') as file:\n",
    "    writer = csv.writer(file)\n",
    "    \n",
    "    writer.writerow([\"Title\", \"Properties\"])\n",
    "    \n",
    "    for article in orde_baru_articles:\n",
    "        writer.writerow([article.title(), get_infobox(article)])"
   ]
  },
  {
   "cell_type": "markdown",
   "metadata": {},
   "source": [
    "Terdapat kategori `Indonesia dalam tahun ...` yang juga dapat digunakan"
   ]
  },
  {
   "cell_type": "code",
   "execution_count": 28,
   "metadata": {},
   "outputs": [],
   "source": [
    "site = pywikibot.Site(\"id\", \"wikipedia\")\n",
    "cats = [f'indonesia dalam tahun {tahun}' for tahun in range(1966,1999)]\n",
    "orde_baru_articles = {article for cat in cats for article in pywikibot.Category(site, cat).articles()}"
   ]
  },
  {
   "cell_type": "code",
   "execution_count": 31,
   "metadata": {},
   "outputs": [],
   "source": [
    "with open('data_orde_baru_dalam_tahun_pages.csv', 'w', newline='', encoding='UTF-8') as file:\n",
    "    writer = csv.writer(file)\n",
    "    \n",
    "    writer.writerow([\"Title\", \"Properties\"])\n",
    "    \n",
    "    for article in orde_baru_articles:\n",
    "        writer.writerow([article.title(), get_infobox(article)])"
   ]
  },
  {
   "cell_type": "markdown",
   "metadata": {},
   "source": [
    "## Mengambil artikel dari suatu templat"
   ]
  },
  {
   "cell_type": "code",
   "execution_count": 45,
   "metadata": {},
   "outputs": [
    {
     "name": "stdout",
     "output_type": "stream",
     "text": [
      "\n",
      "Bencana alam di Indonesia\n",
      "Daftar gempa bumi di Indonesia\n",
      "Garuda Indonesia Penerbangan 708\n",
      "Gempa bumi Laut Seram 1965\n",
      "Gempa bumi Sulawesi 1968\n",
      "Gempa bumi Sulawesi 1969\n",
      "Gempa bumi Sulawesi Barat 1967\n",
      "Gempa bumi Sulawesi Tengah 1968\n",
      "Gerakan 30 September\n",
      "Indonesia\n",
      "Krisis Selat Sunda\n",
      "Operasi Trikora\n",
      "Operasi tempur tahun 1963 pada konfrontasi Indonesia–Malaysia\n",
      "Operasi tempur tahun 1964 pada konfrontasi Indonesia–Malaysia\n",
      "Operasi tempur tahun 1965 pada konfrontasi Indonesia–Malaysia\n",
      "Pembantaian Purwodadi\n",
      "Pembantaian di Indonesia 1965–1966\n",
      "Pendaratan di Labis\n",
      "Peristiwa Arfai\n",
      "Peristiwa Kanigoro\n",
      "Pertempuran Laut Aru\n",
      "Pertempuran Sungei Koemba\n",
      "Serangan ke Limbang\n",
      "Surat Perintah Sebelas Maret\n",
      "Tabrakan kereta api Ratujaya 1968\n",
      "\n",
      "\n",
      "\n",
      "\n"
     ]
    }
   ],
   "source": [
    "site = pywikibot.Site(\"id\", \"wikipedia\")\n",
    "template = pywikibot.Page(site, 'Templat:Bencana di Indonesia tahun 1960-an')\n",
    "\n",
    "for page in template.linkedPages():\n",
    "    print(page.title())"
   ]
  },
  {
   "cell_type": "code",
   "execution_count": 32,
   "metadata": {},
   "outputs": [],
   "source": [
    "templates = [\n",
    "    'Templat:Bencana di Indonesia tahun 1960-an',\n",
    "    'Templat:Bencana di Indonesia tahun 1970-an',\n",
    "    'Templat:Bencana di Indonesia tahun 1980-an',\n",
    "    'Templat:Bencana di Indonesia tahun 1990-an'\n",
    "]"
   ]
  },
  {
   "cell_type": "code",
   "execution_count": 40,
   "metadata": {},
   "outputs": [],
   "source": [
    "site = pywikibot.Site(\"id\", \"wikipedia\")\n",
    "bencanas = {page for template in templates for page in pywikibot.Page(site, template).linkedPages()}"
   ]
  },
  {
   "cell_type": "code",
   "execution_count": 41,
   "metadata": {},
   "outputs": [
    {
     "ename": "NoPageError",
     "evalue": "Page [[id:Pembicaraan Templat:Bencana di Indonesia tahun 1980-an]] doesn't exist.",
     "output_type": "error",
     "traceback": [
      "\u001b[1;31m---------------------------------------------------------------------------\u001b[0m",
      "\u001b[1;31mNoPageError\u001b[0m                               Traceback (most recent call last)",
      "Cell \u001b[1;32mIn[41], line 7\u001b[0m\n\u001b[0;32m      4\u001b[0m writer\u001b[38;5;241m.\u001b[39mwriterow([\u001b[38;5;124m\"\u001b[39m\u001b[38;5;124mTitle\u001b[39m\u001b[38;5;124m\"\u001b[39m, \u001b[38;5;124m\"\u001b[39m\u001b[38;5;124mProperties\u001b[39m\u001b[38;5;124m\"\u001b[39m])\n\u001b[0;32m      6\u001b[0m \u001b[38;5;28;01mfor\u001b[39;00m article \u001b[38;5;129;01min\u001b[39;00m bencanas:\n\u001b[1;32m----> 7\u001b[0m     writer\u001b[38;5;241m.\u001b[39mwriterow([article\u001b[38;5;241m.\u001b[39mtitle(), \u001b[43mget_infobox\u001b[49m\u001b[43m(\u001b[49m\u001b[43marticle\u001b[49m\u001b[43m)\u001b[49m])\n",
      "Cell \u001b[1;32mIn[30], line 5\u001b[0m, in \u001b[0;36mget_infobox\u001b[1;34m(page)\u001b[0m\n\u001b[0;32m      2\u001b[0m \u001b[38;5;28;01mif\u001b[39;00m page\u001b[38;5;241m.\u001b[39misRedirectPage():\n\u001b[0;32m      3\u001b[0m     \u001b[38;5;28;01mreturn\u001b[39;00m\n\u001b[1;32m----> 5\u001b[0m wikitext \u001b[38;5;241m=\u001b[39m \u001b[43mpage\u001b[49m\u001b[38;5;241;43m.\u001b[39;49m\u001b[43mget\u001b[49m\u001b[43m(\u001b[49m\u001b[43m)\u001b[49m\n\u001b[0;32m      6\u001b[0m wikicode \u001b[38;5;241m=\u001b[39m mwparserfromhell\u001b[38;5;241m.\u001b[39mparse(wikitext)\n\u001b[0;32m      8\u001b[0m templates \u001b[38;5;241m=\u001b[39m wikicode\u001b[38;5;241m.\u001b[39mfilter_templates()\n",
      "File \u001b[1;32md:\\kuliah\\semester 8\\ta\\wikidumps\\.env\\lib\\site-packages\\pywikibot\\page\\_basepage.py:379\u001b[0m, in \u001b[0;36mBasePage.get\u001b[1;34m(self, force, get_redirect)\u001b[0m\n\u001b[0;32m    377\u001b[0m         \u001b[38;5;28;01mdel\u001b[39;00m \u001b[38;5;28mself\u001b[39m\u001b[38;5;241m.\u001b[39m_bot_may_edit\n\u001b[0;32m    378\u001b[0m \u001b[38;5;28;01mtry\u001b[39;00m:\n\u001b[1;32m--> 379\u001b[0m     \u001b[38;5;28;43mself\u001b[39;49m\u001b[38;5;241;43m.\u001b[39;49m\u001b[43m_getInternals\u001b[49m\u001b[43m(\u001b[49m\u001b[43m)\u001b[49m\n\u001b[0;32m    380\u001b[0m \u001b[38;5;28;01mexcept\u001b[39;00m IsRedirectPageError:\n\u001b[0;32m    381\u001b[0m     \u001b[38;5;28;01mif\u001b[39;00m \u001b[38;5;129;01mnot\u001b[39;00m get_redirect:\n",
      "File \u001b[1;32md:\\kuliah\\semester 8\\ta\\wikidumps\\.env\\lib\\site-packages\\pywikibot\\page\\_basepage.py:418\u001b[0m, in \u001b[0;36mBasePage._getInternals\u001b[1;34m(self)\u001b[0m\n\u001b[0;32m    416\u001b[0m \u001b[38;5;28;01mif\u001b[39;00m \u001b[38;5;28mself\u001b[39m\u001b[38;5;241m.\u001b[39m_latest_cached_revision() \u001b[38;5;129;01mis\u001b[39;00m \u001b[38;5;28;01mNone\u001b[39;00m:\n\u001b[0;32m    417\u001b[0m     \u001b[38;5;28;01mtry\u001b[39;00m:\n\u001b[1;32m--> 418\u001b[0m         \u001b[38;5;28;43mself\u001b[39;49m\u001b[38;5;241;43m.\u001b[39;49m\u001b[43msite\u001b[49m\u001b[38;5;241;43m.\u001b[39;49m\u001b[43mloadrevisions\u001b[49m\u001b[43m(\u001b[49m\u001b[38;5;28;43mself\u001b[39;49m\u001b[43m,\u001b[49m\u001b[43m \u001b[49m\u001b[43mcontent\u001b[49m\u001b[38;5;241;43m=\u001b[39;49m\u001b[38;5;28;43;01mTrue\u001b[39;49;00m\u001b[43m)\u001b[49m\n\u001b[0;32m    419\u001b[0m     \u001b[38;5;28;01mexcept\u001b[39;00m (NoPageError, SectionError) \u001b[38;5;28;01mas\u001b[39;00m e:\n\u001b[0;32m    420\u001b[0m         \u001b[38;5;28mself\u001b[39m\u001b[38;5;241m.\u001b[39m_getexception \u001b[38;5;241m=\u001b[39m e\n",
      "File \u001b[1;32md:\\kuliah\\semester 8\\ta\\wikidumps\\.env\\lib\\site-packages\\pywikibot\\site\\_generators.py:784\u001b[0m, in \u001b[0;36mGeneratorsMixin.loadrevisions\u001b[1;34m(self, page, content, section, **kwargs)\u001b[0m\n\u001b[0;32m    782\u001b[0m     \u001b[38;5;28;01mraise\u001b[39;00m InconsistentTitleError(page, pagedata[\u001b[38;5;124m'\u001b[39m\u001b[38;5;124mtitle\u001b[39m\u001b[38;5;124m'\u001b[39m])\n\u001b[0;32m    783\u001b[0m \u001b[38;5;28;01mif\u001b[39;00m \u001b[38;5;124m'\u001b[39m\u001b[38;5;124mmissing\u001b[39m\u001b[38;5;124m'\u001b[39m \u001b[38;5;129;01min\u001b[39;00m pagedata:\n\u001b[1;32m--> 784\u001b[0m     \u001b[38;5;28;01mraise\u001b[39;00m NoPageError(page)\n\u001b[0;32m    785\u001b[0m api\u001b[38;5;241m.\u001b[39mupdate_page(page, pagedata, rvgen\u001b[38;5;241m.\u001b[39mprops)\n",
      "\u001b[1;31mNoPageError\u001b[0m: Page [[id:Pembicaraan Templat:Bencana di Indonesia tahun 1980-an]] doesn't exist."
     ]
    }
   ],
   "source": [
    "with open('data_bencana_dalam_orde_baru.csv', 'w', newline='', encoding='UTF-8') as file:\n",
    "    writer = csv.writer(file)\n",
    "    \n",
    "    writer.writerow([\"Title\", \"Properties\"])\n",
    "    \n",
    "    for article in bencanas:\n",
    "        writer.writerow([article.title(), get_infobox(article)])"
   ]
  }
 ],
 "metadata": {
  "kernelspec": {
   "display_name": ".env",
   "language": "python",
   "name": "python3"
  },
  "language_info": {
   "codemirror_mode": {
    "name": "ipython",
    "version": 3
   },
   "file_extension": ".py",
   "mimetype": "text/x-python",
   "name": "python",
   "nbconvert_exporter": "python",
   "pygments_lexer": "ipython3",
   "version": "3.10.10"
  }
 },
 "nbformat": 4,
 "nbformat_minor": 2
}
