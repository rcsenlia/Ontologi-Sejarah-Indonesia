{
 "cells": [
  {
   "cell_type": "markdown",
   "metadata": {},
   "source": [
    "# Meretrieve halaman Wikipedia dengan `pywikibot`"
   ]
  },
  {
   "cell_type": "code",
   "execution_count": 1,
   "metadata": {},
   "outputs": [],
   "source": [
    "import pywikibot\n",
    "import mwparserfromhell\n",
    "import csv"
   ]
  },
  {
   "cell_type": "markdown",
   "metadata": {},
   "source": [
    "## Meretrieve halaman berdasarkan kategori"
   ]
  },
  {
   "cell_type": "code",
   "execution_count": 2,
   "metadata": {},
   "outputs": [
    {
     "name": "stdout",
     "output_type": "stream",
     "text": [
      "Orde Baru\n",
      "Aspri\n",
      "Badan Pembinaan Pendidikan Pelaksanaan Pedoman Penghayatan dan Pengamalan Pancasila\n",
      "Badan Penyangga dan Pemasaran Cengkeh\n",
      "Bakorperagon\n",
      "Bapakisme\n",
      "Budi pekerti\n",
      "De-Soekarnoisasi\n",
      "Genosida Timor Timur\n",
      "Gerakan 30 September\n",
      "Ibuisme negara\n",
      "Tahun Kunjungan Indonesia\n",
      "Invasi Indonesia ke Timor Timur\n",
      "Jonggol sebagai Kandidat Ibukota Indonesia\n",
      "Kamp pengasingan Moncongloe\n",
      "Kasus biskuit beracun\n",
      "Kasus dugaan korupsi Soeharto\n",
      "Kebijakan 15 November 1978\n",
      "Kejatuhan Soeharto\n",
      "Kelompencapir\n",
      "Kepresidenan Sementara Soeharto\n",
      "Kerusuhan Banjarmasin\n",
      "Kerusuhan Mei 1998\n",
      "Kerusuhan Situbondo\n",
      "Klobotisme\n",
      "Komando Operasi Pemulihan Keamanan dan Ketertiban\n",
      "Mafia Berkeley\n",
      "Malari\n",
      "Amir Murtono\n",
      "Normalisasi Kehidupan Kampus/Badan Koordinasi Kemahasiswaan\n",
      "Operasi militer Indonesia di Aceh 1990-1998\n",
      "Paket Kebijaksanaan Oktober 1988\n",
      "Partai Golongan Karya\n",
      "Pembantaian Beutong Ateueh\n",
      "Pembantaian Purwodadi\n",
      "Pembantaian Santa Cruz\n",
      "Pemberdayaan Kesejahteraan Keluarga\n",
      "Pendidikan Moral Pancasila\n",
      "Pendudukan Gedung DPR/MPR\n",
      "Pendudukan Indonesia di Provinsi Timor Timur\n",
      "Penembakan misterius\n",
      "Penentuan Pendapat Rakyat\n",
      "Penumpasan Pengkhianatan G 30 S PKI\n",
      "Peristiwa 27 Juli\n",
      "Peristiwa Talangsari 1989\n",
      "Petisi 50\n",
      "Proyek lahan gambut satu juta hektar\n",
      "Rencana Pembangunan Lima Tahun\n",
      "Sejarah Indonesia (1965–1966)\n",
      "Siswadji\n",
      "Tebu Rakyat Intensifikasi\n",
      "Tefaat\n",
      "Tragedi Gedung KNPI Aceh Utara\n",
      "Tragedi Idi Cut\n",
      "Tragedi Jambo Keupok\n",
      "Tragedi Peudada\n",
      "Tragedi Relawan LSM RATA\n",
      "Tragedi Simpang KKA\n",
      "Tragedi Trisakti\n",
      "Transmigrasi\n",
      "Trilogi Pembangunan\n"
     ]
    }
   ],
   "source": [
    "site = pywikibot.Site(\"id\", \"wikipedia\")\n",
    "cat = pywikibot.Category(site, 'Orde Baru')  # Ganti 'Tokoh Orde Baru' dengan nama kategori\n",
    "\n",
    "for article in cat.articles():\n",
    "    print(article.title())"
   ]
  },
  {
   "cell_type": "markdown",
   "metadata": {},
   "source": [
    "## Meretrieve infobox dari suatu halaman"
   ]
  },
  {
   "cell_type": "code",
   "execution_count": 2,
   "metadata": {},
   "outputs": [],
   "source": [
    "def get_infobox(page):\n",
    "    if page.isRedirectPage() or not page.exists():\n",
    "        return\n",
    "    \n",
    "    wikitext = page.get()\n",
    "    wikicode = mwparserfromhell.parse(wikitext)\n",
    "\n",
    "    templates = wikicode.filter_templates()\n",
    "\n",
    "    for template in templates:\n",
    "        if template.name.strip().lower().startswith(\"infobox\") or template.name.strip().lower().startswith(\"kotak info\"):\n",
    "            return template"
   ]
  },
  {
   "cell_type": "code",
   "execution_count": 20,
   "metadata": {},
   "outputs": [
    {
     "name": "stdout",
     "output_type": "stream",
     "text": [
      "{{Infobox civil conflict\n",
      "| title = Kerusuhan Mei 1998\n",
      "| partof = [[Kejatuhan Soeharto]], [[Krisis finansial Asia 1997]] dan [[Diskriminasi terhadap Tionghoa-Indonesia|Sentimen anti-Tionghoa di Indonesia]]\n",
      "| image = [[File:Jakarta riot 14 May 1998.jpg|300px|alt=A man wearing a buttoned shirt, pants, and flip-flops throws an office chair into a burning pile of other chairs in the middle of a city street. Behind him, several dozen people gather in front of a building with broken windows.]]\n",
      "| caption = Para perusuh membakar perabot kantor di jalanan Jakarta pada 14 Mei 1998\n",
      "| date = 4–8 dan 12–15 Mei 1998\n",
      "| place = Kerusuhan besar terjadi di [[Medan]], [[Jakarta]], dan [[Surakarta]] dengan sejumlah insiden terpisah di tempat lain\n",
      "| coordinates = \n",
      "| causes = * Ketidakpuasan atas pemerintahan [[Orde Baru (Indonesia)|Orde Baru]]\n",
      "* Dugaan [[Kecurangan pemilihan umum|kecurangan suara]] dalam [[Pemilihan umum legislatif Indonesia 1997|pemilu legislatif 1997]]\n",
      "* Keruntuhan ekonomi sebagai akibat dari [[Krisis finansial Asia 1997|krisis keuangan Asia]]\n",
      "* [[Otoritarianisme]]\n",
      "| result = * [[Kejatuhan Soeharto|Pengunduran diri]] Presiden [[Soeharto]] dan pembentukan [[Kabinet Reformasi Pembangunan]] baru di bawah [[B.J. Habibie]]\n",
      "* Kemerdekaan [[Timor-Leste]]\n",
      "* Awal [[Reformasi (Indonesia)|Era Reformasi]]\n",
      "| methods =  * [[Kerusuhan]]\n",
      "* [[Pembangkangan sipil]]\n",
      "* [[Penjarahan]]\n",
      "* [[Pembakaran disengaja]]\n",
      "| side1 = {{flagicon|Indonesia}} [[Pemerintah Indonesia]]\n",
      "*[[Tentara Nasional Indonesia]]\n",
      "**[[Kodam Jayakarta]]\n",
      "*[[Kepolisian Negara Republik Indonesia]]\n",
      "**[[Korps Brigade Mobil]]\n",
      "*[[Badan Intelijen Negara|Badan Intelijen Negara Indonesia]]\n",
      "* Warga lokal\n",
      "| side2 = [[Pribumi|warga sipil Indonesia]] yang terdiri dari [[Megawati Soekarnoputri]] pendukung dan pengunjuk rasa anti-pemerintah\n",
      "| side3 = [[Orang Tionghoa Indonesia|Tionghoa]] warga sipil termasuk beberapa pendukung anti-Megawati dan anti-Soeharto\n",
      "| casualties3 = <!-- Temporarily left blank until article is complete -->\n",
      "| casualties_label =\n",
      "}}\n"
     ]
    }
   ],
   "source": [
    "site = pywikibot.Site(\"id\", \"wikipedia\")\n",
    "page = pywikibot.Page(site, 'Kerusuhan Mei 1998')\n",
    "    \n",
    "print(get_infobox(page))"
   ]
  },
  {
   "cell_type": "markdown",
   "metadata": {},
   "source": [
    "## Mendapatkan subkategori dari suatu kategori"
   ]
  },
  {
   "cell_type": "code",
   "execution_count": 3,
   "metadata": {},
   "outputs": [
    {
     "name": "stdout",
     "output_type": "stream",
     "text": [
      "Kategori:Donatur Orde Baru\n",
      "Kategori:Kamp konsentrasi Moncongloe\n",
      "Kategori:Panglima Komando Keamanan dan Ketertiban\n",
      "Kategori:Paramiliter Orde Baru\n",
      "Kategori:Penandatangan Petisi 50\n",
      "Kategori:Pendudukan Indonesia di Timor Timur\n",
      "Kategori:Perserikatan Orde Baru\n",
      "Kategori:Propaganda Orde Baru\n",
      "Kategori:Tokoh Orde Baru\n",
      "Kategori:Tokoh Orde Lama\n"
     ]
    }
   ],
   "source": [
    "site = pywikibot.Site(\"id\", \"wikipedia\")\n",
    "cat = pywikibot.Category(site, 'Orde Baru')\n",
    "\n",
    "for subcat in cat.subcategories(recurse=1):\n",
    "    print(subcat.title())"
   ]
  },
  {
   "cell_type": "markdown",
   "metadata": {},
   "source": [
    "## Mendapatkan infobox yang berhubungan dengan Orde Baru\n",
    "\n",
    "Pertama-tama, kumpulkan seluruh kategori dan subkategori yang berhubungan dengan Orde Baru"
   ]
  },
  {
   "cell_type": "code",
   "execution_count": 17,
   "metadata": {},
   "outputs": [
    {
     "data": {
      "text/plain": [
       "[Category('Kategori:Orde Baru'),\n",
       " Category('Kategori:Donatur Orde Baru'),\n",
       " Category('Kategori:Kamp konsentrasi Moncongloe'),\n",
       " Category('Kategori:Panglima Komando Keamanan dan Ketertiban'),\n",
       " Category('Kategori:Paramiliter Orde Baru'),\n",
       " Category('Kategori:Penandatangan Petisi 50'),\n",
       " Category('Kategori:Pendudukan Indonesia di Timor Timur'),\n",
       " Category('Kategori:Perserikatan Orde Baru'),\n",
       " Category('Kategori:Propaganda Orde Baru'),\n",
       " Category('Kategori:Tokoh Orde Baru'),\n",
       " Category('Kategori:Tokoh Orde Lama')]"
      ]
     },
     "execution_count": 17,
     "metadata": {},
     "output_type": "execute_result"
    }
   ],
   "source": [
    "site = pywikibot.Site(\"id\", \"wikipedia\")\n",
    "cat = pywikibot.Category(site, 'Orde Baru')\n",
    "\n",
    "cats = [cat] + list(cat.subcategories(recurse=1))\n",
    "cats"
   ]
  },
  {
   "cell_type": "markdown",
   "metadata": {},
   "source": [
    "Untuk setiap kategori, ambil article dan *parse* judul dan infoboxnya. Hasilnya kemudian ditulis ke dalam file csv"
   ]
  },
  {
   "cell_type": "code",
   "execution_count": 26,
   "metadata": {},
   "outputs": [],
   "source": [
    "orde_baru_articles = {article for cat in cats for article in cat.articles()}\n",
    "\n",
    "with open('data_orde_baru_pages.csv', 'w', newline='', encoding='UTF-8') as file:\n",
    "    writer = csv.writer(file)\n",
    "    \n",
    "    writer.writerow([\"Title\", \"Properties\"])\n",
    "    \n",
    "    for article in orde_baru_articles:\n",
    "        writer.writerow([article.title(), get_infobox(article)])"
   ]
  },
  {
   "cell_type": "markdown",
   "metadata": {},
   "source": [
    "Terdapat kategori `Indonesia dalam tahun ...` yang juga dapat digunakan"
   ]
  },
  {
   "cell_type": "code",
   "execution_count": 28,
   "metadata": {},
   "outputs": [],
   "source": [
    "site = pywikibot.Site(\"id\", \"wikipedia\")\n",
    "cats = [f'indonesia dalam tahun {tahun}' for tahun in range(1966,1999)]\n",
    "orde_baru_articles = {article for cat in cats for article in pywikibot.Category(site, cat).articles()}"
   ]
  },
  {
   "cell_type": "code",
   "execution_count": 31,
   "metadata": {},
   "outputs": [],
   "source": [
    "with open('data_orde_baru_dalam_tahun_pages.csv', 'w', newline='', encoding='UTF-8') as file:\n",
    "    writer = csv.writer(file)\n",
    "    \n",
    "    writer.writerow([\"Title\", \"Properties\"])\n",
    "    \n",
    "    for article in orde_baru_articles:\n",
    "        writer.writerow([article.title(), get_infobox(article)])"
   ]
  },
  {
   "cell_type": "markdown",
   "metadata": {},
   "source": [
    "## Mengambil artikel dari suatu templat"
   ]
  },
  {
   "cell_type": "code",
   "execution_count": 49,
   "metadata": {},
   "outputs": [
    {
     "name": "stdout",
     "output_type": "stream",
     "text": [
      "Pembicaraan Templat:Bencana di Indonesia tahun 1960-an\n",
      "Bencana alam di Indonesia\n",
      "Daftar gempa bumi di Indonesia\n",
      "Garuda Indonesia Penerbangan 708\n",
      "Gempa bumi Laut Seram 1965\n",
      "Gempa bumi Sulawesi 1968\n",
      "Gempa bumi Sulawesi 1969\n",
      "Gempa bumi Sulawesi Barat 1967\n",
      "Gempa bumi Sulawesi Tengah 1968\n",
      "Gerakan 30 September\n",
      "Indonesia\n",
      "Krisis Selat Sunda\n",
      "Operasi Trikora\n",
      "Operasi tempur tahun 1963 pada konfrontasi Indonesia–Malaysia\n",
      "Operasi tempur tahun 1964 pada konfrontasi Indonesia–Malaysia\n",
      "Operasi tempur tahun 1965 pada konfrontasi Indonesia–Malaysia\n",
      "Pembantaian Purwodadi\n",
      "Pembantaian di Indonesia 1965–1966\n",
      "Pendaratan di Labis\n",
      "Peristiwa Arfai\n",
      "Peristiwa Kanigoro\n",
      "Pertempuran Laut Aru\n",
      "Pertempuran Sungei Koemba\n",
      "Serangan ke Limbang\n",
      "Surat Perintah Sebelas Maret\n",
      "Tabrakan kereta api Ratujaya 1968\n",
      "Templat:Bencana di Indonesia tahun 1950-an\n",
      "Templat:Bencana di Indonesia tahun 1970-an\n",
      "Kategori:Indonesia dalam tahun 1960\n",
      "Kategori:Indonesia dalam tahun 1969\n"
     ]
    }
   ],
   "source": [
    "site = pywikibot.Site(\"id\", \"wikipedia\")\n",
    "template = pywikibot.Page(site, 'Templat:Bencana di Indonesia tahun 1960-an')\n",
    "\n",
    "for page in template.linkedPages():\n",
    "    print(page.title())"
   ]
  },
  {
   "cell_type": "code",
   "execution_count": 32,
   "metadata": {},
   "outputs": [],
   "source": [
    "templates = [\n",
    "    'Templat:Bencana di Indonesia tahun 1960-an',\n",
    "    'Templat:Bencana di Indonesia tahun 1970-an',\n",
    "    'Templat:Bencana di Indonesia tahun 1980-an',\n",
    "    'Templat:Bencana di Indonesia tahun 1990-an'\n",
    "]"
   ]
  },
  {
   "cell_type": "code",
   "execution_count": 40,
   "metadata": {},
   "outputs": [],
   "source": [
    "site = pywikibot.Site(\"id\", \"wikipedia\")\n",
    "bencanas = {page for template in templates for page in pywikibot.Page(site, template).linkedPages()}"
   ]
  },
  {
   "cell_type": "code",
   "execution_count": 48,
   "metadata": {},
   "outputs": [],
   "source": [
    "with open('data_bencana_dalam_orde_baru.csv', 'w', newline='', encoding='UTF-8') as file:\n",
    "    writer = csv.writer(file)\n",
    "    \n",
    "    writer.writerow([\"Title\", \"Properties\"])\n",
    "    \n",
    "    for article in bencanas:\n",
    "        writer.writerow([article.title(), get_infobox(article)])"
   ]
  },
  {
   "cell_type": "markdown",
   "metadata": {},
   "source": [
    "## Meretrieve halaman dari Wikipedia bahasa Inggris"
   ]
  },
  {
   "cell_type": "code",
   "execution_count": 11,
   "metadata": {},
   "outputs": [],
   "source": [
    "site = pywikibot.Site(\"en\", \"wikipedia\")\n",
    "cats = [f'{tahun} in Indonesia' for tahun in range(1966,1999)]\n",
    "cats += [f'{tahun} establishments in Indonesia' for tahun in range(1966,1999)]\n",
    "orde_baru_articles = {article for cat in cats for article in pywikibot.Category(site, cat).articles()}"
   ]
  },
  {
   "cell_type": "code",
   "execution_count": 13,
   "metadata": {},
   "outputs": [
    {
     "name": "stderr",
     "output_type": "stream",
     "text": [
      "ERROR: Traceback (most recent call last):\n",
      "  File \"d:\\kuliah\\semester 8\\ta\\wikidumps\\.env\\lib\\site-packages\\pywikibot\\data\\api\\_requests.py\", line 682, in _http_request\n",
      "    response = http.request(self.site, uri=uri,\n",
      "  File \"d:\\kuliah\\semester 8\\ta\\wikidumps\\.env\\lib\\site-packages\\pywikibot\\comms\\http.py\", line 283, in request\n",
      "    r = fetch(baseuri, headers=headers, **kwargs)\n",
      "  File \"d:\\kuliah\\semester 8\\ta\\wikidumps\\.env\\lib\\site-packages\\pywikibot\\comms\\http.py\", line 457, in fetch\n",
      "    callback(response)\n",
      "  File \"d:\\kuliah\\semester 8\\ta\\wikidumps\\.env\\lib\\site-packages\\pywikibot\\comms\\http.py\", line 333, in error_handling_callback\n",
      "    raise ServerError(response)\n",
      "pywikibot.exceptions.ServerError: HTTPSConnectionPool(host='en.wikipedia.org', port=443): Read timed out. (read timeout=45)\n",
      "\n",
      "WARNING: Waiting 5.0 seconds before retrying.\n"
     ]
    }
   ],
   "source": [
    "with open('data_orde_baru_dalam_tahun_pages_english.csv', 'w', newline='', encoding='UTF-8') as file:\n",
    "    writer = csv.writer(file)\n",
    "    \n",
    "    writer.writerow([\"Title\", \"Properties\"])\n",
    "    \n",
    "    for article in orde_baru_articles:\n",
    "        writer.writerow([article.title(), get_infobox(article)])"
   ]
  },
  {
   "cell_type": "code",
   "execution_count": 18,
   "metadata": {},
   "outputs": [
    {
     "data": {
      "text/plain": [
       "[Category('Category:New Order (Indonesia)'),\n",
       " Category('Category:Indonesian occupation of East Timor'),\n",
       " Category('Category:Suharto family and associates')]"
      ]
     },
     "execution_count": 18,
     "metadata": {},
     "output_type": "execute_result"
    }
   ],
   "source": [
    "site = pywikibot.Site(\"en\", \"wikipedia\")\n",
    "cat = pywikibot.Category(site, 'New Order (Indonesia)')\n",
    "\n",
    "cats = [cat] + list(cat.subcategories(recurse=1))\n",
    "cats"
   ]
  },
  {
   "cell_type": "code",
   "execution_count": null,
   "metadata": {},
   "outputs": [],
   "source": [
    "orde_baru_articles = {article for cat in cats for article in cat.articles()}\n",
    "\n",
    "with open('data_orde_baru_pages_english.csv', 'w', newline='', encoding='UTF-8') as file:\n",
    "    writer = csv.writer(file)\n",
    "    \n",
    "    writer.writerow([\"Title\", \"Properties\"])\n",
    "    \n",
    "    for article in orde_baru_articles:\n",
    "        writer.writerow([article.title(), get_infobox(article)])"
   ]
  },
  {
   "cell_type": "code",
   "execution_count": 2,
   "metadata": {},
   "outputs": [
    {
     "name": "stdout",
     "output_type": "stream",
     "text": [
      "288\n"
     ]
    }
   ],
   "source": [
    "with open('data_orde_baru_pages.csv', 'r', newline='', encoding='UTF-8') as file:\n",
    "    reader = csv.reader(file)\n",
    "    next(reader)\n",
    "    total = 0\n",
    "    for row in reader:\n",
    "        total += 1\n",
    "    print(total)"
   ]
  },
  {
   "cell_type": "code",
   "execution_count": 3,
   "metadata": {},
   "outputs": [
    {
     "name": "stdout",
     "output_type": "stream",
     "text": [
      "187\n"
     ]
    }
   ],
   "source": [
    "with open('data_orde_baru_dalam_tahun_pages.csv', 'r', newline='', encoding='UTF-8') as file:\n",
    "    reader = csv.reader(file)\n",
    "    next(reader)\n",
    "    total = 0\n",
    "    for row in reader:\n",
    "        total += 1\n",
    "    print(total)"
   ]
  },
  {
   "cell_type": "markdown",
   "metadata": {},
   "source": [
    "## Mendapatkan jenis infobox"
   ]
  },
  {
   "cell_type": "markdown",
   "metadata": {},
   "source": [
    "Pertama-tama, akan dikumpulkan terlebih dahulu semua kategori yang relevan dengan Orde Baru."
   ]
  },
  {
   "cell_type": "code",
   "execution_count": 3,
   "metadata": {},
   "outputs": [
    {
     "data": {
      "text/plain": [
       "[Category('Kategori:Orde Baru'),\n",
       " Category('Kategori:Donatur Orde Baru'),\n",
       " Category('Kategori:Kamp konsentrasi Moncongloe'),\n",
       " Category('Kategori:Panglima Komando Keamanan dan Ketertiban'),\n",
       " Category('Kategori:Paramiliter Orde Baru'),\n",
       " Category('Kategori:Penandatangan Petisi 50'),\n",
       " Category('Kategori:Pendudukan Indonesia di Timor Timur'),\n",
       " Category('Kategori:Perserikatan Orde Baru'),\n",
       " Category('Kategori:Propaganda Orde Baru'),\n",
       " Category('Kategori:Tokoh Orde Baru'),\n",
       " Category('Kategori:Tokoh Orde Lama')]"
      ]
     },
     "execution_count": 3,
     "metadata": {},
     "output_type": "execute_result"
    }
   ],
   "source": [
    "site = pywikibot.Site(\"id\", \"wikipedia\")\n",
    "cat = pywikibot.Category(site, 'Orde Baru')\n",
    "\n",
    "cats = [cat] + list(cat.subcategories(recurse=1))\n",
    "cats"
   ]
  },
  {
   "cell_type": "code",
   "execution_count": 4,
   "metadata": {},
   "outputs": [
    {
     "data": {
      "text/plain": [
       "[Category('Kategori:Orde Baru'),\n",
       " Category('Kategori:Donatur Orde Baru'),\n",
       " Category('Kategori:Kamp konsentrasi Moncongloe'),\n",
       " Category('Kategori:Panglima Komando Keamanan dan Ketertiban'),\n",
       " Category('Kategori:Paramiliter Orde Baru'),\n",
       " Category('Kategori:Penandatangan Petisi 50'),\n",
       " Category('Kategori:Pendudukan Indonesia di Timor Timur'),\n",
       " Category('Kategori:Perserikatan Orde Baru'),\n",
       " Category('Kategori:Propaganda Orde Baru'),\n",
       " Category('Kategori:Tokoh Orde Baru'),\n",
       " Category('Kategori:Indonesia dalam tahun 1966'),\n",
       " Category('Kategori:Indonesia dalam tahun 1967'),\n",
       " Category('Kategori:Indonesia dalam tahun 1968'),\n",
       " Category('Kategori:Indonesia dalam tahun 1969'),\n",
       " Category('Kategori:Indonesia dalam tahun 1970'),\n",
       " Category('Kategori:Indonesia dalam tahun 1971'),\n",
       " Category('Kategori:Indonesia dalam tahun 1972'),\n",
       " Category('Kategori:Indonesia dalam tahun 1973'),\n",
       " Category('Kategori:Indonesia dalam tahun 1974'),\n",
       " Category('Kategori:Indonesia dalam tahun 1975'),\n",
       " Category('Kategori:Indonesia dalam tahun 1976'),\n",
       " Category('Kategori:Indonesia dalam tahun 1977'),\n",
       " Category('Kategori:Indonesia dalam tahun 1978'),\n",
       " Category('Kategori:Indonesia dalam tahun 1979'),\n",
       " Category('Kategori:Indonesia dalam tahun 1980'),\n",
       " Category('Kategori:Indonesia dalam tahun 1981'),\n",
       " Category('Kategori:Indonesia dalam tahun 1982'),\n",
       " Category('Kategori:Indonesia dalam tahun 1983'),\n",
       " Category('Kategori:Indonesia dalam tahun 1984'),\n",
       " Category('Kategori:Indonesia dalam tahun 1985'),\n",
       " Category('Kategori:Indonesia dalam tahun 1986'),\n",
       " Category('Kategori:Indonesia dalam tahun 1987'),\n",
       " Category('Kategori:Indonesia dalam tahun 1988'),\n",
       " Category('Kategori:Indonesia dalam tahun 1989'),\n",
       " Category('Kategori:Indonesia dalam tahun 1990'),\n",
       " Category('Kategori:Indonesia dalam tahun 1991'),\n",
       " Category('Kategori:Indonesia dalam tahun 1992'),\n",
       " Category('Kategori:Indonesia dalam tahun 1993'),\n",
       " Category('Kategori:Indonesia dalam tahun 1994'),\n",
       " Category('Kategori:Indonesia dalam tahun 1995'),\n",
       " Category('Kategori:Indonesia dalam tahun 1996'),\n",
       " Category('Kategori:Indonesia dalam tahun 1997'),\n",
       " Category('Kategori:Indonesia dalam tahun 1998'),\n",
       " Category('Kategori:Pendirian tahun 1966 di indonesia'),\n",
       " Category('Kategori:Pendirian tahun 1967 di indonesia'),\n",
       " Category('Kategori:Pendirian tahun 1968 di indonesia'),\n",
       " Category('Kategori:Pendirian tahun 1969 di indonesia'),\n",
       " Category('Kategori:Pendirian tahun 1970 di indonesia'),\n",
       " Category('Kategori:Pendirian tahun 1971 di indonesia'),\n",
       " Category('Kategori:Pendirian tahun 1972 di indonesia'),\n",
       " Category('Kategori:Pendirian tahun 1973 di indonesia'),\n",
       " Category('Kategori:Pendirian tahun 1974 di indonesia'),\n",
       " Category('Kategori:Pendirian tahun 1975 di indonesia'),\n",
       " Category('Kategori:Pendirian tahun 1976 di indonesia'),\n",
       " Category('Kategori:Pendirian tahun 1977 di indonesia'),\n",
       " Category('Kategori:Pendirian tahun 1978 di indonesia'),\n",
       " Category('Kategori:Pendirian tahun 1979 di indonesia'),\n",
       " Category('Kategori:Pendirian tahun 1980 di indonesia'),\n",
       " Category('Kategori:Pendirian tahun 1981 di indonesia'),\n",
       " Category('Kategori:Pendirian tahun 1982 di indonesia'),\n",
       " Category('Kategori:Pendirian tahun 1983 di indonesia'),\n",
       " Category('Kategori:Pendirian tahun 1984 di indonesia'),\n",
       " Category('Kategori:Pendirian tahun 1985 di indonesia'),\n",
       " Category('Kategori:Pendirian tahun 1986 di indonesia'),\n",
       " Category('Kategori:Pendirian tahun 1987 di indonesia'),\n",
       " Category('Kategori:Pendirian tahun 1988 di indonesia'),\n",
       " Category('Kategori:Pendirian tahun 1989 di indonesia'),\n",
       " Category('Kategori:Pendirian tahun 1990 di indonesia'),\n",
       " Category('Kategori:Pendirian tahun 1991 di indonesia'),\n",
       " Category('Kategori:Pendirian tahun 1992 di indonesia'),\n",
       " Category('Kategori:Pendirian tahun 1993 di indonesia'),\n",
       " Category('Kategori:Pendirian tahun 1994 di indonesia'),\n",
       " Category('Kategori:Pendirian tahun 1995 di indonesia'),\n",
       " Category('Kategori:Pendirian tahun 1996 di indonesia'),\n",
       " Category('Kategori:Pendirian tahun 1997 di indonesia'),\n",
       " Category('Kategori:Pendirian tahun 1998 di indonesia')]"
      ]
     },
     "execution_count": 4,
     "metadata": {},
     "output_type": "execute_result"
    }
   ],
   "source": [
    "cats.pop() # Untuk menghapus kategori tokoh orde lama\n",
    "\n",
    "site = pywikibot.Site(\"id\", \"wikipedia\")\n",
    "cats += [pywikibot.Category(site, f'indonesia dalam tahun {tahun}') for tahun in range(1966,1999)]\n",
    "cats += [pywikibot.Category(site, f'pendirian tahun {tahun} di indonesia') for tahun in range(1966, 1999)]\n",
    "\n",
    "cats"
   ]
  },
  {
   "cell_type": "code",
   "execution_count": 5,
   "metadata": {},
   "outputs": [
    {
     "data": {
      "text/plain": [
       "412"
      ]
     },
     "execution_count": 5,
     "metadata": {},
     "output_type": "execute_result"
    }
   ],
   "source": [
    "articles = {article for cat in cats for article in cat.articles()}\n",
    "len(articles)"
   ]
  },
  {
   "cell_type": "markdown",
   "metadata": {},
   "source": [
    "Selanjutnya, tambahkan artikel yang berhubungan dengan templat bencana di Indonesia tahun ..."
   ]
  },
  {
   "cell_type": "code",
   "execution_count": 6,
   "metadata": {},
   "outputs": [],
   "source": [
    "templates = [\n",
    "    'Templat:Bencana di Indonesia tahun 1960-an',\n",
    "    'Templat:Bencana di Indonesia tahun 1970-an',\n",
    "    'Templat:Bencana di Indonesia tahun 1980-an',\n",
    "    'Templat:Bencana di Indonesia tahun 1990-an'\n",
    "]"
   ]
  },
  {
   "cell_type": "code",
   "execution_count": 7,
   "metadata": {},
   "outputs": [
    {
     "data": {
      "text/plain": [
       "461"
      ]
     },
     "execution_count": 7,
     "metadata": {},
     "output_type": "execute_result"
    }
   ],
   "source": [
    "site = pywikibot.Site(\"id\", \"wikipedia\")\n",
    "bencanas = {page for template in templates for page in pywikibot.Page(site, template).linkedPages()}\n",
    "\n",
    "articles = articles.union(bencanas)\n",
    "len(articles)"
   ]
  },
  {
   "cell_type": "markdown",
   "metadata": {},
   "source": [
    "Kemudian, untuk setiap artikel yang memiliki infobox, akan diparsing jenis infoboxnya"
   ]
  },
  {
   "cell_type": "code",
   "execution_count": 8,
   "metadata": {},
   "outputs": [],
   "source": [
    "def get_infobox(page):\n",
    "    if page.isRedirectPage() or not page.exists():\n",
    "        return\n",
    "    \n",
    "    wikitext = page.get()\n",
    "    wikicode = mwparserfromhell.parse(wikitext)\n",
    "\n",
    "    templates = wikicode.filter_templates()\n",
    "\n",
    "    for template in templates:\n",
    "        if template.name.strip().lower().startswith(\"infobox\") or template.name.strip().lower().startswith(\"kotak info\"):\n",
    "            return template.name.strip().lower(), template"
   ]
  },
  {
   "cell_type": "code",
   "execution_count": 9,
   "metadata": {},
   "outputs": [],
   "source": [
    "with open('all_data_orde_baru.csv', 'w', newline='', encoding='UTF-8') as file:\n",
    "    writer = csv.writer(file)\n",
    "    \n",
    "    writer.writerow([\"title\", \"jenis_infobox\", \"infobox\"])\n",
    "    \n",
    "    for article in articles:\n",
    "        infobox = get_infobox(article) or [None, None]\n",
    "        writer.writerow([article.title(), *infobox])"
   ]
  },
  {
   "cell_type": "code",
   "execution_count": 17,
   "metadata": {},
   "outputs": [
    {
     "data": {
      "text/plain": [
       "46"
      ]
     },
     "execution_count": 17,
     "metadata": {},
     "output_type": "execute_result"
    }
   ],
   "source": [
    "infoboxes = set()\n",
    "\n",
    "for article in articles:\n",
    "    infobox = get_infobox(article)\n",
    "    if infobox is not None:\n",
    "        infoboxes.add(infobox[0])\n",
    "\n",
    "len(infoboxes)"
   ]
  },
  {
   "cell_type": "code",
   "execution_count": 18,
   "metadata": {},
   "outputs": [
    {
     "data": {
      "text/plain": [
       "{'infobox',\n",
       " 'infobox aircraft occurrence',\n",
       " 'infobox airliner accident',\n",
       " 'infobox artifact',\n",
       " 'infobox award',\n",
       " 'infobox civil conflict',\n",
       " 'infobox civilian attack',\n",
       " 'infobox company',\n",
       " 'infobox document',\n",
       " 'infobox earthquake',\n",
       " 'infobox election',\n",
       " 'infobox film',\n",
       " 'infobox film awards',\n",
       " 'infobox former country',\n",
       " 'infobox games',\n",
       " 'infobox government agency',\n",
       " 'infobox governor',\n",
       " 'infobox grand prix motorcycle race report',\n",
       " 'infobox historical event',\n",
       " 'infobox indonesian political party',\n",
       " 'infobox international football competition',\n",
       " 'infobox konflik',\n",
       " 'infobox lembaga nonkementerian',\n",
       " 'infobox militant organization',\n",
       " 'infobox military conflict',\n",
       " 'infobox military unit',\n",
       " 'infobox news event',\n",
       " 'infobox officeholder',\n",
       " 'infobox organization',\n",
       " 'infobox partai politik indonesia',\n",
       " 'infobox person',\n",
       " 'infobox pm',\n",
       " 'infobox political party',\n",
       " 'infobox president',\n",
       " 'infobox prison',\n",
       " 'infobox public transit accident',\n",
       " 'infobox rail accident',\n",
       " 'infobox rail accident\\n<!-- disembunyikan sebagai komentar: |image = kecelakaan_kereta_api_ratu_jaya.jpg \\n|caption = gerbong kecelakaan kereta api ratu jaya-->',\n",
       " 'infobox settlement',\n",
       " 'infobox short story <!--see [[wikipedia:wikiproject novels]]-->',\n",
       " 'infobox song contest',\n",
       " 'infobox summit meeting',\n",
       " 'infobox terrorist attack',\n",
       " 'infobox un resolution',\n",
       " 'infobox vice president',\n",
       " 'kotak info pemegang jabatan'}"
      ]
     },
     "execution_count": 18,
     "metadata": {},
     "output_type": "execute_result"
    }
   ],
   "source": [
    "infoboxes"
   ]
  },
  {
   "cell_type": "code",
   "execution_count": 12,
   "metadata": {},
   "outputs": [],
   "source": [
    "def get_properties(infobox):\n",
    "    if infobox is None:\n",
    "        return\n",
    "    \n",
    "    infobox_template = mwparserfromhell.parse(infobox).filter_templates()\n",
    "    properties = {param.name.strip_code().strip(): param.value.strip_code().strip()\n",
    "                  for param in infobox_template[0].params}\n",
    "    \n",
    "    return properties"
   ]
  },
  {
   "cell_type": "code",
   "execution_count": 24,
   "metadata": {},
   "outputs": [],
   "source": [
    "def get_articles_per_infobox():\n",
    "    infoboxes_dict = {}\n",
    "    for article in articles:\n",
    "        infobox = get_infobox(article)\n",
    "        if infobox is not None:\n",
    "            infobox_type = infobox[0]\n",
    "            if infobox_type.startswith('infobox rail accident'):\n",
    "                infobox_type = 'infobox rail accident'\n",
    "            elif infobox_type.startswith('infobox short story'):\n",
    "                infobox_type = 'infobox short story'\n",
    "            elif infobox_type.startswith('kotak info pemegang jabatan'):\n",
    "                infobox_type = 'infobox_officeholder'\n",
    "            \n",
    "            if infobox_type not in infoboxes_dict:\n",
    "                infoboxes_dict[infobox_type] = []\n",
    "                \n",
    "            infoboxes_dict[infobox_type].append((article.title(), get_properties(infobox[1])))\n",
    "    \n",
    "    return infoboxes_dict"
   ]
  },
  {
   "cell_type": "code",
   "execution_count": 25,
   "metadata": {},
   "outputs": [],
   "source": [
    "articles_per_infobox = get_articles_per_infobox()"
   ]
  },
  {
   "cell_type": "code",
   "execution_count": null,
   "metadata": {},
   "outputs": [],
   "source": [
    "def complete_data(properties_list):\n",
    "    all_keys = set().union(*(properties.keys() for properties in properties_list))"
   ]
  }
 ],
 "metadata": {
  "kernelspec": {
   "display_name": ".env",
   "language": "python",
   "name": "python3"
  },
  "language_info": {
   "codemirror_mode": {
    "name": "ipython",
    "version": 3
   },
   "file_extension": ".py",
   "mimetype": "text/x-python",
   "name": "python",
   "nbconvert_exporter": "python",
   "pygments_lexer": "ipython3",
   "version": "3.10.10"
  }
 },
 "nbformat": 4,
 "nbformat_minor": 2
}
