{
 "cells": [
  {
   "cell_type": "markdown",
   "metadata": {},
   "source": [
    "# Setup environment"
   ]
  },
  {
   "cell_type": "code",
   "execution_count": 1,
   "metadata": {},
   "outputs": [
    {
     "name": "stdout",
     "output_type": "stream",
     "text": [
      "Requirement already satisfied: agraph-python==103.0.0 in .\\.env\\lib\\site-packages (103.0.0)\n",
      "Requirement already satisfied: iso8601<2.2.0,>=2.1.0 in .\\.env\\lib\\site-packages (from agraph-python==103.0.0) (2.1.0)\n",
      "Requirement already satisfied: pandas<3.0.0,>=2.0.0 in .\\.env\\lib\\site-packages (from agraph-python==103.0.0) (2.2.1)\n",
      "Requirement already satisfied: simplejson<3.20.0,>=3.19.0 in .\\.env\\lib\\site-packages (from agraph-python==103.0.0) (3.19.2)\n",
      "Requirement already satisfied: requests[socks]==2.26.0 in .\\.env\\lib\\site-packages (from agraph-python==103.0.0) (2.26.0)\n",
      "Requirement already satisfied: packaging<23.3.0,>=23.2.0 in .\\.env\\lib\\site-packages (from agraph-python==103.0.0) (23.2)\n",
      "Requirement already satisfied: idna<4,>=2.5 in .\\.env\\lib\\site-packages (from requests[socks]==2.26.0->agraph-python==103.0.0) (3.6)\n",
      "Requirement already satisfied: urllib3<1.27,>=1.21.1 in .\\.env\\lib\\site-packages (from requests[socks]==2.26.0->agraph-python==103.0.0) (1.26.18)\n",
      "Requirement already satisfied: charset-normalizer~=2.0.0 in .\\.env\\lib\\site-packages (from requests[socks]==2.26.0->agraph-python==103.0.0) (2.0.12)\n",
      "Requirement already satisfied: certifi>=2017.4.17 in .\\.env\\lib\\site-packages (from requests[socks]==2.26.0->agraph-python==103.0.0) (2024.2.2)\n",
      "Requirement already satisfied: PySocks!=1.5.7,>=1.5.6 in .\\.env\\lib\\site-packages (from requests[socks]==2.26.0->agraph-python==103.0.0) (1.7.1)\n",
      "Requirement already satisfied: pytz>=2020.1 in .\\.env\\lib\\site-packages (from pandas<3.0.0,>=2.0.0->agraph-python==103.0.0) (2024.1)\n",
      "Requirement already satisfied: numpy<2,>=1.22.4 in .\\.env\\lib\\site-packages (from pandas<3.0.0,>=2.0.0->agraph-python==103.0.0) (1.26.4)\n",
      "Requirement already satisfied: python-dateutil>=2.8.2 in .\\.env\\lib\\site-packages (from pandas<3.0.0,>=2.0.0->agraph-python==103.0.0) (2.9.0.post0)\n",
      "Requirement already satisfied: tzdata>=2022.7 in .\\.env\\lib\\site-packages (from pandas<3.0.0,>=2.0.0->agraph-python==103.0.0) (2024.1)\n",
      "Requirement already satisfied: six>=1.5 in .\\.env\\lib\\site-packages (from python-dateutil>=2.8.2->pandas<3.0.0,>=2.0.0->agraph-python==103.0.0) (1.16.0)\n"
     ]
    },
    {
     "name": "stderr",
     "output_type": "stream",
     "text": [
      "\n",
      "[notice] A new release of pip available: 22.3.1 -> 24.0\n",
      "[notice] To update, run: python.exe -m pip install --upgrade pip\n"
     ]
    }
   ],
   "source": [
    "!pip install agraph-python==103.0.0"
   ]
  },
  {
   "cell_type": "code",
   "execution_count": 72,
   "metadata": {},
   "outputs": [
    {
     "name": "stdout",
     "output_type": "stream",
     "text": [
      "Hostname: https://ag13s8z3wvmae0kr.allegrograph.cloud\n",
      "Port: 443\n",
      "Username: admin\n",
      "Password: YABVO0i1ydWjAm1J6sknwc\n"
     ]
    }
   ],
   "source": [
    "import os\n",
    "\n",
    "def setup_env_var(var_name, value, description):\n",
    "    os.environ[var_name] = value\n",
    "    print(\"{}: {}\".format(description, value))\n",
    "    \n",
    "setup_env_var('AGRAPH_HOST', 'https://ag13s8z3wvmae0kr.allegrograph.cloud', 'Hostname')\n",
    "setup_env_var('AGRAPH_PORT', '443', 'Port')\n",
    "setup_env_var('AGRAPH_USER', 'admin', 'Username')\n",
    "setup_env_var('AGRAPH_PASSWORD', 'YABVO0i1ydWjAm1J6sknwc', 'Password')"
   ]
  },
  {
   "cell_type": "code",
   "execution_count": 73,
   "metadata": {},
   "outputs": [
    {
     "name": "stdout",
     "output_type": "stream",
     "text": [
      "https://ag13s8z3wvmae0kr.allegrograph.cloud\n",
      "443\n",
      "admin\n",
      "YABVO0i1ydWjAm1J6sknwc\n"
     ]
    }
   ],
   "source": [
    "AGRAPH_HOST = os.environ.get('AGRAPH_HOST', 'localhost')\n",
    "AGRAPH_PORT = int(os.environ.get('AGRAPH_PORT', '10079'))\n",
    "AGRAPH_USER = os.environ.get('AGRAPH_USER', 'test')\n",
    "AGRAPH_PASSWORD = os.environ.get('AGRAPH_PASSWORD', 'xyzzy')\n",
    "print(AGRAPH_HOST)\n",
    "print(AGRAPH_PORT)\n",
    "print(AGRAPH_USER)\n",
    "print(AGRAPH_PASSWORD)"
   ]
  },
  {
   "cell_type": "markdown",
   "metadata": {},
   "source": [
    "# Run di local\n",
    "\n",
    "/home/ariiesaka/tmp/ag8.1.0/bin/agraph-control --config /home/ariiesaka/tmp/ag8.1.0/lib/agraph.cfg start\n",
    "\n",
    "/home/ariiesaka/tmp/ag8.1.0/bin/agraph-control --config /home/ariiesaka/tmp/ag8.1.0/lib/agraph.cfg stop"
   ]
  },
  {
   "cell_type": "code",
   "execution_count": 39,
   "metadata": {},
   "outputs": [
    {
     "name": "stdout",
     "output_type": "stream",
     "text": [
      "Hostname: localhost\n",
      "Port: 10035\n",
      "Username: admin\n",
      "Password: admin\n"
     ]
    }
   ],
   "source": [
    "import os\n",
    "\n",
    "def setup_env_var(var_name, value, description):\n",
    "    os.environ[var_name] = value\n",
    "    print(\"{}: {}\".format(description, value))\n",
    "    \n",
    "setup_env_var('AGRAPH_HOST', 'localhost', 'Hostname')\n",
    "setup_env_var('AGRAPH_PORT', '10035', 'Port')\n",
    "setup_env_var('AGRAPH_USER', 'admin', 'Username')\n",
    "setup_env_var('AGRAPH_PASSWORD', 'admin', 'Password')"
   ]
  },
  {
   "cell_type": "code",
   "execution_count": 40,
   "metadata": {},
   "outputs": [
    {
     "name": "stdout",
     "output_type": "stream",
     "text": [
      "localhost\n",
      "10035\n",
      "admin\n",
      "admin\n"
     ]
    }
   ],
   "source": [
    "AGRAPH_HOST = os.environ.get('AGRAPH_HOST', 'localhost')\n",
    "AGRAPH_PORT = int(os.environ.get('AGRAPH_PORT', '10079'))\n",
    "AGRAPH_USER = os.environ.get('AGRAPH_USER', 'test')\n",
    "AGRAPH_PASSWORD = os.environ.get('AGRAPH_PASSWORD', 'xyzzy')\n",
    "print(AGRAPH_HOST)\n",
    "print(AGRAPH_PORT)\n",
    "print(AGRAPH_USER)\n",
    "print(AGRAPH_PASSWORD)"
   ]
  },
  {
   "cell_type": "code",
   "execution_count": 41,
   "metadata": {},
   "outputs": [
    {
     "name": "stdout",
     "output_type": "stream",
     "text": [
      "Connecting to AllegroGraph server -- host:'localhost' port:10035\n",
      "Available catalogs:\n",
      "  - <root catalog>\n",
      "  - fedshard\n",
      "  - system\n",
      "[None, 'fedshard', 'system']\n"
     ]
    }
   ],
   "source": [
    "from franz.openrdf.sail.allegrographserver import AllegroGraphServer\n",
    "\n",
    "print(\"Connecting to AllegroGraph server --\",\n",
    "      \"host:'%s' port:%s\" % (AGRAPH_HOST, AGRAPH_PORT))\n",
    "server = AllegroGraphServer(AGRAPH_HOST, AGRAPH_PORT,\n",
    "                            AGRAPH_USER, AGRAPH_PASSWORD)\n",
    "print(\"Available catalogs:\")\n",
    "for cat_name in server.listCatalogs():\n",
    "    if cat_name is None:\n",
    "        print('  - <root catalog>')\n",
    "    else:\n",
    "        print('  - ' + str(cat_name))\n",
    "        \n",
    "print(server.listCatalogs())"
   ]
  },
  {
   "cell_type": "code",
   "execution_count": 42,
   "metadata": {},
   "outputs": [
    {
     "name": "stdout",
     "output_type": "stream",
     "text": [
      "Available repositories in catalog 'None':\n"
     ]
    }
   ],
   "source": [
    "catalog = server.openCatalog('')\n",
    "print(\"Available repositories in catalog '%s':\" % catalog.getName())\n",
    "for repo_name in catalog.listRepositories():\n",
    "    print('  - ' + repo_name)"
   ]
  },
  {
   "cell_type": "code",
   "execution_count": 74,
   "metadata": {},
   "outputs": [
    {
     "name": "stdout",
     "output_type": "stream",
     "text": [
      "101\n"
     ]
    }
   ],
   "source": [
    "from franz.openrdf.connect import ag_connect\n",
    "with ag_connect('indonesian-history', host=AGRAPH_HOST, port=AGRAPH_PORT,\n",
    "                user=AGRAPH_USER, password=AGRAPH_PASSWORD) as conn:\n",
    "    print (conn.size())"
   ]
  },
  {
   "cell_type": "code",
   "execution_count": 44,
   "metadata": {},
   "outputs": [],
   "source": [
    "from franz.openrdf.rio.rdfformat import RDFFormat\n",
    "\n",
    "conn.addFile('./indonesian-history.ttl', None, format=RDFFormat.TURTLE)"
   ]
  },
  {
   "cell_type": "code",
   "execution_count": 45,
   "metadata": {},
   "outputs": [
    {
     "data": {
      "text/plain": [
       "101"
      ]
     },
     "execution_count": 45,
     "metadata": {},
     "output_type": "execute_result"
    }
   ],
   "source": [
    "conn.size()"
   ]
  },
  {
   "cell_type": "markdown",
   "metadata": {},
   "source": [
    "# Melakukan query"
   ]
  },
  {
   "cell_type": "code",
   "execution_count": 80,
   "metadata": {},
   "outputs": [
    {
     "name": "stdout",
     "output_type": "stream",
     "text": [
      "-----------------------------------------\n",
      "| peristiwaLabel                        |\n",
      "=========================================\n",
      "| Pertempuran Bandung Lautan Api        |\n",
      "| Perundingan Roem Royen                |\n",
      "| Perjanjian Renville                   |\n",
      "| Peristiwa Rengasdengklok              |\n",
      "| Perang Padri                          |\n",
      "| Pembantaian Warga Tionghoa di Batavia |\n",
      "| Supersemar                            |\n",
      "| Peristiwa G30S/PKI                    |\n",
      "| Dekrit Presiden 5 Juli                |\n",
      "| Konferensi Meja Bundar                |\n",
      "| Serangan Umum 1 Maret                 |\n",
      "| Pemberontakan DI/TII                  |\n",
      "| Perjanjian Linggarjati                |\n",
      "| Pertempuran Surabaya                  |\n",
      "| Pertempuran Medan Area                |\n",
      "| Proklamasi Kemerdekaan Indonesia      |\n",
      "| Indonesia Dikuasai Jepang             |\n",
      "| Sumpah Pemuda                         |\n",
      "| Lahirnya Budi Utomo                   |\n",
      "| Kedatangan Bangsa Eropa               |\n",
      "-----------------------------------------\n"
     ]
    }
   ],
   "source": [
    "query = \"\"\"\n",
    "prefix ex: <http://example.com/>\n",
    "prefix rdf: <http://www.w3.org/1999/02/22-rdf-syntax-ns#>\n",
    "prefix rdfs: <http://www.w3.org/2000/01/rdf-schema#>\n",
    "prefix xsd: <http://www.w3.org/2001/XMLSchema#>\n",
    "\n",
    "SELECT DISTINCT ?peristiwaLabel\n",
    "    WHERE {\n",
    "        ?peristiwa rdf:type ex:Conflict ;\n",
    "            rdfs:label ?peristiwaLabel .\n",
    "    }\n",
    "    \"\"\"\n",
    "\n",
    "conn.executeTupleQuery(query, output=True)"
   ]
  },
  {
   "cell_type": "code",
   "execution_count": 81,
   "metadata": {},
   "outputs": [
    {
     "name": "stdout",
     "output_type": "stream",
     "text": [
      "\"Pertempuran Bandung Lautan Api\"\n",
      "\"Perundingan Roem Royen\"\n",
      "\"Perjanjian Renville\"\n",
      "\"Peristiwa Rengasdengklok\"\n",
      "\"Perang Padri\"\n",
      "\"Pembantaian Warga Tionghoa di Batavia\"\n",
      "\"Supersemar\"\n",
      "\"Peristiwa G30S/PKI\"\n",
      "\"Dekrit Presiden 5 Juli\"\n",
      "\"Konferensi Meja Bundar\"\n",
      "\"Serangan Umum 1 Maret\"\n",
      "\"Pemberontakan DI/TII\"\n",
      "\"Perjanjian Linggarjati\"\n",
      "\"Pertempuran Surabaya\"\n",
      "\"Pertempuran Medan Area\"\n",
      "\"Proklamasi Kemerdekaan Indonesia\"\n",
      "\"Indonesia Dikuasai Jepang\"\n",
      "\"Sumpah Pemuda\"\n",
      "\"Lahirnya Budi Utomo\"\n",
      "\"Kedatangan Bangsa Eropa\"\n"
     ]
    }
   ],
   "source": [
    "from franz.openrdf.query.query import QueryLanguage\n",
    "\n",
    "tuple_query = conn.prepareTupleQuery(QueryLanguage.SPARQL, query)\n",
    "result = tuple_query.evaluate()\n",
    "\n",
    "with result:\n",
    "   for binding_set in result:\n",
    "        print(binding_set.getValue(\"peristiwaLabel\"))"
   ]
  },
  {
   "cell_type": "markdown",
   "metadata": {},
   "source": [
    "curl --header \"Accept: application/json\" -d \"query=select * { ?s ?p ?o . }\" -d \"limit=10\" https://ag13s8z3wvmae0kr.allegrograph.cloud/repositories/indonesian-history/sparql"
   ]
  },
  {
   "cell_type": "code",
   "execution_count": 82,
   "metadata": {},
   "outputs": [
    {
     "name": "stdout",
     "output_type": "stream",
     "text": [
      "{'names': ['o', 'p', 's'], 'values': [['<http://example.com/Event>', '<http://www.w3.org/2000/01/rdf-schema#subClassOf>', '<http://example.com/Conflict>'], ['<http://example.com/Conflict>', '<http://www.w3.org/1999/02/22-rdf-syntax-ns#type>', '<http://example.com/KedatanganBangsaEropa>'], ['\"Kedatangan Bangsa Eropa\"', '<http://www.w3.org/2000/01/rdf-schema#label>', '<http://example.com/KedatanganBangsaEropa>'], ['\"1602\"^^<http://www.w3.org/2001/XMLSchema#integer>', '<http://example.com/tahun_peristiwa>', '<http://example.com/KedatanganBangsaEropa>'], ['\"-6.17511\"^^<http://www.w3.org/2001/XMLSchema#decimal>', '<http://example.com/latitude>', '<http://example.com/KedatanganBangsaEropa>'], ['\"106.865036\"^^<http://www.w3.org/2001/XMLSchema#decimal>', '<http://example.com/longitude>', '<http://example.com/KedatanganBangsaEropa>'], ['<http://example.com/Conflict>', '<http://www.w3.org/1999/02/22-rdf-syntax-ns#type>', '<http://example.com/LahirnyaBudiUtomo>'], ['\"Lahirnya Budi Utomo\"', '<http://www.w3.org/2000/01/rdf-schema#label>', '<http://example.com/LahirnyaBudiUtomo>'], ['\"1908\"^^<http://www.w3.org/2001/XMLSchema#integer>', '<http://example.com/tahun_peristiwa>', '<http://example.com/LahirnyaBudiUtomo>'], ['\"-6.186486\"^^<http://www.w3.org/2001/XMLSchema#decimal>', '<http://example.com/latitude>', '<http://example.com/LahirnyaBudiUtomo>']]}\n"
     ]
    }
   ],
   "source": [
    "import requests\n",
    "\n",
    "url = \"https://ag13s8z3wvmae0kr.allegrograph.cloud/repositories/indonesian-history/sparql\"\n",
    "headers = {\"Accept\": \"application/json\"}\n",
    "data = {\"query\": \"select * { ?s ?p ?o . }\", \"limit\": \"10\"}\n",
    "\n",
    "response = requests.post(url, headers=headers, data=data)\n",
    "\n",
    "print(response.json())"
   ]
  },
  {
   "cell_type": "markdown",
   "metadata": {},
   "source": [
    "curl --header \"Accept: application/json\" -d \"prefix ex: <http://example.com/> prefix rdf: <http://www.w3.org/1999/02/22-rdf-syntax-ns#> prefix rdfs: <http://www.w3.org/2000/01/rdf-schema#> prefix xsd: <http://www.w3.org/2001/XMLSchema#> SELECT DISTINCT ?peristiwaLabel WHERE { ?peristiwa rdf:type ex:Conflict ; rdfs:label ?peristiwaLabel . }\" -d \"limit=10\" https://ag13s8z3wvmae0kr.allegrograph.cloud/repositories/indonesian-history/sparql"
   ]
  },
  {
   "cell_type": "code",
   "execution_count": 84,
   "metadata": {},
   "outputs": [
    {
     "name": "stdout",
     "output_type": "stream",
     "text": [
      "{'names': ['peristiwaLabel'], 'values': [['\"Pertempuran Bandung Lautan Api\"'], ['\"Perundingan Roem Royen\"'], ['\"Perjanjian Renville\"'], ['\"Peristiwa Rengasdengklok\"'], ['\"Perang Padri\"'], ['\"Pembantaian Warga Tionghoa di Batavia\"'], ['\"Supersemar\"'], ['\"Peristiwa G30S/PKI\"'], ['\"Dekrit Presiden 5 Juli\"'], ['\"Konferensi Meja Bundar\"'], ['\"Serangan Umum 1 Maret\"'], ['\"Pemberontakan DI/TII\"'], ['\"Perjanjian Linggarjati\"'], ['\"Pertempuran Surabaya\"'], ['\"Pertempuran Medan Area\"'], ['\"Proklamasi Kemerdekaan Indonesia\"'], ['\"Indonesia Dikuasai Jepang\"'], ['\"Sumpah Pemuda\"'], ['\"Lahirnya Budi Utomo\"'], ['\"Kedatangan Bangsa Eropa\"']]}\n"
     ]
    },
    {
     "data": {
      "text/plain": [
       "20"
      ]
     },
     "execution_count": 84,
     "metadata": {},
     "output_type": "execute_result"
    }
   ],
   "source": [
    "url = \"https://ag13s8z3wvmae0kr.allegrograph.cloud/repositories/indonesian-history/sparql?reasoning=true\"\n",
    "headers = {\"Accept\": \"application/json\"}\n",
    "query = \"\"\"\n",
    "prefix ex: <http://example.com/>\n",
    "prefix rdf: <http://www.w3.org/1999/02/22-rdf-syntax-ns#>\n",
    "prefix rdfs: <http://www.w3.org/2000/01/rdf-schema#>\n",
    "prefix xsd: <http://www.w3.org/2001/XMLSchema#>\n",
    "\n",
    "SELECT DISTINCT ?peristiwaLabel\n",
    "    WHERE {\n",
    "        ?peristiwa rdf:type ex:Event ;\n",
    "            rdfs:label ?peristiwaLabel .\n",
    "    }\n",
    "    \"\"\"\n",
    "    \n",
    "data = {\"query\": query, \"reasoning\": True}\n",
    "\n",
    "response = requests.post(url, headers=headers, data=data)\n",
    "\n",
    "print(response.json())\n",
    "\n",
    "len(response.json()['values'])"
   ]
  },
  {
   "cell_type": "code",
   "execution_count": 62,
   "metadata": {},
   "outputs": [
    {
     "ename": "URLError",
     "evalue": "<urlopen error [SSL: SSLV3_ALERT_HANDSHAKE_FAILURE] sslv3 alert handshake failure (_ssl.c:997)>",
     "output_type": "error",
     "traceback": [
      "\u001b[1;31m---------------------------------------------------------------------------\u001b[0m",
      "\u001b[1;31mSSLError\u001b[0m                                  Traceback (most recent call last)",
      "File \u001b[1;32m~\\AppData\\Local\\Programs\\Python\\Python310\\lib\\urllib\\request.py:1348\u001b[0m, in \u001b[0;36mAbstractHTTPHandler.do_open\u001b[1;34m(self, http_class, req, **http_conn_args)\u001b[0m\n\u001b[0;32m   1347\u001b[0m \u001b[38;5;28;01mtry\u001b[39;00m:\n\u001b[1;32m-> 1348\u001b[0m     \u001b[43mh\u001b[49m\u001b[38;5;241;43m.\u001b[39;49m\u001b[43mrequest\u001b[49m\u001b[43m(\u001b[49m\u001b[43mreq\u001b[49m\u001b[38;5;241;43m.\u001b[39;49m\u001b[43mget_method\u001b[49m\u001b[43m(\u001b[49m\u001b[43m)\u001b[49m\u001b[43m,\u001b[49m\u001b[43m \u001b[49m\u001b[43mreq\u001b[49m\u001b[38;5;241;43m.\u001b[39;49m\u001b[43mselector\u001b[49m\u001b[43m,\u001b[49m\u001b[43m \u001b[49m\u001b[43mreq\u001b[49m\u001b[38;5;241;43m.\u001b[39;49m\u001b[43mdata\u001b[49m\u001b[43m,\u001b[49m\u001b[43m \u001b[49m\u001b[43mheaders\u001b[49m\u001b[43m,\u001b[49m\n\u001b[0;32m   1349\u001b[0m \u001b[43m              \u001b[49m\u001b[43mencode_chunked\u001b[49m\u001b[38;5;241;43m=\u001b[39;49m\u001b[43mreq\u001b[49m\u001b[38;5;241;43m.\u001b[39;49m\u001b[43mhas_header\u001b[49m\u001b[43m(\u001b[49m\u001b[38;5;124;43m'\u001b[39;49m\u001b[38;5;124;43mTransfer-encoding\u001b[39;49m\u001b[38;5;124;43m'\u001b[39;49m\u001b[43m)\u001b[49m\u001b[43m)\u001b[49m\n\u001b[0;32m   1350\u001b[0m \u001b[38;5;28;01mexcept\u001b[39;00m \u001b[38;5;167;01mOSError\u001b[39;00m \u001b[38;5;28;01mas\u001b[39;00m err: \u001b[38;5;66;03m# timeout error\u001b[39;00m\n",
      "File \u001b[1;32m~\\AppData\\Local\\Programs\\Python\\Python310\\lib\\http\\client.py:1282\u001b[0m, in \u001b[0;36mHTTPConnection.request\u001b[1;34m(self, method, url, body, headers, encode_chunked)\u001b[0m\n\u001b[0;32m   1281\u001b[0m \u001b[38;5;250m\u001b[39m\u001b[38;5;124;03m\"\"\"Send a complete request to the server.\"\"\"\u001b[39;00m\n\u001b[1;32m-> 1282\u001b[0m \u001b[38;5;28;43mself\u001b[39;49m\u001b[38;5;241;43m.\u001b[39;49m\u001b[43m_send_request\u001b[49m\u001b[43m(\u001b[49m\u001b[43mmethod\u001b[49m\u001b[43m,\u001b[49m\u001b[43m \u001b[49m\u001b[43murl\u001b[49m\u001b[43m,\u001b[49m\u001b[43m \u001b[49m\u001b[43mbody\u001b[49m\u001b[43m,\u001b[49m\u001b[43m \u001b[49m\u001b[43mheaders\u001b[49m\u001b[43m,\u001b[49m\u001b[43m \u001b[49m\u001b[43mencode_chunked\u001b[49m\u001b[43m)\u001b[49m\n",
      "File \u001b[1;32m~\\AppData\\Local\\Programs\\Python\\Python310\\lib\\http\\client.py:1328\u001b[0m, in \u001b[0;36mHTTPConnection._send_request\u001b[1;34m(self, method, url, body, headers, encode_chunked)\u001b[0m\n\u001b[0;32m   1327\u001b[0m     body \u001b[38;5;241m=\u001b[39m _encode(body, \u001b[38;5;124m'\u001b[39m\u001b[38;5;124mbody\u001b[39m\u001b[38;5;124m'\u001b[39m)\n\u001b[1;32m-> 1328\u001b[0m \u001b[38;5;28;43mself\u001b[39;49m\u001b[38;5;241;43m.\u001b[39;49m\u001b[43mendheaders\u001b[49m\u001b[43m(\u001b[49m\u001b[43mbody\u001b[49m\u001b[43m,\u001b[49m\u001b[43m \u001b[49m\u001b[43mencode_chunked\u001b[49m\u001b[38;5;241;43m=\u001b[39;49m\u001b[43mencode_chunked\u001b[49m\u001b[43m)\u001b[49m\n",
      "File \u001b[1;32m~\\AppData\\Local\\Programs\\Python\\Python310\\lib\\http\\client.py:1277\u001b[0m, in \u001b[0;36mHTTPConnection.endheaders\u001b[1;34m(self, message_body, encode_chunked)\u001b[0m\n\u001b[0;32m   1276\u001b[0m     \u001b[38;5;28;01mraise\u001b[39;00m CannotSendHeader()\n\u001b[1;32m-> 1277\u001b[0m \u001b[38;5;28;43mself\u001b[39;49m\u001b[38;5;241;43m.\u001b[39;49m\u001b[43m_send_output\u001b[49m\u001b[43m(\u001b[49m\u001b[43mmessage_body\u001b[49m\u001b[43m,\u001b[49m\u001b[43m \u001b[49m\u001b[43mencode_chunked\u001b[49m\u001b[38;5;241;43m=\u001b[39;49m\u001b[43mencode_chunked\u001b[49m\u001b[43m)\u001b[49m\n",
      "File \u001b[1;32m~\\AppData\\Local\\Programs\\Python\\Python310\\lib\\http\\client.py:1037\u001b[0m, in \u001b[0;36mHTTPConnection._send_output\u001b[1;34m(self, message_body, encode_chunked)\u001b[0m\n\u001b[0;32m   1036\u001b[0m \u001b[38;5;28;01mdel\u001b[39;00m \u001b[38;5;28mself\u001b[39m\u001b[38;5;241m.\u001b[39m_buffer[:]\n\u001b[1;32m-> 1037\u001b[0m \u001b[38;5;28;43mself\u001b[39;49m\u001b[38;5;241;43m.\u001b[39;49m\u001b[43msend\u001b[49m\u001b[43m(\u001b[49m\u001b[43mmsg\u001b[49m\u001b[43m)\u001b[49m\n\u001b[0;32m   1039\u001b[0m \u001b[38;5;28;01mif\u001b[39;00m message_body \u001b[38;5;129;01mis\u001b[39;00m \u001b[38;5;129;01mnot\u001b[39;00m \u001b[38;5;28;01mNone\u001b[39;00m:\n\u001b[0;32m   1040\u001b[0m \n\u001b[0;32m   1041\u001b[0m     \u001b[38;5;66;03m# create a consistent interface to message_body\u001b[39;00m\n",
      "File \u001b[1;32m~\\AppData\\Local\\Programs\\Python\\Python310\\lib\\http\\client.py:975\u001b[0m, in \u001b[0;36mHTTPConnection.send\u001b[1;34m(self, data)\u001b[0m\n\u001b[0;32m    974\u001b[0m \u001b[38;5;28;01mif\u001b[39;00m \u001b[38;5;28mself\u001b[39m\u001b[38;5;241m.\u001b[39mauto_open:\n\u001b[1;32m--> 975\u001b[0m     \u001b[38;5;28;43mself\u001b[39;49m\u001b[38;5;241;43m.\u001b[39;49m\u001b[43mconnect\u001b[49m\u001b[43m(\u001b[49m\u001b[43m)\u001b[49m\n\u001b[0;32m    976\u001b[0m \u001b[38;5;28;01melse\u001b[39;00m:\n",
      "File \u001b[1;32m~\\AppData\\Local\\Programs\\Python\\Python310\\lib\\http\\client.py:1454\u001b[0m, in \u001b[0;36mHTTPSConnection.connect\u001b[1;34m(self)\u001b[0m\n\u001b[0;32m   1452\u001b[0m     server_hostname \u001b[38;5;241m=\u001b[39m \u001b[38;5;28mself\u001b[39m\u001b[38;5;241m.\u001b[39mhost\n\u001b[1;32m-> 1454\u001b[0m \u001b[38;5;28mself\u001b[39m\u001b[38;5;241m.\u001b[39msock \u001b[38;5;241m=\u001b[39m \u001b[38;5;28;43mself\u001b[39;49m\u001b[38;5;241;43m.\u001b[39;49m\u001b[43m_context\u001b[49m\u001b[38;5;241;43m.\u001b[39;49m\u001b[43mwrap_socket\u001b[49m\u001b[43m(\u001b[49m\u001b[38;5;28;43mself\u001b[39;49m\u001b[38;5;241;43m.\u001b[39;49m\u001b[43msock\u001b[49m\u001b[43m,\u001b[49m\n\u001b[0;32m   1455\u001b[0m \u001b[43m                                      \u001b[49m\u001b[43mserver_hostname\u001b[49m\u001b[38;5;241;43m=\u001b[39;49m\u001b[43mserver_hostname\u001b[49m\u001b[43m)\u001b[49m\n",
      "File \u001b[1;32m~\\AppData\\Local\\Programs\\Python\\Python310\\lib\\ssl.py:513\u001b[0m, in \u001b[0;36mSSLContext.wrap_socket\u001b[1;34m(self, sock, server_side, do_handshake_on_connect, suppress_ragged_eofs, server_hostname, session)\u001b[0m\n\u001b[0;32m    507\u001b[0m \u001b[38;5;28;01mdef\u001b[39;00m \u001b[38;5;21mwrap_socket\u001b[39m(\u001b[38;5;28mself\u001b[39m, sock, server_side\u001b[38;5;241m=\u001b[39m\u001b[38;5;28;01mFalse\u001b[39;00m,\n\u001b[0;32m    508\u001b[0m                 do_handshake_on_connect\u001b[38;5;241m=\u001b[39m\u001b[38;5;28;01mTrue\u001b[39;00m,\n\u001b[0;32m    509\u001b[0m                 suppress_ragged_eofs\u001b[38;5;241m=\u001b[39m\u001b[38;5;28;01mTrue\u001b[39;00m,\n\u001b[0;32m    510\u001b[0m                 server_hostname\u001b[38;5;241m=\u001b[39m\u001b[38;5;28;01mNone\u001b[39;00m, session\u001b[38;5;241m=\u001b[39m\u001b[38;5;28;01mNone\u001b[39;00m):\n\u001b[0;32m    511\u001b[0m     \u001b[38;5;66;03m# SSLSocket class handles server_hostname encoding before it calls\u001b[39;00m\n\u001b[0;32m    512\u001b[0m     \u001b[38;5;66;03m# ctx._wrap_socket()\u001b[39;00m\n\u001b[1;32m--> 513\u001b[0m     \u001b[38;5;28;01mreturn\u001b[39;00m \u001b[38;5;28;43mself\u001b[39;49m\u001b[38;5;241;43m.\u001b[39;49m\u001b[43msslsocket_class\u001b[49m\u001b[38;5;241;43m.\u001b[39;49m\u001b[43m_create\u001b[49m\u001b[43m(\u001b[49m\n\u001b[0;32m    514\u001b[0m \u001b[43m        \u001b[49m\u001b[43msock\u001b[49m\u001b[38;5;241;43m=\u001b[39;49m\u001b[43msock\u001b[49m\u001b[43m,\u001b[49m\n\u001b[0;32m    515\u001b[0m \u001b[43m        \u001b[49m\u001b[43mserver_side\u001b[49m\u001b[38;5;241;43m=\u001b[39;49m\u001b[43mserver_side\u001b[49m\u001b[43m,\u001b[49m\n\u001b[0;32m    516\u001b[0m \u001b[43m        \u001b[49m\u001b[43mdo_handshake_on_connect\u001b[49m\u001b[38;5;241;43m=\u001b[39;49m\u001b[43mdo_handshake_on_connect\u001b[49m\u001b[43m,\u001b[49m\n\u001b[0;32m    517\u001b[0m \u001b[43m        \u001b[49m\u001b[43msuppress_ragged_eofs\u001b[49m\u001b[38;5;241;43m=\u001b[39;49m\u001b[43msuppress_ragged_eofs\u001b[49m\u001b[43m,\u001b[49m\n\u001b[0;32m    518\u001b[0m \u001b[43m        \u001b[49m\u001b[43mserver_hostname\u001b[49m\u001b[38;5;241;43m=\u001b[39;49m\u001b[43mserver_hostname\u001b[49m\u001b[43m,\u001b[49m\n\u001b[0;32m    519\u001b[0m \u001b[43m        \u001b[49m\u001b[43mcontext\u001b[49m\u001b[38;5;241;43m=\u001b[39;49m\u001b[38;5;28;43mself\u001b[39;49m\u001b[43m,\u001b[49m\n\u001b[0;32m    520\u001b[0m \u001b[43m        \u001b[49m\u001b[43msession\u001b[49m\u001b[38;5;241;43m=\u001b[39;49m\u001b[43msession\u001b[49m\n\u001b[0;32m    521\u001b[0m \u001b[43m    \u001b[49m\u001b[43m)\u001b[49m\n",
      "File \u001b[1;32m~\\AppData\\Local\\Programs\\Python\\Python310\\lib\\ssl.py:1071\u001b[0m, in \u001b[0;36mSSLSocket._create\u001b[1;34m(cls, sock, server_side, do_handshake_on_connect, suppress_ragged_eofs, server_hostname, context, session)\u001b[0m\n\u001b[0;32m   1070\u001b[0m             \u001b[38;5;28;01mraise\u001b[39;00m \u001b[38;5;167;01mValueError\u001b[39;00m(\u001b[38;5;124m\"\u001b[39m\u001b[38;5;124mdo_handshake_on_connect should not be specified for non-blocking sockets\u001b[39m\u001b[38;5;124m\"\u001b[39m)\n\u001b[1;32m-> 1071\u001b[0m         \u001b[38;5;28;43mself\u001b[39;49m\u001b[38;5;241;43m.\u001b[39;49m\u001b[43mdo_handshake\u001b[49m\u001b[43m(\u001b[49m\u001b[43m)\u001b[49m\n\u001b[0;32m   1072\u001b[0m \u001b[38;5;28;01mexcept\u001b[39;00m (\u001b[38;5;167;01mOSError\u001b[39;00m, \u001b[38;5;167;01mValueError\u001b[39;00m):\n",
      "File \u001b[1;32m~\\AppData\\Local\\Programs\\Python\\Python310\\lib\\ssl.py:1342\u001b[0m, in \u001b[0;36mSSLSocket.do_handshake\u001b[1;34m(self, block)\u001b[0m\n\u001b[0;32m   1341\u001b[0m         \u001b[38;5;28mself\u001b[39m\u001b[38;5;241m.\u001b[39msettimeout(\u001b[38;5;28;01mNone\u001b[39;00m)\n\u001b[1;32m-> 1342\u001b[0m     \u001b[38;5;28;43mself\u001b[39;49m\u001b[38;5;241;43m.\u001b[39;49m\u001b[43m_sslobj\u001b[49m\u001b[38;5;241;43m.\u001b[39;49m\u001b[43mdo_handshake\u001b[49m\u001b[43m(\u001b[49m\u001b[43m)\u001b[49m\n\u001b[0;32m   1343\u001b[0m \u001b[38;5;28;01mfinally\u001b[39;00m:\n",
      "\u001b[1;31mSSLError\u001b[0m: [SSL: SSLV3_ALERT_HANDSHAKE_FAILURE] sslv3 alert handshake failure (_ssl.c:997)",
      "\nDuring handling of the above exception, another exception occurred:\n",
      "\u001b[1;31mURLError\u001b[0m                                  Traceback (most recent call last)",
      "Cell \u001b[1;32mIn[62], line 20\u001b[0m\n\u001b[0;32m     18\u001b[0m sparql\u001b[38;5;241m.\u001b[39maddCustomHttpHeader(\u001b[38;5;124m\"\u001b[39m\u001b[38;5;124mAccept\u001b[39m\u001b[38;5;124m\"\u001b[39m, \u001b[38;5;124m\"\u001b[39m\u001b[38;5;124mapplication/json\u001b[39m\u001b[38;5;124m\"\u001b[39m)\n\u001b[0;32m     19\u001b[0m sparql\u001b[38;5;241m.\u001b[39msetReturnFormat(JSON)\n\u001b[1;32m---> 20\u001b[0m results \u001b[38;5;241m=\u001b[39m \u001b[43msparql\u001b[49m\u001b[38;5;241;43m.\u001b[39;49m\u001b[43mquery\u001b[49m\u001b[43m(\u001b[49m\u001b[43m)\u001b[49m\u001b[38;5;241m.\u001b[39mconvert()\n\u001b[0;32m     22\u001b[0m \u001b[38;5;28mprint\u001b[39m(results)\n",
      "File \u001b[1;32md:\\kuliah\\semester 8\\ta\\allegrograph\\.env\\lib\\site-packages\\SPARQLWrapper\\Wrapper.py:960\u001b[0m, in \u001b[0;36mSPARQLWrapper.query\u001b[1;34m(self)\u001b[0m\n\u001b[0;32m    942\u001b[0m \u001b[38;5;28;01mdef\u001b[39;00m \u001b[38;5;21mquery\u001b[39m(\u001b[38;5;28mself\u001b[39m) \u001b[38;5;241m-\u001b[39m\u001b[38;5;241m>\u001b[39m \u001b[38;5;124m\"\u001b[39m\u001b[38;5;124mQueryResult\u001b[39m\u001b[38;5;124m\"\u001b[39m:\n\u001b[0;32m    943\u001b[0m \u001b[38;5;250m    \u001b[39m\u001b[38;5;124;03m\"\"\"\u001b[39;00m\n\u001b[0;32m    944\u001b[0m \u001b[38;5;124;03m    Execute the query.\u001b[39;00m\n\u001b[0;32m    945\u001b[0m \u001b[38;5;124;03m    Exceptions can be raised if either the URI is wrong or the HTTP sends back an error (this is also the\u001b[39;00m\n\u001b[1;32m   (...)\u001b[0m\n\u001b[0;32m    958\u001b[0m \u001b[38;5;124;03m    :rtype: :class:`QueryResult` instance\u001b[39;00m\n\u001b[0;32m    959\u001b[0m \u001b[38;5;124;03m    \"\"\"\u001b[39;00m\n\u001b[1;32m--> 960\u001b[0m     \u001b[38;5;28;01mreturn\u001b[39;00m QueryResult(\u001b[38;5;28;43mself\u001b[39;49m\u001b[38;5;241;43m.\u001b[39;49m\u001b[43m_query\u001b[49m\u001b[43m(\u001b[49m\u001b[43m)\u001b[49m)\n",
      "File \u001b[1;32md:\\kuliah\\semester 8\\ta\\allegrograph\\.env\\lib\\site-packages\\SPARQLWrapper\\Wrapper.py:926\u001b[0m, in \u001b[0;36mSPARQLWrapper._query\u001b[1;34m(self)\u001b[0m\n\u001b[0;32m    924\u001b[0m         response \u001b[38;5;241m=\u001b[39m urlopener(request, timeout\u001b[38;5;241m=\u001b[39m\u001b[38;5;28mself\u001b[39m\u001b[38;5;241m.\u001b[39mtimeout)\n\u001b[0;32m    925\u001b[0m     \u001b[38;5;28;01melse\u001b[39;00m:\n\u001b[1;32m--> 926\u001b[0m         response \u001b[38;5;241m=\u001b[39m \u001b[43murlopener\u001b[49m\u001b[43m(\u001b[49m\u001b[43mrequest\u001b[49m\u001b[43m)\u001b[49m\n\u001b[0;32m    927\u001b[0m     \u001b[38;5;28;01mreturn\u001b[39;00m response, \u001b[38;5;28mself\u001b[39m\u001b[38;5;241m.\u001b[39mreturnFormat\n\u001b[0;32m    928\u001b[0m \u001b[38;5;28;01mexcept\u001b[39;00m urllib\u001b[38;5;241m.\u001b[39merror\u001b[38;5;241m.\u001b[39mHTTPError \u001b[38;5;28;01mas\u001b[39;00m e:\n",
      "File \u001b[1;32m~\\AppData\\Local\\Programs\\Python\\Python310\\lib\\urllib\\request.py:216\u001b[0m, in \u001b[0;36murlopen\u001b[1;34m(url, data, timeout, cafile, capath, cadefault, context)\u001b[0m\n\u001b[0;32m    214\u001b[0m \u001b[38;5;28;01melse\u001b[39;00m:\n\u001b[0;32m    215\u001b[0m     opener \u001b[38;5;241m=\u001b[39m _opener\n\u001b[1;32m--> 216\u001b[0m \u001b[38;5;28;01mreturn\u001b[39;00m \u001b[43mopener\u001b[49m\u001b[38;5;241;43m.\u001b[39;49m\u001b[43mopen\u001b[49m\u001b[43m(\u001b[49m\u001b[43murl\u001b[49m\u001b[43m,\u001b[49m\u001b[43m \u001b[49m\u001b[43mdata\u001b[49m\u001b[43m,\u001b[49m\u001b[43m \u001b[49m\u001b[43mtimeout\u001b[49m\u001b[43m)\u001b[49m\n",
      "File \u001b[1;32m~\\AppData\\Local\\Programs\\Python\\Python310\\lib\\urllib\\request.py:519\u001b[0m, in \u001b[0;36mOpenerDirector.open\u001b[1;34m(self, fullurl, data, timeout)\u001b[0m\n\u001b[0;32m    516\u001b[0m     req \u001b[38;5;241m=\u001b[39m meth(req)\n\u001b[0;32m    518\u001b[0m sys\u001b[38;5;241m.\u001b[39maudit(\u001b[38;5;124m'\u001b[39m\u001b[38;5;124murllib.Request\u001b[39m\u001b[38;5;124m'\u001b[39m, req\u001b[38;5;241m.\u001b[39mfull_url, req\u001b[38;5;241m.\u001b[39mdata, req\u001b[38;5;241m.\u001b[39mheaders, req\u001b[38;5;241m.\u001b[39mget_method())\n\u001b[1;32m--> 519\u001b[0m response \u001b[38;5;241m=\u001b[39m \u001b[38;5;28;43mself\u001b[39;49m\u001b[38;5;241;43m.\u001b[39;49m\u001b[43m_open\u001b[49m\u001b[43m(\u001b[49m\u001b[43mreq\u001b[49m\u001b[43m,\u001b[49m\u001b[43m \u001b[49m\u001b[43mdata\u001b[49m\u001b[43m)\u001b[49m\n\u001b[0;32m    521\u001b[0m \u001b[38;5;66;03m# post-process response\u001b[39;00m\n\u001b[0;32m    522\u001b[0m meth_name \u001b[38;5;241m=\u001b[39m protocol\u001b[38;5;241m+\u001b[39m\u001b[38;5;124m\"\u001b[39m\u001b[38;5;124m_response\u001b[39m\u001b[38;5;124m\"\u001b[39m\n",
      "File \u001b[1;32m~\\AppData\\Local\\Programs\\Python\\Python310\\lib\\urllib\\request.py:536\u001b[0m, in \u001b[0;36mOpenerDirector._open\u001b[1;34m(self, req, data)\u001b[0m\n\u001b[0;32m    533\u001b[0m     \u001b[38;5;28;01mreturn\u001b[39;00m result\n\u001b[0;32m    535\u001b[0m protocol \u001b[38;5;241m=\u001b[39m req\u001b[38;5;241m.\u001b[39mtype\n\u001b[1;32m--> 536\u001b[0m result \u001b[38;5;241m=\u001b[39m \u001b[38;5;28;43mself\u001b[39;49m\u001b[38;5;241;43m.\u001b[39;49m\u001b[43m_call_chain\u001b[49m\u001b[43m(\u001b[49m\u001b[38;5;28;43mself\u001b[39;49m\u001b[38;5;241;43m.\u001b[39;49m\u001b[43mhandle_open\u001b[49m\u001b[43m,\u001b[49m\u001b[43m \u001b[49m\u001b[43mprotocol\u001b[49m\u001b[43m,\u001b[49m\u001b[43m \u001b[49m\u001b[43mprotocol\u001b[49m\u001b[43m \u001b[49m\u001b[38;5;241;43m+\u001b[39;49m\n\u001b[0;32m    537\u001b[0m \u001b[43m                          \u001b[49m\u001b[38;5;124;43m'\u001b[39;49m\u001b[38;5;124;43m_open\u001b[39;49m\u001b[38;5;124;43m'\u001b[39;49m\u001b[43m,\u001b[49m\u001b[43m \u001b[49m\u001b[43mreq\u001b[49m\u001b[43m)\u001b[49m\n\u001b[0;32m    538\u001b[0m \u001b[38;5;28;01mif\u001b[39;00m result:\n\u001b[0;32m    539\u001b[0m     \u001b[38;5;28;01mreturn\u001b[39;00m result\n",
      "File \u001b[1;32m~\\AppData\\Local\\Programs\\Python\\Python310\\lib\\urllib\\request.py:496\u001b[0m, in \u001b[0;36mOpenerDirector._call_chain\u001b[1;34m(self, chain, kind, meth_name, *args)\u001b[0m\n\u001b[0;32m    494\u001b[0m \u001b[38;5;28;01mfor\u001b[39;00m handler \u001b[38;5;129;01min\u001b[39;00m handlers:\n\u001b[0;32m    495\u001b[0m     func \u001b[38;5;241m=\u001b[39m \u001b[38;5;28mgetattr\u001b[39m(handler, meth_name)\n\u001b[1;32m--> 496\u001b[0m     result \u001b[38;5;241m=\u001b[39m \u001b[43mfunc\u001b[49m\u001b[43m(\u001b[49m\u001b[38;5;241;43m*\u001b[39;49m\u001b[43margs\u001b[49m\u001b[43m)\u001b[49m\n\u001b[0;32m    497\u001b[0m     \u001b[38;5;28;01mif\u001b[39;00m result \u001b[38;5;129;01mis\u001b[39;00m \u001b[38;5;129;01mnot\u001b[39;00m \u001b[38;5;28;01mNone\u001b[39;00m:\n\u001b[0;32m    498\u001b[0m         \u001b[38;5;28;01mreturn\u001b[39;00m result\n",
      "File \u001b[1;32m~\\AppData\\Local\\Programs\\Python\\Python310\\lib\\urllib\\request.py:1391\u001b[0m, in \u001b[0;36mHTTPSHandler.https_open\u001b[1;34m(self, req)\u001b[0m\n\u001b[0;32m   1390\u001b[0m \u001b[38;5;28;01mdef\u001b[39;00m \u001b[38;5;21mhttps_open\u001b[39m(\u001b[38;5;28mself\u001b[39m, req):\n\u001b[1;32m-> 1391\u001b[0m     \u001b[38;5;28;01mreturn\u001b[39;00m \u001b[38;5;28;43mself\u001b[39;49m\u001b[38;5;241;43m.\u001b[39;49m\u001b[43mdo_open\u001b[49m\u001b[43m(\u001b[49m\u001b[43mhttp\u001b[49m\u001b[38;5;241;43m.\u001b[39;49m\u001b[43mclient\u001b[49m\u001b[38;5;241;43m.\u001b[39;49m\u001b[43mHTTPSConnection\u001b[49m\u001b[43m,\u001b[49m\u001b[43m \u001b[49m\u001b[43mreq\u001b[49m\u001b[43m,\u001b[49m\n\u001b[0;32m   1392\u001b[0m \u001b[43m        \u001b[49m\u001b[43mcontext\u001b[49m\u001b[38;5;241;43m=\u001b[39;49m\u001b[38;5;28;43mself\u001b[39;49m\u001b[38;5;241;43m.\u001b[39;49m\u001b[43m_context\u001b[49m\u001b[43m,\u001b[49m\u001b[43m \u001b[49m\u001b[43mcheck_hostname\u001b[49m\u001b[38;5;241;43m=\u001b[39;49m\u001b[38;5;28;43mself\u001b[39;49m\u001b[38;5;241;43m.\u001b[39;49m\u001b[43m_check_hostname\u001b[49m\u001b[43m)\u001b[49m\n",
      "File \u001b[1;32m~\\AppData\\Local\\Programs\\Python\\Python310\\lib\\urllib\\request.py:1351\u001b[0m, in \u001b[0;36mAbstractHTTPHandler.do_open\u001b[1;34m(self, http_class, req, **http_conn_args)\u001b[0m\n\u001b[0;32m   1348\u001b[0m         h\u001b[38;5;241m.\u001b[39mrequest(req\u001b[38;5;241m.\u001b[39mget_method(), req\u001b[38;5;241m.\u001b[39mselector, req\u001b[38;5;241m.\u001b[39mdata, headers,\n\u001b[0;32m   1349\u001b[0m                   encode_chunked\u001b[38;5;241m=\u001b[39mreq\u001b[38;5;241m.\u001b[39mhas_header(\u001b[38;5;124m'\u001b[39m\u001b[38;5;124mTransfer-encoding\u001b[39m\u001b[38;5;124m'\u001b[39m))\n\u001b[0;32m   1350\u001b[0m     \u001b[38;5;28;01mexcept\u001b[39;00m \u001b[38;5;167;01mOSError\u001b[39;00m \u001b[38;5;28;01mas\u001b[39;00m err: \u001b[38;5;66;03m# timeout error\u001b[39;00m\n\u001b[1;32m-> 1351\u001b[0m         \u001b[38;5;28;01mraise\u001b[39;00m URLError(err)\n\u001b[0;32m   1352\u001b[0m     r \u001b[38;5;241m=\u001b[39m h\u001b[38;5;241m.\u001b[39mgetresponse()\n\u001b[0;32m   1353\u001b[0m \u001b[38;5;28;01mexcept\u001b[39;00m:\n",
      "\u001b[1;31mURLError\u001b[0m: <urlopen error [SSL: SSLV3_ALERT_HANDSHAKE_FAILURE] sslv3 alert handshake failure (_ssl.c:997)>"
     ]
    }
   ],
   "source": [
    "from SPARQLWrapper import SPARQLWrapper, JSON, POST, DIGEST\n",
    "\n",
    "# URL endpoint SPARQL Anda\n",
    "sparql = SPARQLWrapper(\"https://ag13s8z3wvmae0kr.allegrograph.cloud/repositories/indonesian-history/sparql\")\n",
    "# sparql = SPARQLWrapper(\"http://localhost:10035/repositories/indonesian-history/sparql\")\n",
    "\n",
    "# Query SPARQL Anda\n",
    "sparql.setQuery(\"\"\"\n",
    "    SELECT *\n",
    "    WHERE {\n",
    "        ?s ?p ?o.\n",
    "    }\n",
    "    LIMIT 10\n",
    "\"\"\")\n",
    "\n",
    "sparql.setHTTPAuth(DIGEST)\n",
    "sparql.setMethod(POST)\n",
    "sparql.addCustomHttpHeader(\"Accept\", \"application/json\")\n",
    "sparql.setReturnFormat(JSON)\n",
    "results = sparql.query().convert()\n",
    "\n",
    "print(results)\n"
   ]
  }
 ],
 "metadata": {
  "kernelspec": {
   "display_name": ".env",
   "language": "python",
   "name": "python3"
  },
  "language_info": {
   "codemirror_mode": {
    "name": "ipython",
    "version": 3
   },
   "file_extension": ".py",
   "mimetype": "text/x-python",
   "name": "python",
   "nbconvert_exporter": "python",
   "pygments_lexer": "ipython3",
   "version": "3.10.10"
  }
 },
 "nbformat": 4,
 "nbformat_minor": 2
}
